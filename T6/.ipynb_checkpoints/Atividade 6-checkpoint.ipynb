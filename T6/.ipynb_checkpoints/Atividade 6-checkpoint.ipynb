{
 "cells": [
  {
   "cell_type": "markdown",
   "metadata": {},
   "source": [
    "# Análise Descritiva Bivariada\n",
    "Nessa atividade, vocês irão praticar os conceitos de análise descritiva bivariada. Ao final dessa atividade, o aluno deverá:\n",
    "\n",
    "- apresentar tabelas de contingência (frequências absolutas e relativas) para resumir dados de duas variáveis qualitativas\n",
    "- identificar o tipo de gráfico apropriado para representar a associação entre duas variáveis de acordo com os seus tipos e ser capaz de produzir esses gráficos no R ou em algum software."
   ]
  },
  {
   "cell_type": "markdown",
   "metadata": {},
   "source": [
    "### Leitura dos dados"
   ]
  },
  {
   "cell_type": "code",
   "execution_count": 1,
   "metadata": {},
   "outputs": [
    {
     "data": {
      "text/html": [
       "'Quantidade de linhas:'"
      ],
      "text/latex": [
       "'Quantidade de linhas:'"
      ],
      "text/markdown": [
       "'Quantidade de linhas:'"
      ],
      "text/plain": [
       "[1] \"Quantidade de linhas:\""
      ]
     },
     "metadata": {},
     "output_type": "display_data"
    },
    {
     "data": {
      "text/html": [
       "20000"
      ],
      "text/latex": [
       "20000"
      ],
      "text/markdown": [
       "20000"
      ],
      "text/plain": [
       "[1] 20000"
      ]
     },
     "metadata": {},
     "output_type": "display_data"
    },
    {
     "data": {
      "text/html": [
       "'Quantidade de variáveis:'"
      ],
      "text/latex": [
       "'Quantidade de variáveis:'"
      ],
      "text/markdown": [
       "'Quantidade de variáveis:'"
      ],
      "text/plain": [
       "[1] \"Quantidade de variáveis:\""
      ]
     },
     "metadata": {},
     "output_type": "display_data"
    },
    {
     "data": {
      "text/html": [
       "9"
      ],
      "text/latex": [
       "9"
      ],
      "text/markdown": [
       "9"
      ],
      "text/plain": [
       "[1] 9"
      ]
     },
     "metadata": {},
     "output_type": "display_data"
    }
   ],
   "source": [
    "source(\"http://www.openintro.org/stat/data/cdc.R\")\n",
    "\n",
    "'Quantidade de linhas:'\n",
    "nrow(cdc)\n",
    "\n",
    "'Quantidade de variáveis:'\n",
    "length(cdc)"
   ]
  },
  {
   "cell_type": "code",
   "execution_count": 2,
   "metadata": {},
   "outputs": [
    {
     "data": {
      "text/html": [
       "<table>\n",
       "<thead><tr><th scope=col>genhlth</th><th scope=col>exerany</th><th scope=col>hlthplan</th><th scope=col>smoke100</th><th scope=col>height</th><th scope=col>weight</th><th scope=col>wtdesire</th><th scope=col>age</th><th scope=col>gender</th></tr></thead>\n",
       "<tbody>\n",
       "\t<tr><td>good     </td><td>0        </td><td>1        </td><td>0        </td><td>70       </td><td>175      </td><td>175      </td><td>77       </td><td>m        </td></tr>\n",
       "\t<tr><td>good     </td><td>0        </td><td>1        </td><td>1        </td><td>64       </td><td>125      </td><td>115      </td><td>33       </td><td>f        </td></tr>\n",
       "\t<tr><td>good     </td><td>1        </td><td>1        </td><td>1        </td><td>60       </td><td>105      </td><td>105      </td><td>49       </td><td>f        </td></tr>\n",
       "\t<tr><td>good     </td><td>1        </td><td>1        </td><td>0        </td><td>66       </td><td>132      </td><td>124      </td><td>42       </td><td>f        </td></tr>\n",
       "\t<tr><td>very good</td><td>0        </td><td>1        </td><td>0        </td><td>61       </td><td>150      </td><td>130      </td><td>55       </td><td>f        </td></tr>\n",
       "\t<tr><td>very good</td><td>1        </td><td>1        </td><td>0        </td><td>64       </td><td>114      </td><td>114      </td><td>55       </td><td>f        </td></tr>\n",
       "</tbody>\n",
       "</table>\n"
      ],
      "text/latex": [
       "\\begin{tabular}{r|lllllllll}\n",
       " genhlth & exerany & hlthplan & smoke100 & height & weight & wtdesire & age & gender\\\\\n",
       "\\hline\n",
       "\t good      & 0         & 1         & 0         & 70        & 175       & 175       & 77        & m        \\\\\n",
       "\t good      & 0         & 1         & 1         & 64        & 125       & 115       & 33        & f        \\\\\n",
       "\t good      & 1         & 1         & 1         & 60        & 105       & 105       & 49        & f        \\\\\n",
       "\t good      & 1         & 1         & 0         & 66        & 132       & 124       & 42        & f        \\\\\n",
       "\t very good & 0         & 1         & 0         & 61        & 150       & 130       & 55        & f        \\\\\n",
       "\t very good & 1         & 1         & 0         & 64        & 114       & 114       & 55        & f        \\\\\n",
       "\\end{tabular}\n"
      ],
      "text/markdown": [
       "\n",
       "genhlth | exerany | hlthplan | smoke100 | height | weight | wtdesire | age | gender | \n",
       "|---|---|---|---|---|---|\n",
       "| good      | 0         | 1         | 0         | 70        | 175       | 175       | 77        | m         | \n",
       "| good      | 0         | 1         | 1         | 64        | 125       | 115       | 33        | f         | \n",
       "| good      | 1         | 1         | 1         | 60        | 105       | 105       | 49        | f         | \n",
       "| good      | 1         | 1         | 0         | 66        | 132       | 124       | 42        | f         | \n",
       "| very good | 0         | 1         | 0         | 61        | 150       | 130       | 55        | f         | \n",
       "| very good | 1         | 1         | 0         | 64        | 114       | 114       | 55        | f         | \n",
       "\n",
       "\n"
      ],
      "text/plain": [
       "  genhlth   exerany hlthplan smoke100 height weight wtdesire age gender\n",
       "1 good      0       1        0        70     175    175      77  m     \n",
       "2 good      0       1        1        64     125    115      33  f     \n",
       "3 good      1       1        1        60     105    105      49  f     \n",
       "4 good      1       1        0        66     132    124      42  f     \n",
       "5 very good 0       1        0        61     150    130      55  f     \n",
       "6 very good 1       1        0        64     114    114      55  f     "
      ]
     },
     "metadata": {},
     "output_type": "display_data"
    }
   ],
   "source": [
    "head(cdc)"
   ]
  },
  {
   "cell_type": "markdown",
   "metadata": {},
   "source": [
    "## Questões\n",
    "1. Considere as variáveis genhlth e exerany.\n",
    "\n",
    "a) Qual o tipo dessas variáveis? Eles estão representados de maneira correta no data frame?"
   ]
  },
  {
   "cell_type": "code",
   "execution_count": 28,
   "metadata": {},
   "outputs": [
    {
     "data": {
      "text/html": [
       "<dl>\n",
       "\t<dt>$genhlth</dt>\n",
       "\t\t<dd>'factor'</dd>\n",
       "\t<dt>$exerany</dt>\n",
       "\t\t<dd>'numeric'</dd>\n",
       "\t<dt>$hlthplan</dt>\n",
       "\t\t<dd>'numeric'</dd>\n",
       "\t<dt>$smoke100</dt>\n",
       "\t\t<dd>'numeric'</dd>\n",
       "\t<dt>$height</dt>\n",
       "\t\t<dd>'numeric'</dd>\n",
       "\t<dt>$weight</dt>\n",
       "\t\t<dd>'integer'</dd>\n",
       "\t<dt>$wtdesire</dt>\n",
       "\t\t<dd>'integer'</dd>\n",
       "\t<dt>$age</dt>\n",
       "\t\t<dd>'integer'</dd>\n",
       "\t<dt>$gender</dt>\n",
       "\t\t<dd>'factor'</dd>\n",
       "\t<dt>$weight_kg</dt>\n",
       "\t\t<dd>'numeric'</dd>\n",
       "\t<dt>$height_m</dt>\n",
       "\t\t<dd>'numeric'</dd>\n",
       "\t<dt>$imc</dt>\n",
       "\t\t<dd>'numeric'</dd>\n",
       "</dl>\n"
      ],
      "text/latex": [
       "\\begin{description}\n",
       "\\item[\\$genhlth] 'factor'\n",
       "\\item[\\$exerany] 'numeric'\n",
       "\\item[\\$hlthplan] 'numeric'\n",
       "\\item[\\$smoke100] 'numeric'\n",
       "\\item[\\$height] 'numeric'\n",
       "\\item[\\$weight] 'integer'\n",
       "\\item[\\$wtdesire] 'integer'\n",
       "\\item[\\$age] 'integer'\n",
       "\\item[\\$gender] 'factor'\n",
       "\\item[\\$weight\\_kg] 'numeric'\n",
       "\\item[\\$height\\_m] 'numeric'\n",
       "\\item[\\$imc] 'numeric'\n",
       "\\end{description}\n"
      ],
      "text/markdown": [
       "$genhlth\n",
       ":   'factor'\n",
       "$exerany\n",
       ":   'numeric'\n",
       "$hlthplan\n",
       ":   'numeric'\n",
       "$smoke100\n",
       ":   'numeric'\n",
       "$height\n",
       ":   'numeric'\n",
       "$weight\n",
       ":   'integer'\n",
       "$wtdesire\n",
       ":   'integer'\n",
       "$age\n",
       ":   'integer'\n",
       "$gender\n",
       ":   'factor'\n",
       "$weight_kg\n",
       ":   'numeric'\n",
       "$height_m\n",
       ":   'numeric'\n",
       "$imc\n",
       ":   'numeric'\n",
       "\n",
       "\n"
      ],
      "text/plain": [
       "$genhlth\n",
       "[1] \"factor\"\n",
       "\n",
       "$exerany\n",
       "[1] \"numeric\"\n",
       "\n",
       "$hlthplan\n",
       "[1] \"numeric\"\n",
       "\n",
       "$smoke100\n",
       "[1] \"numeric\"\n",
       "\n",
       "$height\n",
       "[1] \"numeric\"\n",
       "\n",
       "$weight\n",
       "[1] \"integer\"\n",
       "\n",
       "$wtdesire\n",
       "[1] \"integer\"\n",
       "\n",
       "$age\n",
       "[1] \"integer\"\n",
       "\n",
       "$gender\n",
       "[1] \"factor\"\n",
       "\n",
       "$weight_kg\n",
       "[1] \"numeric\"\n",
       "\n",
       "$height_m\n",
       "[1] \"numeric\"\n",
       "\n",
       "$imc\n",
       "[1] \"numeric\"\n"
      ]
     },
     "metadata": {},
     "output_type": "display_data"
    }
   ],
   "source": [
    "lapply(cdc,class)"
   ]
  },
  {
   "cell_type": "markdown",
   "metadata": {},
   "source": [
    "<b>Resposta:</b> Dado que ambas as variáveis são categóricas, sendo genhlth o status da saúde geral (excellent, very good, good, fair e poor) e exerany se praticou exercício físico no últim mês (1-sim; 0-não), o tipo da variável exerany não é o tipo correto para essa coluna, sendo que factor seria um tipo mais adequado como genhlth."
   ]
  },
  {
   "cell_type": "markdown",
   "metadata": {},
   "source": [
    "b) Apresente um gráfico de barras para a variável genhlth apenas."
   ]
  },
  {
   "cell_type": "code",
   "execution_count": 4,
   "metadata": {},
   "outputs": [
    {
     "data": {
      "image/png": "[encoded data removed]",
      "text/plain": [
       "plot without title"
      ]
     },
     "metadata": {},
     "output_type": "display_data"
    }
   ],
   "source": [
    "barplot(table(cdc$genhlth))"
   ]
  },
  {
   "cell_type": "markdown",
   "metadata": {},
   "source": [
    "c) Resuma os dados em uma tabela de contingência de frequências absolutas com os níveis de exerany\n",
    "nas linhas e os níveis de genhlth nas colunas. Inclua também os totais das linhas e colunas. Dica:\n",
    "use a função table() e addmargins()."
   ]
  },
  {
   "cell_type": "code",
   "execution_count": 5,
   "metadata": {},
   "outputs": [
    {
     "data": {
      "text/html": [
       "<table>\n",
       "<thead><tr><th></th><th scope=col>excellent</th><th scope=col>very good</th><th scope=col>good</th><th scope=col>fair</th><th scope=col>poor</th><th scope=col>Sum</th></tr></thead>\n",
       "<tbody>\n",
       "\t<tr><th scope=row>0</th><td> 762 </td><td>1352 </td><td>1731 </td><td> 857 </td><td>384  </td><td> 5086</td></tr>\n",
       "\t<tr><th scope=row>1</th><td>3895 </td><td>5620 </td><td>3944 </td><td>1162 </td><td>293  </td><td>14914</td></tr>\n",
       "\t<tr><th scope=row>Sum</th><td>4657 </td><td>6972 </td><td>5675 </td><td>2019 </td><td>677  </td><td>20000</td></tr>\n",
       "</tbody>\n",
       "</table>\n"
      ],
      "text/latex": [
       "\\begin{tabular}{r|llllll}\n",
       "  & excellent & very good & good & fair & poor & Sum\\\\\n",
       "\\hline\n",
       "\t0 &  762  & 1352  & 1731  &  857  & 384   &  5086\\\\\n",
       "\t1 & 3895  & 5620  & 3944  & 1162  & 293   & 14914\\\\\n",
       "\tSum & 4657  & 6972  & 5675  & 2019  & 677   & 20000\\\\\n",
       "\\end{tabular}\n"
      ],
      "text/markdown": [
       "\n",
       "| <!--/--> | excellent | very good | good | fair | poor | Sum | \n",
       "|---|---|---|\n",
       "| 0 |  762  | 1352  | 1731  |  857  | 384   |  5086 | \n",
       "| 1 | 3895  | 5620  | 3944  | 1162  | 293   | 14914 | \n",
       "| Sum | 4657  | 6972  | 5675  | 2019  | 677   | 20000 | \n",
       "\n",
       "\n"
      ],
      "text/plain": [
       "     \n",
       "      excellent very good good fair poor Sum  \n",
       "  0    762      1352      1731  857 384   5086\n",
       "  1   3895      5620      3944 1162 293  14914\n",
       "  Sum 4657      6972      5675 2019 677  20000"
      ]
     },
     "metadata": {},
     "output_type": "display_data"
    }
   ],
   "source": [
    "addmargins(table(cdc$exerany, cdc$genhlth))"
   ]
  },
  {
   "cell_type": "markdown",
   "metadata": {},
   "source": [
    "d) Na tabela acima, o que representam os números no interior da tabela? Qual a casela com maior número de pessoas? Qual a casela com o menor número de pessoas?"
   ]
  },
  {
   "cell_type": "markdown",
   "metadata": {},
   "source": [
    "<b>Resposta:</b> Os números aij no interior da tabela Aij representam as frequências absolutas referentes à quantidade de dados no dataset que possuem o valor da linha i no campo exerany e a coluna j no campo genhlth.\n",
    "A célula (ou casela) com maior número de pessoas é a de que têm uma saúde com status \"very good\" e que praticaram exercício no último mês, totalizando 5620. Já a com menor número de pessoas é a de pessoas que não praticaream exercício físico no último mês e têm o status de saúde \"poor\", totalizando 293."
   ]
  },
  {
   "cell_type": "markdown",
   "metadata": {},
   "source": [
    "e) Construa uma tabela que apresente a distribuição da variável saúde (genhlth) condicional no fato\n",
    "de ter feito ou não exercício no último mês (exerany), ou seja, de proporções condicionais. Dica:\n",
    "prop.table()."
   ]
  },
  {
   "cell_type": "code",
   "execution_count": 6,
   "metadata": {},
   "outputs": [
    {
     "data": {
      "text/html": [
       "<table>\n",
       "<thead><tr><th></th><th scope=col>excellent</th><th scope=col>very good</th><th scope=col>good</th><th scope=col>fair</th><th scope=col>poor</th><th scope=col>Sum</th></tr></thead>\n",
       "<tbody>\n",
       "\t<tr><th scope=row>0</th><td>0.03810</td><td>0.0676 </td><td>0.08655</td><td>0.04285</td><td>0.01920</td><td>0.2543 </td></tr>\n",
       "\t<tr><th scope=row>1</th><td>0.19475</td><td>0.2810 </td><td>0.19720</td><td>0.05810</td><td>0.01465</td><td>0.7457 </td></tr>\n",
       "\t<tr><th scope=row>Sum</th><td>0.23285</td><td>0.3486 </td><td>0.28375</td><td>0.10095</td><td>0.03385</td><td>1.0000 </td></tr>\n",
       "</tbody>\n",
       "</table>\n"
      ],
      "text/latex": [
       "\\begin{tabular}{r|llllll}\n",
       "  & excellent & very good & good & fair & poor & Sum\\\\\n",
       "\\hline\n",
       "\t0 & 0.03810 & 0.0676  & 0.08655 & 0.04285 & 0.01920 & 0.2543 \\\\\n",
       "\t1 & 0.19475 & 0.2810  & 0.19720 & 0.05810 & 0.01465 & 0.7457 \\\\\n",
       "\tSum & 0.23285 & 0.3486  & 0.28375 & 0.10095 & 0.03385 & 1.0000 \\\\\n",
       "\\end{tabular}\n"
      ],
      "text/markdown": [
       "\n",
       "| <!--/--> | excellent | very good | good | fair | poor | Sum | \n",
       "|---|---|---|\n",
       "| 0 | 0.03810 | 0.0676  | 0.08655 | 0.04285 | 0.01920 | 0.2543  | \n",
       "| 1 | 0.19475 | 0.2810  | 0.19720 | 0.05810 | 0.01465 | 0.7457  | \n",
       "| Sum | 0.23285 | 0.3486  | 0.28375 | 0.10095 | 0.03385 | 1.0000  | \n",
       "\n",
       "\n"
      ],
      "text/plain": [
       "     \n",
       "      excellent very good good    fair    poor    Sum   \n",
       "  0   0.03810   0.0676    0.08655 0.04285 0.01920 0.2543\n",
       "  1   0.19475   0.2810    0.19720 0.05810 0.01465 0.7457\n",
       "  Sum 0.23285   0.3486    0.28375 0.10095 0.03385 1.0000"
      ]
     },
     "metadata": {},
     "output_type": "display_data"
    }
   ],
   "source": [
    "freq_r = prop.table(table(cdc$exerany, cdc$genhlth))\n",
    "addmargins(freq_r)"
   ]
  },
  {
   "cell_type": "markdown",
   "metadata": {},
   "source": [
    "f) Faça um gráfico de barras que represente a tabela do item anterior. A distribuição da variável saúde muda quando condicionamos no fato de ter feito exercício ou não? Baseado no gráfico, você diria que existe associação entre as duas variáveis?"
   ]
  },
  {
   "cell_type": "code",
   "execution_count": 7,
   "metadata": {},
   "outputs": [
    {
     "data": {
      "image/png": "[encoded data removed]",
      "text/plain": [
       "plot without title"
      ]
     },
     "metadata": {},
     "output_type": "display_data"
    }
   ],
   "source": [
    "barplot(freq_r, legend.text=c(\"didn't exercise\", 'exercised'))"
   ]
  },
  {
   "cell_type": "markdown",
   "metadata": {},
   "source": [
    "<b>Resposta:</b> Sim, a distribuição da variável muda um pouco quando condicionamos de ter exercício ou não. Mais especificamente, temos uma concentração maior de pessoas com o status de saúde 'good' do que 'very good' quando estamos tratando dos casos que não se exercitaram no último mês. Acredito que exista sim alguma associação entre essas variáveis."
   ]
  },
  {
   "cell_type": "markdown",
   "metadata": {},
   "source": [
    "g) Aplique um teste de hipótese apropriado para verificar se existe associação entre genhlth e exerany. Dica: chisq.test(). Quais são as hipóteses sendo testadas e suas conclusões?"
   ]
  },
  {
   "cell_type": "code",
   "execution_count": 8,
   "metadata": {},
   "outputs": [
    {
     "data": {
      "text/plain": [
       "\n",
       "\tPearson's Chi-squared test\n",
       "\n",
       "data:  cdc$exerany and cdc$genhlth\n",
       "X-squared = 1070.8, df = 4, p-value < 2.2e-16\n"
      ]
     },
     "metadata": {},
     "output_type": "display_data"
    }
   ],
   "source": [
    "chisq.test(cdc$exerany, cdc$genhlth)"
   ]
  },
  {
   "cell_type": "markdown",
   "metadata": {},
   "source": [
    "<b>Resposta:</b> Hipótese: existe associação entre as variáveis `genhtlh` e `exerany` e isso é refletido em suas frequências. Dessa forma, conseguimos aplicar o método chi-square para testá-la. \n",
    "\n",
    "Considerando o nível de confiança 95%, e tendo um p-value < 2.2e-16, podemos considerar que a hipótese foi validada e é verdadeira."
   ]
  },
  {
   "cell_type": "markdown",
   "metadata": {},
   "source": [
    "2.Considere as variáveis smoke100 e gender.\n",
    "\n",
    "a) Apresente uma tabela de contingência com as propoções condicionais dos níveis de smoke100 para\n",
    "cada gênero."
   ]
  },
  {
   "cell_type": "code",
   "execution_count": 9,
   "metadata": {},
   "outputs": [
    {
     "data": {
      "text/html": [
       "<table>\n",
       "<thead><tr><th></th><th scope=col>m</th><th scope=col>f</th><th scope=col>Sum</th></tr></thead>\n",
       "<tbody>\n",
       "\t<tr><th scope=row>0</th><td>0.22735</td><td>0.30060</td><td>0.52795</td></tr>\n",
       "\t<tr><th scope=row>1</th><td>0.25110</td><td>0.22095</td><td>0.47205</td></tr>\n",
       "\t<tr><th scope=row>Sum</th><td>0.47845</td><td>0.52155</td><td>1.00000</td></tr>\n",
       "</tbody>\n",
       "</table>\n"
      ],
      "text/latex": [
       "\\begin{tabular}{r|lll}\n",
       "  & m & f & Sum\\\\\n",
       "\\hline\n",
       "\t0 & 0.22735 & 0.30060 & 0.52795\\\\\n",
       "\t1 & 0.25110 & 0.22095 & 0.47205\\\\\n",
       "\tSum & 0.47845 & 0.52155 & 1.00000\\\\\n",
       "\\end{tabular}\n"
      ],
      "text/markdown": [
       "\n",
       "| <!--/--> | m | f | Sum | \n",
       "|---|---|---|\n",
       "| 0 | 0.22735 | 0.30060 | 0.52795 | \n",
       "| 1 | 0.25110 | 0.22095 | 0.47205 | \n",
       "| Sum | 0.47845 | 0.52155 | 1.00000 | \n",
       "\n",
       "\n"
      ],
      "text/plain": [
       "     \n",
       "      m       f       Sum    \n",
       "  0   0.22735 0.30060 0.52795\n",
       "  1   0.25110 0.22095 0.47205\n",
       "  Sum 0.47845 0.52155 1.00000"
      ]
     },
     "metadata": {},
     "output_type": "display_data"
    }
   ],
   "source": [
    "freq_r = prop.table(table(cdc$smoke100, cdc$gender))\n",
    "addmargins(freq_r)"
   ]
  },
  {
   "cell_type": "markdown",
   "metadata": {},
   "source": [
    "b) Faça um gráfico que represente a tabela acima."
   ]
  },
  {
   "cell_type": "code",
   "execution_count": 10,
   "metadata": {},
   "outputs": [
    {
     "data": {
      "image/png": "[encoded data removed]",
      "text/plain": [
       "plot without title"
      ]
     },
     "metadata": {},
     "output_type": "display_data"
    }
   ],
   "source": [
    "barplot(freq_r, legend.text=c(\"didn't smoke\", 'smoked'))"
   ]
  },
  {
   "cell_type": "markdown",
   "metadata": {},
   "source": [
    "c) Aplique um teste de hipótese apropriado para verificar se existe associação entre smoke100 e gender. Quais são as hipóteses sendo testadas e suas conclusões?"
   ]
  },
  {
   "cell_type": "code",
   "execution_count": 11,
   "metadata": {},
   "outputs": [
    {
     "data": {
      "text/plain": [
       "\n",
       "\tPearson's Chi-squared test with Yates' continuity correction\n",
       "\n",
       "data:  cdc$smoke100 and cdc$gender\n",
       "X-squared = 204.6, df = 1, p-value < 2.2e-16\n"
      ]
     },
     "metadata": {},
     "output_type": "display_data"
    }
   ],
   "source": [
    "chisq.test(cdc$smoke100, cdc$gender)"
   ]
  },
  {
   "cell_type": "markdown",
   "metadata": {},
   "source": [
    "<b>Resposta:</b> Hipótese: existe associação entre as variáveis `smoke100` e `gender` e isso é refletido em suas frequências. Dessa forma, conseguimos aplicar o método chi-square para testá-la. \n",
    "\n",
    "Considerando o nível de confiança 95% e obtendo um p-value < 2.2e-16, podemos considerar que a hipótese foi validada e é verdadeira."
   ]
  },
  {
   "cell_type": "markdown",
   "metadata": {},
   "source": [
    "3.O Índice Massa Corporal (IMC)) é uma medida internacional usada para calcular se uma pessoa está no peso ideal e é calculado pela fórmula:\n",
    "\n",
    "\n",
    "IMC = peso/(altura²)\n",
    "\n",
    "\n",
    "cuja unidade é expressa em kg/m², ou seja, o peso em kilogramas e a altura em metros.\n",
    "\n",
    "\n",
    "a) Calcule o IMC e adicione essa coluna aos dados cdc. Observe que as variáveis peso (weigth) e altura (height) estão em pounds e inches, respectivamente."
   ]
  },
  {
   "cell_type": "code",
   "execution_count": 12,
   "metadata": {},
   "outputs": [],
   "source": [
    "cdc['weight_kg'] = cdc['weight'] * 0.453592\n",
    "cdc['height_m'] = cdc['height'] * 0.0254"
   ]
  },
  {
   "cell_type": "code",
   "execution_count": 14,
   "metadata": {},
   "outputs": [],
   "source": [
    "cdc['imc'] = cdc['weight_kg'] / (cdc['height_m'] ** 2)"
   ]
  },
  {
   "cell_type": "code",
   "execution_count": 15,
   "metadata": {},
   "outputs": [
    {
     "data": {
      "text/html": [
       "<table>\n",
       "<thead><tr><th scope=col>genhlth</th><th scope=col>exerany</th><th scope=col>hlthplan</th><th scope=col>smoke100</th><th scope=col>height</th><th scope=col>weight</th><th scope=col>wtdesire</th><th scope=col>age</th><th scope=col>gender</th><th scope=col>weight_kg</th><th scope=col>height_m</th><th scope=col>imc</th></tr></thead>\n",
       "<tbody>\n",
       "\t<tr><td>good     </td><td>0        </td><td>1        </td><td>0        </td><td>70       </td><td>175      </td><td>175      </td><td>77       </td><td>m        </td><td>79.37860 </td><td>1.7780   </td><td>25.10961 </td></tr>\n",
       "\t<tr><td>good     </td><td>0        </td><td>1        </td><td>1        </td><td>64       </td><td>125      </td><td>115      </td><td>33       </td><td>f        </td><td>56.69900 </td><td>1.6256   </td><td>21.45596 </td></tr>\n",
       "\t<tr><td>good     </td><td>1        </td><td>1        </td><td>1        </td><td>60       </td><td>105      </td><td>105      </td><td>49       </td><td>f        </td><td>47.62716 </td><td>1.5240   </td><td>20.50618 </td></tr>\n",
       "\t<tr><td>good     </td><td>1        </td><td>1        </td><td>0        </td><td>66       </td><td>132      </td><td>124      </td><td>42       </td><td>f        </td><td>59.87414 </td><td>1.6764   </td><td>21.30512 </td></tr>\n",
       "\t<tr><td>very good</td><td>0        </td><td>1        </td><td>0        </td><td>61       </td><td>150      </td><td>130      </td><td>55       </td><td>f        </td><td>68.03880 </td><td>1.5494   </td><td>28.34194 </td></tr>\n",
       "\t<tr><td>very good</td><td>1        </td><td>1        </td><td>0        </td><td>64       </td><td>114      </td><td>114      </td><td>55       </td><td>f        </td><td>51.70949 </td><td>1.6256   </td><td>19.56784 </td></tr>\n",
       "</tbody>\n",
       "</table>\n"
      ],
      "text/latex": [
       "\\begin{tabular}{r|llllllllllll}\n",
       " genhlth & exerany & hlthplan & smoke100 & height & weight & wtdesire & age & gender & weight\\_kg & height\\_m & imc\\\\\n",
       "\\hline\n",
       "\t good      & 0         & 1         & 0         & 70        & 175       & 175       & 77        & m         & 79.37860  & 1.7780    & 25.10961 \\\\\n",
       "\t good      & 0         & 1         & 1         & 64        & 125       & 115       & 33        & f         & 56.69900  & 1.6256    & 21.45596 \\\\\n",
       "\t good      & 1         & 1         & 1         & 60        & 105       & 105       & 49        & f         & 47.62716  & 1.5240    & 20.50618 \\\\\n",
       "\t good      & 1         & 1         & 0         & 66        & 132       & 124       & 42        & f         & 59.87414  & 1.6764    & 21.30512 \\\\\n",
       "\t very good & 0         & 1         & 0         & 61        & 150       & 130       & 55        & f         & 68.03880  & 1.5494    & 28.34194 \\\\\n",
       "\t very good & 1         & 1         & 0         & 64        & 114       & 114       & 55        & f         & 51.70949  & 1.6256    & 19.56784 \\\\\n",
       "\\end{tabular}\n"
      ],
      "text/markdown": [
       "\n",
       "genhlth | exerany | hlthplan | smoke100 | height | weight | wtdesire | age | gender | weight_kg | height_m | imc | \n",
       "|---|---|---|---|---|---|\n",
       "| good      | 0         | 1         | 0         | 70        | 175       | 175       | 77        | m         | 79.37860  | 1.7780    | 25.10961  | \n",
       "| good      | 0         | 1         | 1         | 64        | 125       | 115       | 33        | f         | 56.69900  | 1.6256    | 21.45596  | \n",
       "| good      | 1         | 1         | 1         | 60        | 105       | 105       | 49        | f         | 47.62716  | 1.5240    | 20.50618  | \n",
       "| good      | 1         | 1         | 0         | 66        | 132       | 124       | 42        | f         | 59.87414  | 1.6764    | 21.30512  | \n",
       "| very good | 0         | 1         | 0         | 61        | 150       | 130       | 55        | f         | 68.03880  | 1.5494    | 28.34194  | \n",
       "| very good | 1         | 1         | 0         | 64        | 114       | 114       | 55        | f         | 51.70949  | 1.6256    | 19.56784  | \n",
       "\n",
       "\n"
      ],
      "text/plain": [
       "  genhlth   exerany hlthplan smoke100 height weight wtdesire age gender\n",
       "1 good      0       1        0        70     175    175      77  m     \n",
       "2 good      0       1        1        64     125    115      33  f     \n",
       "3 good      1       1        1        60     105    105      49  f     \n",
       "4 good      1       1        0        66     132    124      42  f     \n",
       "5 very good 0       1        0        61     150    130      55  f     \n",
       "6 very good 1       1        0        64     114    114      55  f     \n",
       "  weight_kg height_m imc     \n",
       "1 79.37860  1.7780   25.10961\n",
       "2 56.69900  1.6256   21.45596\n",
       "3 47.62716  1.5240   20.50618\n",
       "4 59.87414  1.6764   21.30512\n",
       "5 68.03880  1.5494   28.34194\n",
       "6 51.70949  1.6256   19.56784"
      ]
     },
     "metadata": {},
     "output_type": "display_data"
    }
   ],
   "source": [
    "head(cdc)"
   ]
  },
  {
   "cell_type": "markdown",
   "metadata": {},
   "source": [
    "b) Calcule a correlação entre as variáveis IMC e peso. O valor calculado está de acordo com o que você espera dessa correlação?"
   ]
  },
  {
   "cell_type": "code",
   "execution_count": 23,
   "metadata": {},
   "outputs": [
    {
     "data": {
      "text/html": [
       "0.842270738803847"
      ],
      "text/latex": [
       "0.842270738803847"
      ],
      "text/markdown": [
       "0.842270738803847"
      ],
      "text/plain": [
       "[1] 0.8422707"
      ]
     },
     "metadata": {},
     "output_type": "display_data"
    }
   ],
   "source": [
    "cor(cdc$imc, cdc$weight)"
   ]
  },
  {
   "cell_type": "markdown",
   "metadata": {},
   "source": [
    "<b>Resposta:</b> Sim! O valor calculado está de acordo com o esperado para essa correlação, pois é positivo, ou seja, indica que essas variáveis são diretamente relacionadas, e é um valor alto (bem próximo de 1), que indica uma correlação forte."
   ]
  },
  {
   "cell_type": "markdown",
   "metadata": {},
   "source": [
    "c) Faça um gráfico de dispersão para IMC e peso. Comente o gráfico."
   ]
  },
  {
   "cell_type": "code",
   "execution_count": 37,
   "metadata": {},
   "outputs": [
    {
     "data": {
      "image/png": "[encoded data removed]",
      "text/plain": [
       "plot without title"
      ]
     },
     "metadata": {},
     "output_type": "display_data"
    }
   ],
   "source": [
    "plot(cdc$weight, cdc$imc)"
   ]
  },
  {
   "cell_type": "markdown",
   "metadata": {},
   "source": [
    "<b>Resposta:</b> Esse gráfico de dispersão de `weight` e `imc` reforça que há uma correlação positiva forte entre essas variáveis, pois seguem uma linha de tendência onde, conforme o valor de um aumenta, o outro aumenta também."
   ]
  },
  {
   "cell_type": "markdown",
   "metadata": {},
   "source": [
    "4.Considere as variáveis idade (age) e saúde (genhlth).\n",
    "\n",
    "a) Calcule as estatísticas sumárias de idade para cada nível de saúde."
   ]
  },
  {
   "cell_type": "code",
   "execution_count": 84,
   "metadata": {},
   "outputs": [
    {
     "name": "stdout",
     "output_type": "stream",
     "text": [
      "[1] \"good\"\n",
      "      age       \n",
      " Min.   :18.00  \n",
      " 1st Qu.:32.00  \n",
      " Median :44.00  \n",
      " Mean   :46.59  \n",
      " 3rd Qu.:60.00  \n",
      " Max.   :97.00  \n",
      "[1] \"very good\"\n",
      "      age    \n",
      " Min.   :18  \n",
      " 1st Qu.:30  \n",
      " Median :41  \n",
      " Mean   :43  \n",
      " 3rd Qu.:53  \n",
      " Max.   :99  \n",
      "[1] \"excellent\"\n",
      "      age       \n",
      " Min.   :18.00  \n",
      " 1st Qu.:30.00  \n",
      " Median :39.00  \n",
      " Mean   :41.38  \n",
      " 3rd Qu.:51.00  \n",
      " Max.   :99.00  \n",
      "[1] \"fair\"\n",
      "      age       \n",
      " Min.   :18.00  \n",
      " 1st Qu.:37.00  \n",
      " Median :52.00  \n",
      " Mean   :52.14  \n",
      " 3rd Qu.:68.00  \n",
      " Max.   :94.00  \n",
      "[1] \"poor\"\n",
      "      age       \n",
      " Min.   :18.00  \n",
      " 1st Qu.:47.00  \n",
      " Median :59.00  \n",
      " Mean   :57.88  \n",
      " 3rd Qu.:70.00  \n",
      " Max.   :93.00  \n"
     ]
    }
   ],
   "source": [
    "for (item in unique(cdc$genhlth)){\n",
    "    print(item)\n",
    "    print(summary(cdc[cdc['genhlth'] == item,]['age']))\n",
    "}"
   ]
  },
  {
   "cell_type": "markdown",
   "metadata": {},
   "source": [
    "b) Faça um boxplot de age pelos níveis de saúde. Comente esse gráfico."
   ]
  },
  {
   "cell_type": "code",
   "execution_count": 85,
   "metadata": {},
   "outputs": [
    {
     "data": {
      "image/png": "[encoded data removed]",
      "text/plain": [
       "plot without title"
      ]
     },
     "metadata": {},
     "output_type": "display_data"
    }
   ],
   "source": [
    "boxplot(cdc$age ~ cdc$genhlth)"
   ]
  },
  {
   "cell_type": "markdown",
   "metadata": {},
   "source": [
    "<b>Resposta:</b> Apartir da análise do boxplot acima, conseguimos observar que pessoas com uma idade mais alta têm um nível de saúde pior, ou seja, provavelmente essas variáveis têm uma relação negativa (ou inversa) entre elas."
   ]
  },
  {
   "cell_type": "markdown",
   "metadata": {},
   "source": [
    "5.Olhando sua atividade como um todo, comente fatos interessantes que observou através de sua análise."
   ]
  },
  {
   "cell_type": "markdown",
   "metadata": {},
   "source": [
    "<b>Resposta:</b> Com essa análise bivariada, ou seja, analisando e comparando de 2 em 2 variáveis, podemos observar como cada variável se relaciona e com isso poderemos, por exemplo, prever mais assertivamente qual o valor que uma variável provavelmente receberá ao ver o valor de alguma outra variável que influencia a que queremos descobrir. Além disso, com essa atividade, pude verificar na prática como funcionaria correlações positivas e negativas e como isso se reflete nos gráficos."
   ]
  }
 ],
 "metadata": {
  "kernelspec": {
   "display_name": "R",
   "language": "R",
   "name": "ir"
  },
  "language_info": {
   "codemirror_mode": "r",
   "file_extension": ".r",
   "mimetype": "text/x-r-source",
   "name": "R",
   "pygments_lexer": "r",
   "version": "3.4.3"
  }
 },
 "nbformat": 4,
 "nbformat_minor": 2
}
