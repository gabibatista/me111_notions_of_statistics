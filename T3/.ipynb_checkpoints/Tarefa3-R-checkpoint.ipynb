{
 "cells": [
  {
   "cell_type": "markdown",
   "metadata": {},
   "source": [
    "# Tarefa 3"
   ]
  },
  {
   "cell_type": "markdown",
   "metadata": {},
   "source": [
    "#### Carregando pacotes"
   ]
  },
  {
   "cell_type": "code",
   "execution_count": 1,
   "metadata": {},
   "outputs": [],
   "source": [
    "library(Lock5Data)\n",
    "library(ggplot2)\n",
    "library(reshape2)"
   ]
  },
  {
   "cell_type": "markdown",
   "metadata": {},
   "source": [
    "#### Carregando dados"
   ]
  },
  {
   "cell_type": "code",
   "execution_count": 2,
   "metadata": {},
   "outputs": [],
   "source": [
    "data(SleepStudy)"
   ]
  },
  {
   "cell_type": "code",
   "execution_count": 3,
   "metadata": {},
   "outputs": [],
   "source": [
    "ss <- SleepStudy"
   ]
  },
  {
   "cell_type": "markdown",
   "metadata": {},
   "source": [
    "<b>1)</b> Verifique a estrutura dos dados usando a função ‘str()‘. Quantos alunos participaram do estudo. Quantas variáveis foram medidas?"
   ]
  },
  {
   "cell_type": "code",
   "execution_count": 4,
   "metadata": {},
   "outputs": [
    {
     "name": "stdout",
     "output_type": "stream",
     "text": [
      "'data.frame':\t253 obs. of  27 variables:\n",
      " $ Gender          : int  0 0 0 0 0 1 1 0 0 0 ...\n",
      " $ ClassYear       : int  4 4 4 1 4 4 2 2 1 4 ...\n",
      " $ LarkOwl         : Factor w/ 3 levels \"Lark\",\"Neither\",..: 2 2 3 1 3 2 1 1 2 2 ...\n",
      " $ NumEarlyClass   : int  0 2 0 5 0 0 2 0 2 2 ...\n",
      " $ EarlyClass      : int  0 1 0 1 0 0 1 0 1 1 ...\n",
      " $ GPA             : num  3.6 3.24 2.97 3.76 3.2 3.5 3.35 3 4 2.9 ...\n",
      " $ ClassesMissed   : int  0 0 12 0 4 0 2 0 0 0 ...\n",
      " $ CognitionZscore : num  -0.26 1.39 0.38 1.39 1.22 -0.04 0.41 -0.59 1.03 0.72 ...\n",
      " $ PoorSleepQuality: int  4 6 18 9 9 6 2 10 5 2 ...\n",
      " $ DepressionScore : int  4 1 18 1 7 14 1 2 12 6 ...\n",
      " $ AnxietyScore    : int  3 0 18 4 25 8 0 2 16 11 ...\n",
      " $ StressScore     : int  8 3 9 6 14 28 1 3 20 31 ...\n",
      " $ DepressionStatus: Factor w/ 3 levels \"moderate\",\"normal\",..: 2 2 1 2 2 1 2 2 1 2 ...\n",
      " $ AnxietyStatus   : Factor w/ 3 levels \"moderate\",\"normal\",..: 2 2 3 2 3 1 2 2 3 1 ...\n",
      " $ Stress          : Factor w/ 2 levels \"high\",\"normal\": 2 2 2 2 2 1 2 2 1 1 ...\n",
      " $ DASScore        : int  15 4 45 11 46 50 2 7 48 48 ...\n",
      " $ Happiness       : int  28 25 17 32 15 22 25 29 29 30 ...\n",
      " $ AlcoholUse      : Factor w/ 4 levels \"Abstain\",\"Heavy\",..: 4 4 3 3 4 1 4 3 3 4 ...\n",
      " $ Drinks          : int  10 6 3 2 4 0 6 3 3 6 ...\n",
      " $ WeekdayBed      : num  25.8 25.7 27.4 23.5 25.9 ...\n",
      " $ WeekdayRise     : num  8.7 8.2 6.55 7.17 8.67 8.95 8.48 9.07 8.75 8 ...\n",
      " $ WeekdaySleep    : num  7.7 6.8 3 6.77 6.09 9.05 7.73 9.02 8.25 6.6 ...\n",
      " $ WeekendBed      : num  25.8 26 28 27 23.8 ...\n",
      " $ WeekendRise     : num  9.5 10 12.6 8 9.5 ...\n",
      " $ WeekendSleep    : num  5.88 7.25 10.09 7.25 7 ...\n",
      " $ AverageSleep    : num  7.18 6.93 5.02 6.9 6.35 9.04 7.52 9.01 8.54 6.68 ...\n",
      " $ AllNighter      : int  0 0 0 0 0 0 1 0 0 0 ...\n"
     ]
    }
   ],
   "source": [
    "str(ss)"
   ]
  },
  {
   "cell_type": "markdown",
   "metadata": {},
   "source": [
    "<b>Resposta: </b> 253 alunos participaram do estudo e foram medidas 27 variáveis."
   ]
  },
  {
   "cell_type": "markdown",
   "metadata": {},
   "source": [
    "<b>2)</b> Quais os nomes das variáveis. Veja a descrição das variáveis no help usando ‘?SleepStudy‘."
   ]
  },
  {
   "cell_type": "code",
   "execution_count": 5,
   "metadata": {},
   "outputs": [],
   "source": [
    "?SleepStudy"
   ]
  },
  {
   "cell_type": "code",
   "execution_count": 6,
   "metadata": {},
   "outputs": [
    {
     "data": {
      "text/html": [
       "<ol class=list-inline>\n",
       "\t<li>'Gender'</li>\n",
       "\t<li>'ClassYear'</li>\n",
       "\t<li>'LarkOwl'</li>\n",
       "\t<li>'NumEarlyClass'</li>\n",
       "\t<li>'EarlyClass'</li>\n",
       "\t<li>'GPA'</li>\n",
       "\t<li>'ClassesMissed'</li>\n",
       "\t<li>'CognitionZscore'</li>\n",
       "\t<li>'PoorSleepQuality'</li>\n",
       "\t<li>'DepressionScore'</li>\n",
       "\t<li>'AnxietyScore'</li>\n",
       "\t<li>'StressScore'</li>\n",
       "\t<li>'DepressionStatus'</li>\n",
       "\t<li>'AnxietyStatus'</li>\n",
       "\t<li>'Stress'</li>\n",
       "\t<li>'DASScore'</li>\n",
       "\t<li>'Happiness'</li>\n",
       "\t<li>'AlcoholUse'</li>\n",
       "\t<li>'Drinks'</li>\n",
       "\t<li>'WeekdayBed'</li>\n",
       "\t<li>'WeekdayRise'</li>\n",
       "\t<li>'WeekdaySleep'</li>\n",
       "\t<li>'WeekendBed'</li>\n",
       "\t<li>'WeekendRise'</li>\n",
       "\t<li>'WeekendSleep'</li>\n",
       "\t<li>'AverageSleep'</li>\n",
       "\t<li>'AllNighter'</li>\n",
       "</ol>\n"
      ],
      "text/latex": [
       "\\begin{enumerate*}\n",
       "\\item 'Gender'\n",
       "\\item 'ClassYear'\n",
       "\\item 'LarkOwl'\n",
       "\\item 'NumEarlyClass'\n",
       "\\item 'EarlyClass'\n",
       "\\item 'GPA'\n",
       "\\item 'ClassesMissed'\n",
       "\\item 'CognitionZscore'\n",
       "\\item 'PoorSleepQuality'\n",
       "\\item 'DepressionScore'\n",
       "\\item 'AnxietyScore'\n",
       "\\item 'StressScore'\n",
       "\\item 'DepressionStatus'\n",
       "\\item 'AnxietyStatus'\n",
       "\\item 'Stress'\n",
       "\\item 'DASScore'\n",
       "\\item 'Happiness'\n",
       "\\item 'AlcoholUse'\n",
       "\\item 'Drinks'\n",
       "\\item 'WeekdayBed'\n",
       "\\item 'WeekdayRise'\n",
       "\\item 'WeekdaySleep'\n",
       "\\item 'WeekendBed'\n",
       "\\item 'WeekendRise'\n",
       "\\item 'WeekendSleep'\n",
       "\\item 'AverageSleep'\n",
       "\\item 'AllNighter'\n",
       "\\end{enumerate*}\n"
      ],
      "text/markdown": [
       "1. 'Gender'\n",
       "2. 'ClassYear'\n",
       "3. 'LarkOwl'\n",
       "4. 'NumEarlyClass'\n",
       "5. 'EarlyClass'\n",
       "6. 'GPA'\n",
       "7. 'ClassesMissed'\n",
       "8. 'CognitionZscore'\n",
       "9. 'PoorSleepQuality'\n",
       "10. 'DepressionScore'\n",
       "11. 'AnxietyScore'\n",
       "12. 'StressScore'\n",
       "13. 'DepressionStatus'\n",
       "14. 'AnxietyStatus'\n",
       "15. 'Stress'\n",
       "16. 'DASScore'\n",
       "17. 'Happiness'\n",
       "18. 'AlcoholUse'\n",
       "19. 'Drinks'\n",
       "20. 'WeekdayBed'\n",
       "21. 'WeekdayRise'\n",
       "22. 'WeekdaySleep'\n",
       "23. 'WeekendBed'\n",
       "24. 'WeekendRise'\n",
       "25. 'WeekendSleep'\n",
       "26. 'AverageSleep'\n",
       "27. 'AllNighter'\n",
       "\n",
       "\n"
      ],
      "text/plain": [
       " [1] \"Gender\"           \"ClassYear\"        \"LarkOwl\"          \"NumEarlyClass\"   \n",
       " [5] \"EarlyClass\"       \"GPA\"              \"ClassesMissed\"    \"CognitionZscore\" \n",
       " [9] \"PoorSleepQuality\" \"DepressionScore\"  \"AnxietyScore\"     \"StressScore\"     \n",
       "[13] \"DepressionStatus\" \"AnxietyStatus\"    \"Stress\"           \"DASScore\"        \n",
       "[17] \"Happiness\"        \"AlcoholUse\"       \"Drinks\"           \"WeekdayBed\"      \n",
       "[21] \"WeekdayRise\"      \"WeekdaySleep\"     \"WeekendBed\"       \"WeekendRise\"     \n",
       "[25] \"WeekendSleep\"     \"AverageSleep\"     \"AllNighter\"      "
      ]
     },
     "metadata": {},
     "output_type": "display_data"
    }
   ],
   "source": [
    "names(ss)"
   ]
  },
  {
   "cell_type": "markdown",
   "metadata": {},
   "source": [
    "<b>3)</b> Para verificar se a coluna de dados está no formato correto, use a função ‘class()‘."
   ]
  },
  {
   "cell_type": "code",
   "execution_count": 7,
   "metadata": {},
   "outputs": [
    {
     "data": {
      "text/html": [
       "'integer'"
      ],
      "text/latex": [
       "'integer'"
      ],
      "text/markdown": [
       "'integer'"
      ],
      "text/plain": [
       "[1] \"integer\""
      ]
     },
     "metadata": {},
     "output_type": "display_data"
    }
   ],
   "source": [
    "class(ss$Drinks)"
   ]
  },
  {
   "cell_type": "markdown",
   "metadata": {},
   "source": [
    "<b>4)</b> Para cada um dos tipos de variável abaixo, escolha uma variável do banco de dados, de preferência alguma\n",
    "que não tenha sido usada nos slides. Descreva essa variável e apresente uma tabela de frequências absolutas\n",
    "e relativas, quando apropriado. Além disso, faça um gráfico para representar a variável escolhida.\n",
    "\n",
    "\n",
    "<b>a)</b> categórica nominal"
   ]
  },
  {
   "cell_type": "code",
   "execution_count": 8,
   "metadata": {},
   "outputs": [
    {
     "data": {
      "text/html": [
       "<ol class=list-inline>\n",
       "\t<li>Neither</li>\n",
       "\t<li>Neither</li>\n",
       "\t<li>Owl</li>\n",
       "\t<li>Lark</li>\n",
       "\t<li>Owl</li>\n",
       "\t<li>Neither</li>\n",
       "</ol>\n"
      ],
      "text/latex": [
       "\\begin{enumerate*}\n",
       "\\item Neither\n",
       "\\item Neither\n",
       "\\item Owl\n",
       "\\item Lark\n",
       "\\item Owl\n",
       "\\item Neither\n",
       "\\end{enumerate*}\n"
      ],
      "text/markdown": [
       "1. Neither\n",
       "2. Neither\n",
       "3. Owl\n",
       "4. Lark\n",
       "5. Owl\n",
       "6. Neither\n",
       "\n",
       "\n"
      ],
      "text/plain": [
       "[1] Neither Neither Owl     Lark    Owl     Neither\n",
       "Levels: Lark Neither Owl"
      ]
     },
     "metadata": {},
     "output_type": "display_data"
    }
   ],
   "source": [
    "head(ss$LarkOwl)"
   ]
  },
  {
   "cell_type": "markdown",
   "metadata": {},
   "source": [
    "Frequência absoluta"
   ]
  },
  {
   "cell_type": "code",
   "execution_count": 9,
   "metadata": {},
   "outputs": [
    {
     "data": {
      "text/plain": [
       "\n",
       "   Lark Neither     Owl \n",
       "     41     163      49 "
      ]
     },
     "metadata": {},
     "output_type": "display_data"
    }
   ],
   "source": [
    "table(ss$LarkOwl)"
   ]
  },
  {
   "cell_type": "markdown",
   "metadata": {},
   "source": [
    "Frequência relativa"
   ]
  },
  {
   "cell_type": "code",
   "execution_count": 10,
   "metadata": {},
   "outputs": [
    {
     "data": {
      "text/plain": [
       "\n",
       "     Lark   Neither       Owl \n",
       "0.1620553 0.6442688 0.1936759 "
      ]
     },
     "metadata": {},
     "output_type": "display_data"
    }
   ],
   "source": [
    "table(ss$LarkOwl)/nrow(ss)"
   ]
  },
  {
   "cell_type": "markdown",
   "metadata": {},
   "source": [
    "Gráfico representando `ss$LarkOwl`"
   ]
  },
  {
   "cell_type": "code",
   "execution_count": 11,
   "metadata": {},
   "outputs": [
    {
     "data": {},
     "metadata": {},
     "output_type": "display_data"
    },
    {
     "data": {
      "image/png": "[encoded data removed]",
      "text/plain": [
       "plot without title"
      ]
     },
     "metadata": {},
     "output_type": "display_data"
    }
   ],
   "source": [
    "dfm <- melt(table(ss$LarkOwl),id.vars = 1)\n",
    "\n",
    "ggplot(dfm, aes(x=Var1, y=value)) + geom_bar(stat = \"identity\")"
   ]
  },
  {
   "cell_type": "markdown",
   "metadata": {},
   "source": [
    "<b>b)</b> categórica ordinal"
   ]
  },
  {
   "cell_type": "code",
   "execution_count": 12,
   "metadata": {},
   "outputs": [
    {
     "data": {
      "text/html": [
       "<ol class=list-inline>\n",
       "\t<li>normal</li>\n",
       "\t<li>normal</li>\n",
       "\t<li>moderate</li>\n",
       "\t<li>normal</li>\n",
       "\t<li>normal</li>\n",
       "\t<li>moderate</li>\n",
       "</ol>\n"
      ],
      "text/latex": [
       "\\begin{enumerate*}\n",
       "\\item normal\n",
       "\\item normal\n",
       "\\item moderate\n",
       "\\item normal\n",
       "\\item normal\n",
       "\\item moderate\n",
       "\\end{enumerate*}\n"
      ],
      "text/markdown": [
       "1. normal\n",
       "2. normal\n",
       "3. moderate\n",
       "4. normal\n",
       "5. normal\n",
       "6. moderate\n",
       "\n",
       "\n"
      ],
      "text/plain": [
       "[1] normal   normal   moderate normal   normal   moderate\n",
       "Levels: moderate normal severe"
      ]
     },
     "metadata": {},
     "output_type": "display_data"
    }
   ],
   "source": [
    "head(ss$DepressionStatus)"
   ]
  },
  {
   "cell_type": "markdown",
   "metadata": {},
   "source": [
    "Frequência absoluta"
   ]
  },
  {
   "cell_type": "code",
   "execution_count": 13,
   "metadata": {},
   "outputs": [
    {
     "data": {
      "text/plain": [
       "\n",
       "moderate   normal   severe \n",
       "      34      209       10 "
      ]
     },
     "metadata": {},
     "output_type": "display_data"
    }
   ],
   "source": [
    "table(ss$DepressionStatus)"
   ]
  },
  {
   "cell_type": "markdown",
   "metadata": {},
   "source": [
    "Frequência relativa"
   ]
  },
  {
   "cell_type": "code",
   "execution_count": 14,
   "metadata": {},
   "outputs": [
    {
     "data": {
      "text/plain": [
       "\n",
       "  moderate     normal     severe \n",
       "0.13438735 0.82608696 0.03952569 "
      ]
     },
     "metadata": {},
     "output_type": "display_data"
    }
   ],
   "source": [
    "table(ss$DepressionStatus)/nrow(ss)"
   ]
  },
  {
   "cell_type": "markdown",
   "metadata": {},
   "source": [
    "Gráfico representando `ss$DepressionStatus`"
   ]
  },
  {
   "cell_type": "code",
   "execution_count": 15,
   "metadata": {},
   "outputs": [
    {
     "data": {},
     "metadata": {},
     "output_type": "display_data"
    },
    {
     "data": {
      "image/png": "[encoded data removed]",
      "text/plain": [
       "plot without title"
      ]
     },
     "metadata": {},
     "output_type": "display_data"
    }
   ],
   "source": [
    "dfm <- melt(table(ss$DepressionStatus),id.vars = 1)\n",
    "\n",
    "ggplot(dfm, aes(x=Var1, y=value)) + geom_bar(stat = \"identity\")"
   ]
  },
  {
   "cell_type": "markdown",
   "metadata": {},
   "source": [
    "<b>c)</b> quantitativa discreta"
   ]
  },
  {
   "cell_type": "code",
   "execution_count": 16,
   "metadata": {},
   "outputs": [
    {
     "data": {
      "text/html": [
       "<ol class=list-inline>\n",
       "\t<li>0</li>\n",
       "\t<li>2</li>\n",
       "\t<li>0</li>\n",
       "\t<li>5</li>\n",
       "\t<li>0</li>\n",
       "\t<li>0</li>\n",
       "</ol>\n"
      ],
      "text/latex": [
       "\\begin{enumerate*}\n",
       "\\item 0\n",
       "\\item 2\n",
       "\\item 0\n",
       "\\item 5\n",
       "\\item 0\n",
       "\\item 0\n",
       "\\end{enumerate*}\n"
      ],
      "text/markdown": [
       "1. 0\n",
       "2. 2\n",
       "3. 0\n",
       "4. 5\n",
       "5. 0\n",
       "6. 0\n",
       "\n",
       "\n"
      ],
      "text/plain": [
       "[1] 0 2 0 5 0 0"
      ]
     },
     "metadata": {},
     "output_type": "display_data"
    }
   ],
   "source": [
    "head(ss$NumEarlyClass)"
   ]
  },
  {
   "cell_type": "code",
   "execution_count": 17,
   "metadata": {},
   "outputs": [
    {
     "data": {},
     "metadata": {},
     "output_type": "display_data"
    },
    {
     "data": {
      "image/png": "[encoded data removed]",
      "text/plain": [
       "plot without title"
      ]
     },
     "metadata": {},
     "output_type": "display_data"
    }
   ],
   "source": [
    "dfm <- melt(table(ss$NumEarlyClass),id.vars = 1)\n",
    "\n",
    "ggplot(data=dfm) + geom_line(aes(x=Var1, y=value, group=1))"
   ]
  },
  {
   "cell_type": "markdown",
   "metadata": {},
   "source": [
    "<b>d)</b> quantitativa contínua"
   ]
  },
  {
   "cell_type": "code",
   "execution_count": 18,
   "metadata": {},
   "outputs": [
    {
     "data": {
      "text/html": [
       "<ol class=list-inline>\n",
       "\t<li>25.75</li>\n",
       "\t<li>25.7</li>\n",
       "\t<li>27.44</li>\n",
       "\t<li>23.5</li>\n",
       "\t<li>25.9</li>\n",
       "\t<li>23.8</li>\n",
       "</ol>\n"
      ],
      "text/latex": [
       "\\begin{enumerate*}\n",
       "\\item 25.75\n",
       "\\item 25.7\n",
       "\\item 27.44\n",
       "\\item 23.5\n",
       "\\item 25.9\n",
       "\\item 23.8\n",
       "\\end{enumerate*}\n"
      ],
      "text/markdown": [
       "1. 25.75\n",
       "2. 25.7\n",
       "3. 27.44\n",
       "4. 23.5\n",
       "5. 25.9\n",
       "6. 23.8\n",
       "\n",
       "\n"
      ],
      "text/plain": [
       "[1] 25.75 25.70 27.44 23.50 25.90 23.80"
      ]
     },
     "metadata": {},
     "output_type": "display_data"
    }
   ],
   "source": [
    "head(ss$WeekdayBed)"
   ]
  },
  {
   "cell_type": "code",
   "execution_count": 19,
   "metadata": {},
   "outputs": [
    {
     "data": {},
     "metadata": {},
     "output_type": "display_data"
    },
    {
     "data": {
      "image/png": "[encoded data removed]",
      "text/plain": [
       "plot without title"
      ]
     },
     "metadata": {},
     "output_type": "display_data"
    }
   ],
   "source": [
    "ggplot(data=ss) + geom_density(aes(x=WeekdayBed, group=1))"
   ]
  },
  {
   "cell_type": "markdown",
   "metadata": {},
   "source": [
    "<b>5)</b> Comente o que você observa em cada um dos gráficos para as variáveis que você escolheu.\n",
    "\n",
    "<b>a)</b> categórica nominal"
   ]
  },
  {
   "cell_type": "markdown",
   "metadata": {},
   "source": [
    "<b>Resposta: </b> Observo que há uma concentração maior de pessoas do tipo 'Nelther' no nosso dataset, enquanto o segundo mais relevante (mas bem próximo do terceiro mais relevante) é 'Owl'."
   ]
  },
  {
   "cell_type": "markdown",
   "metadata": {},
   "source": [
    "<b>b)</b> categórica ordinal"
   ]
  },
  {
   "cell_type": "markdown",
   "metadata": {},
   "source": [
    "<b>Resposta: </b> Observo que há uma concentração maior de alunos com um nível normal de depressão e a menor fatia (apenas 3.4%) apresenta um quadro de depressão extrema."
   ]
  },
  {
   "cell_type": "markdown",
   "metadata": {},
   "source": [
    "<b>c)</b> quantitativa discreta"
   ]
  },
  {
   "cell_type": "markdown",
   "metadata": {},
   "source": [
    "<b>Resposta: </b> Observo que há um pico maior referente à quantidade de pessoas que têm duas aulas por semana que se iniciam antes das 9h da manhã."
   ]
  },
  {
   "cell_type": "markdown",
   "metadata": {},
   "source": [
    "<b>d)</b> quantitativa contínua"
   ]
  },
  {
   "cell_type": "markdown",
   "metadata": {},
   "source": [
    "<b>Resposta: </b> Observo que há uma concentração maior entre 24 e 25 horas de sono por dia da semana."
   ]
  }
 ],
 "metadata": {
  "kernelspec": {
   "display_name": "R",
   "language": "R",
   "name": "ir"
  },
  "language_info": {
   "codemirror_mode": "r",
   "file_extension": ".r",
   "mimetype": "text/x-r-source",
   "name": "R",
   "pygments_lexer": "r",
   "version": "3.4.3"
  }
 },
 "nbformat": 4,
 "nbformat_minor": 2
}
