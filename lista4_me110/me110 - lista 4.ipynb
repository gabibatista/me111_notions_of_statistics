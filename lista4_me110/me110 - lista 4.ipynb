{
 "cells": [
  {
   "cell_type": "markdown",
   "metadata": {},
   "source": [
    "Gabriela Nery Batista\n",
    "# Lista 4\n",
    "**1.** Determinado número de telefone é usado tanto para receber chamadas de voz quanto mensagens de fax. Supoha que 25% das chamadas recebidas envolvam mensagens de fax e considere uma amostra com 25 chamadas recebidas. Qual a probabiliade de:\n",
    "\n",
    "a) No máximo 6 chamadas envolverem uma mensagem de fax?\n",
    ">- n = 25\n",
    "- p = 0.0625\n",
    "- x = 6\n",
    "\n",
    "**Resposta:**\n",
    "Utilizando, no Google sheets, a fórmula:\n",
    "`=SOMA(F3:F8)`\n",
    "Que nos indica a soma das probabilidades de a quantidade de chamadas envolvendo mensagem de fax  ser 1 (F3), 2 (F4), 3 (F5), 4 (F6), 5 (F7), 6 (F8), com 0,0625 de probabilidade de uma chamada envolver uma mensagem de fax: 0,8001 ou 80,01%."
   ]
  },
  {
   "cell_type": "markdown",
   "metadata": {},
   "source": [
    "b) Examente 6 chamadas envolverem uma mensagem de fax?\n",
    "\n",
    "\n",
    "**Resposta:**\n",
    "Utilizando, no Google sheets, a fórmula:\n",
    "`=BINOM.DIST(E8;25;0,0625;FALSO)`\n",
    "Que nos indica a probabilidade de exatamente 6 chamadas envolverem uma mensagem de fax, com 0,0625 de probabilidade de uma chamada envolver uma mensagem de fax: 0,0030 ou 0,3%"
   ]
  },
  {
   "cell_type": "markdown",
   "metadata": {},
   "source": [
    "c) Pelo menos 6 chamadas envolverem uma mensagem de fax?\n",
    "\n",
    "**Resposta:**\n",
    "Utilizando, no Google sheets, a fórmula:\n",
    "`=BINOM.DIST(25;25;0,0625;VERDADEIRO)-F3-F4-F5-F6-F7`\n",
    "Que nos indica a probabilidade de todas as chamadas envolverem uma mensagem de fax - a probabilidade de apenas 1 (F3), 2 (F4), 3 (F5), 4 (F6), 5 (F7), com 0,0625 de probabilidade de uma chamada envolver uma mensagem de fax: 0,2029 ou 20,29%"
   ]
  },
  {
   "cell_type": "markdown",
   "metadata": {},
   "source": [
    "d) Mais de 6 chamadas envolverem uma mensagem de fax?\n",
    "\n",
    "**Resposta:**\n",
    "Utilizando, no Google sheets, a fórmula:\n",
    "`=BINOM.DIST(25;25;0,0625;VERDADEIRO)-F3-F4-F5-F6-F7-F8`\n",
    "Que nos indica a probabilidade de todas as chamadas envolverem uma mensagem de fax - a probabilidade de apenas 1 (F3), 2 (F4), 3 (F5), 4 (F6), 5 (F7), 6 (F8), com 0,0625 de probabilidade de uma chamada envolver uma mensagem de fax:\n",
    "0,1998 ou 19,98%"
   ]
  },
  {
   "cell_type": "markdown",
   "metadata": {},
   "source": [
    "**2.** Assuma que um estudante esteja chutando em um exame com 25 questões com dois itens cada (verdadeiro ou falso). Um escore de 15 ou mais questões corretas é necessário para ser aprovado. Calcule a probabilidade de que o estudante seja aprovado. E se cada questão tivesse 3 itens, de quanto seria a probabilidade de ser aprovado deste mesmo estudante?\n",
    "\n",
    "**Resposta: **\n",
    "Utilizando, no Google sheets, a fórmula:\n",
    "`=BINOM.DIST(25;25;0,5;VERDADEIRO)-BINOM.DIST(14;25;0,5;VERDADEIRO)`\n",
    "Que nos indica a probabilidade dele acertar todas - a probabilidade dele acertar 14 ou menos, ambas com 50% de chance dele acertar uma questão, dado que está chutando todas, é igual a:\n",
    "0,2121 ou 21,21%"
   ]
  },
  {
   "cell_type": "markdown",
   "metadata": {},
   "source": [
    "**3.** Sabendo-se que a probabilidade de nascer um bezerro do sexo feminino é de 0,60. Calcular o valor esperado (esperança) e o desvio padrão da variável número de bezerros do sexo feminino nascidos em 30 partos.\n",
    "\n",
    "**Resposta:**\n",
    "Para 30 partos, temos que a Esperança é 30x0,6=18. O Desvio Padrão, por sua vez, é igual a sqrt(18*0,4)=2,68."
   ]
  },
  {
   "cell_type": "markdown",
   "metadata": {},
   "source": [
    "**4.** Um produtor de sementes vende pacotes com 20 sementes cada. Os pacotes que apresentarem mais de uma semente sem germinar serão indenizados. A probabilidade de uma semente germinar é 0,98.\n",
    "\n",
    "a) Qual é a probabilidade de um pacote não ser indenizado?\n",
    "\n",
    "**Resposta:** \n",
    "Dado que, para não ser indenizado o pacote deve apresentar no máximo 1 semente que não germinou, podemos somar as probabilidades de - todas as sementes germinarem (0,667) e - apenas 1 semente não germinar (0,272), portanto, temos que há 0,94 ou 94% de probabilidade de um pacote não ser indenizado."
   ]
  },
  {
   "cell_type": "markdown",
   "metadata": {},
   "source": [
    "b) Se o produtor vende 1000 pacotes, qual é o número esperado de pacotes indenizados?\n",
    "\n",
    "**Resposta:** Se o produtor vende 1000 pacotes, o número esperado (Esperança) de pacotes indenizados é 1000 x 0,06 = 60."
   ]
  },
  {
   "cell_type": "markdown",
   "metadata": {},
   "source": [
    "**5.** Assuma Z como uma variável aleatória normal padrão e calcule as probabilidades a seguir:\n",
    "\n",
    "a) P(0 ≤ Z ≤ 2,17): 0,98 ou 98%\n",
    "\n",
    "b) P(0 ≤ Z ≤ 1): 0,84 ou 84%\n",
    "\n",
    "c) P(−2,5 ≤ Z ≤ 0): 0,006 ou 0,6%\n",
    "\n",
    "d) P(−1, 5 ≤ Z ≤ 2, 0): 0,06 ou 6%\n",
    "\n",
    "e) P(Z ≥ 1,38): 0,91 ou 91%"
   ]
  },
  {
   "cell_type": "markdown",
   "metadata": {},
   "source": [
    "**6.** Assuma Z como uma variável aleatória normal padrão. Determine o valor zα, tal que P(Z ≥ zα) = α para os seguintes valores de α: 0.0055, 0.09; 0.663.\n",
    "\n"
   ]
  },
  {
   "cell_type": "markdown",
   "metadata": {},
   "source": [
    "**7.** Em respostas às preocupações sobre o conteúdo nutricional dos fast − foods, o McDonald's anunciou que usará um novo óleo na fritura de suas batatas. O produto diminuirá substancialmente os níveis de ácidos graxos trans e aumentará a quantidade de gordura poli-insaturada, mais benéfica. A empresa alega que 97 dentre 100 pessoas não conseguem detectar diferença no gosto entre o oléo antigo e o novo. Assumindo que esse valor esteja correto (como proporção de longo prazo) qual é a probabilidade aproximada de, em uma amostra de 1.000 indíviduos que compraram fritas no McDonald's:\n",
    "\n",
    "a) ao menos 40 sentirem a diferença de gosto entre os dois óleos?\n"
   ]
  },
  {
   "cell_type": "markdown",
   "metadata": {},
   "source": [
    "b) no máximo 5% sentirem a diferença de gosto entre os dois óleos?"
   ]
  },
  {
   "cell_type": "code",
   "execution_count": null,
   "metadata": {},
   "outputs": [],
   "source": []
  }
 ],
 "metadata": {
  "kernelspec": {
   "display_name": "R",
   "language": "R",
   "name": "ir"
  },
  "language_info": {
   "codemirror_mode": "r",
   "file_extension": ".r",
   "mimetype": "text/x-r-source",
   "name": "R",
   "pygments_lexer": "r",
   "version": "3.4.3"
  }
 },
 "nbformat": 4,
 "nbformat_minor": 2
}
