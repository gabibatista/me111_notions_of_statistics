{
 "cells": [
  {
   "cell_type": "markdown",
   "metadata": {},
   "source": [
    "Gabriela Nery Batista\n",
    "# Lista 4\n",
    "1.Determinado número de telefone é usado tanto para receber chamadas de voz quanto mensagens de fax. Supoha que 25% das chamadas recebidas envolvam mensagens de fax e considere uma amostra com 25 chamadas recebidas. Qual a probabiliade de:\n",
    "\n",
    "a) No máximo 6 chamadas envolverem uma mensagem de fax?\n",
    "n = 25\n"
   ]
  },
  {
   "cell_type": "code",
   "execution_count": null,
   "metadata": {},
   "outputs": [],
   "source": []
  },
  {
   "cell_type": "code",
   "execution_count": null,
   "metadata": {},
   "outputs": [],
   "source": [
    "b) Examente 6 chamadas envolverem uma mensagem de fax?\n",
    "c) Pelo menos 6 chamadas enolverem uma mensagem de fax?\n",
    "d) Mais dee 6 chamadas envolverem uma mensaem de fax?"
   ]
  }
 ],
 "metadata": {
  "kernelspec": {
   "display_name": "R",
   "language": "R",
   "name": "ir"
  },
  "language_info": {
   "codemirror_mode": "r",
   "file_extension": ".r",
   "mimetype": "text/x-r-source",
   "name": "R",
   "pygments_lexer": "r",
   "version": "3.4.3"
  }
 },
 "nbformat": 4,
 "nbformat_minor": 2
}
