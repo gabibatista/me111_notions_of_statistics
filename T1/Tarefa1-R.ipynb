{
 "cells": [
  {
   "cell_type": "markdown",
   "metadata": {},
   "source": [
    "# Tarefa em R\n",
    "Proposta da tarefa 1: https://github.com/gabibatista/me111_notions_of_statistics/blob/master/ME111_Atividade01.pdf\n",
    "\n",
    "## Parte 1\n",
    "##### 1.\n",
    "\n",
    "Repita o experimento descrito acima, mas alterando o número de lançamentos (n) da moeda para n = 10, 20, 30, 50, 100, 500, 1000, 10000. Anote na tabela abaixo o número de caras e as frequências relativas de cara e coroa para cada caso."
   ]
  },
  {
   "cell_type": "code",
   "execution_count": 1,
   "metadata": {},
   "outputs": [],
   "source": [
    "n_list <- c(10, 20, 50, 100, 500, 1000, 10000)# números de lançamentos\n",
    "k_counts <- c()\n",
    "k_frequencies <- c()\n",
    "c_frequencies <- c()\n",
    "\n",
    "for (n in n_list) {\n",
    "    coins <- sample(0:1, size = n, replace = TRUE) # sorteio aletório entre dois inteiros (0 e 1)\n",
    "    k_cnt = length(coins[coins==1]) # número de coroas\n",
    "    k_counts <- append(k_counts, k_cnt)\n",
    "    k_frequencies <- append(k_frequencies, (k_cnt/n))\n",
    "    c_frequencies <- append(c_frequencies, ((n-k_cnt)/n))\n",
    "}"
   ]
  },
  {
   "cell_type": "code",
   "execution_count": 2,
   "metadata": {},
   "outputs": [
    {
     "data": {
      "text/html": [
       "<table>\n",
       "<thead><tr><th scope=col>n_lancamentos</th><th scope=col>n_caras</th><th scope=col>freq_caras</th><th scope=col>freq_coroas</th></tr></thead>\n",
       "<tbody>\n",
       "\t<tr><td>10    </td><td>   4  </td><td>0.4000</td><td>0.6000</td></tr>\n",
       "\t<tr><td>20    </td><td>  11  </td><td>0.5500</td><td>0.4500</td></tr>\n",
       "\t<tr><td>50    </td><td>  29  </td><td>0.5800</td><td>0.4200</td></tr>\n",
       "\t<tr><td>100   </td><td>  51  </td><td>0.5100</td><td>0.4900</td></tr>\n",
       "\t<tr><td>500   </td><td> 233  </td><td>0.4660</td><td>0.5340</td></tr>\n",
       "\t<tr><td>1000  </td><td> 486  </td><td>0.4860</td><td>0.5140</td></tr>\n",
       "\t<tr><td>10000 </td><td>5029  </td><td>0.5029</td><td>0.4971</td></tr>\n",
       "</tbody>\n",
       "</table>\n"
      ],
      "text/latex": [
       "\\begin{tabular}{r|llll}\n",
       " n\\_lancamentos & n\\_caras & freq\\_caras & freq\\_coroas\\\\\n",
       "\\hline\n",
       "\t 10     &    4   & 0.4000 & 0.6000\\\\\n",
       "\t 20     &   11   & 0.5500 & 0.4500\\\\\n",
       "\t 50     &   29   & 0.5800 & 0.4200\\\\\n",
       "\t 100    &   51   & 0.5100 & 0.4900\\\\\n",
       "\t 500    &  233   & 0.4660 & 0.5340\\\\\n",
       "\t 1000   &  486   & 0.4860 & 0.5140\\\\\n",
       "\t 10000  & 5029   & 0.5029 & 0.4971\\\\\n",
       "\\end{tabular}\n"
      ],
      "text/markdown": [
       "\n",
       "n_lancamentos | n_caras | freq_caras | freq_coroas | \n",
       "|---|---|---|---|---|---|---|\n",
       "| 10     |    4   | 0.4000 | 0.6000 | \n",
       "| 20     |   11   | 0.5500 | 0.4500 | \n",
       "| 50     |   29   | 0.5800 | 0.4200 | \n",
       "| 100    |   51   | 0.5100 | 0.4900 | \n",
       "| 500    |  233   | 0.4660 | 0.5340 | \n",
       "| 1000   |  486   | 0.4860 | 0.5140 | \n",
       "| 10000  | 5029   | 0.5029 | 0.4971 | \n",
       "\n",
       "\n"
      ],
      "text/plain": [
       "  n_lancamentos n_caras freq_caras freq_coroas\n",
       "1 10               4    0.4000     0.6000     \n",
       "2 20              11    0.5500     0.4500     \n",
       "3 50              29    0.5800     0.4200     \n",
       "4 100             51    0.5100     0.4900     \n",
       "5 500            233    0.4660     0.5340     \n",
       "6 1000           486    0.4860     0.5140     \n",
       "7 10000         5029    0.5029     0.4971     "
      ]
     },
     "metadata": {},
     "output_type": "display_data"
    }
   ],
   "source": [
    "df <- data.frame(n_lancamentos=as.character(n_list), n_caras=k_counts, freq_caras=k_frequencies, freq_coroas=c_frequencies)\n",
    "df"
   ]
  },
  {
   "cell_type": "markdown",
   "metadata": {},
   "source": [
    "##### 2. \n",
    "Reproduza o gráfico de barras da Figura 1 para 100 e 1000 lançamentos da moeda. Você pode fazer o gráfico em outro software (Excel ou onde achar mais fácil)."
   ]
  },
  {
   "cell_type": "code",
   "execution_count": 3,
   "metadata": {},
   "outputs": [],
   "source": [
    "library(ggplot2)\n",
    "library(reshape2)"
   ]
  },
  {
   "cell_type": "code",
   "execution_count": 4,
   "metadata": {},
   "outputs": [
    {
     "data": {},
     "metadata": {},
     "output_type": "display_data"
    },
    {
     "data": {
      "image/png": "[encoded data removed]",
      "text/plain": [
       "plot without title"
      ]
     },
     "metadata": {},
     "output_type": "display_data"
    }
   ],
   "source": [
    "dfm <- melt(df[,c('n_lancamentos','freq_caras','freq_coroas')],id.vars = 1)\n",
    "\n",
    "ggplot(dfm, aes(x=n_lancamentos, y=value)) +\n",
    "geom_bar(aes(fill = variable), stat = \"identity\")"
   ]
  },
  {
   "cell_type": "markdown",
   "metadata": {},
   "source": [
    "##### 3. \n",
    "O que você observa sobre a proporção de caras obtida (frequência relativa) à medida que aumentamos n? Como você representaria isso num gráfico?"
   ]
  },
  {
   "cell_type": "markdown",
   "metadata": {},
   "source": [
    "<b>Resposta:</b> Observo que a frequência relativa de caras vai se aproximando mais da frequência relativa de coroas à medida que aumentamos n, fazendo com que as duas se aproximem de 50%. Representaria esse comportamente em um gráfico de linhas mostrando a diferença em pontos percentuais entre as duas proporções, que se aproxima de 0 conforme o espaço amostral (número de lançamentos) é aumentado, como mostrado abaixo."
   ]
  },
  {
   "cell_type": "code",
   "execution_count": 5,
   "metadata": {},
   "outputs": [
    {
     "data": {
      "text/html": [
       "<table>\n",
       "<thead><tr><th scope=col>n_lancamentos</th><th scope=col>n_caras</th><th scope=col>freq_caras</th><th scope=col>freq_coroas</th><th scope=col>percent_difference</th></tr></thead>\n",
       "<tbody>\n",
       "\t<tr><td>10     </td><td>   4   </td><td>0.4000 </td><td>0.6000 </td><td>-0.2000</td></tr>\n",
       "\t<tr><td>20     </td><td>  11   </td><td>0.5500 </td><td>0.4500 </td><td> 0.1000</td></tr>\n",
       "\t<tr><td>50     </td><td>  29   </td><td>0.5800 </td><td>0.4200 </td><td> 0.1600</td></tr>\n",
       "\t<tr><td>100    </td><td>  51   </td><td>0.5100 </td><td>0.4900 </td><td> 0.0200</td></tr>\n",
       "\t<tr><td>500    </td><td> 233   </td><td>0.4660 </td><td>0.5340 </td><td>-0.0680</td></tr>\n",
       "\t<tr><td>1000   </td><td> 486   </td><td>0.4860 </td><td>0.5140 </td><td>-0.0280</td></tr>\n",
       "\t<tr><td>10000  </td><td>5029   </td><td>0.5029 </td><td>0.4971 </td><td> 0.0058</td></tr>\n",
       "</tbody>\n",
       "</table>\n"
      ],
      "text/latex": [
       "\\begin{tabular}{r|lllll}\n",
       " n\\_lancamentos & n\\_caras & freq\\_caras & freq\\_coroas & percent\\_difference\\\\\n",
       "\\hline\n",
       "\t 10      &    4    & 0.4000  & 0.6000  & -0.2000\\\\\n",
       "\t 20      &   11    & 0.5500  & 0.4500  &  0.1000\\\\\n",
       "\t 50      &   29    & 0.5800  & 0.4200  &  0.1600\\\\\n",
       "\t 100     &   51    & 0.5100  & 0.4900  &  0.0200\\\\\n",
       "\t 500     &  233    & 0.4660  & 0.5340  & -0.0680\\\\\n",
       "\t 1000    &  486    & 0.4860  & 0.5140  & -0.0280\\\\\n",
       "\t 10000   & 5029    & 0.5029  & 0.4971  &  0.0058\\\\\n",
       "\\end{tabular}\n"
      ],
      "text/markdown": [
       "\n",
       "n_lancamentos | n_caras | freq_caras | freq_coroas | percent_difference | \n",
       "|---|---|---|---|---|---|---|\n",
       "| 10      |    4    | 0.4000  | 0.6000  | -0.2000 | \n",
       "| 20      |   11    | 0.5500  | 0.4500  |  0.1000 | \n",
       "| 50      |   29    | 0.5800  | 0.4200  |  0.1600 | \n",
       "| 100     |   51    | 0.5100  | 0.4900  |  0.0200 | \n",
       "| 500     |  233    | 0.4660  | 0.5340  | -0.0680 | \n",
       "| 1000    |  486    | 0.4860  | 0.5140  | -0.0280 | \n",
       "| 10000   | 5029    | 0.5029  | 0.4971  |  0.0058 | \n",
       "\n",
       "\n"
      ],
      "text/plain": [
       "  n_lancamentos n_caras freq_caras freq_coroas percent_difference\n",
       "1 10               4    0.4000     0.6000      -0.2000           \n",
       "2 20              11    0.5500     0.4500       0.1000           \n",
       "3 50              29    0.5800     0.4200       0.1600           \n",
       "4 100             51    0.5100     0.4900       0.0200           \n",
       "5 500            233    0.4660     0.5340      -0.0680           \n",
       "6 1000           486    0.4860     0.5140      -0.0280           \n",
       "7 10000         5029    0.5029     0.4971       0.0058           "
      ]
     },
     "metadata": {},
     "output_type": "display_data"
    }
   ],
   "source": [
    "df[['percent_difference']] = df[['freq_caras']] - df[['freq_coroas']]\n",
    "df"
   ]
  },
  {
   "cell_type": "code",
   "execution_count": 6,
   "metadata": {},
   "outputs": [
    {
     "data": {},
     "metadata": {},
     "output_type": "display_data"
    },
    {
     "data": {
      "image/png": "[encoded data removed]",
      "text/plain": [
       "plot without title"
      ]
     },
     "metadata": {},
     "output_type": "display_data"
    }
   ],
   "source": [
    "ggplot(data=df) + geom_line(aes(x=n_lancamentos, y=percent_difference, group=1))"
   ]
  },
  {
   "cell_type": "markdown",
   "metadata": {},
   "source": [
    "## Parte 2\n",
    "##### 1. \n",
    "Repita o experimento do lançamento de um dado, agora alterando o número de lançamentos (n) para n = 10, 30, 50, 100, 600, 1000, 6000, 10000. Anote na tabela abaixo a frequência relativa de cada face para cada caso."
   ]
  },
  {
   "cell_type": "code",
   "execution_count": 7,
   "metadata": {},
   "outputs": [],
   "source": [
    "n_list <- c(10, 30, 50, 100, 600, 1000, 6000, 10000) # números de lançamentos\n",
    "dice_freqs <- c()\n",
    "results <- c()\n",
    "\n",
    "for (n in n_list) {\n",
    "    results <- sample(1:6, size = n, replace = TRUE) # sorteio aletório entre seis inteiros (1 a 6)\n",
    "    dice_freqs <- rbind(dice_freqs, table(results)/n)\n",
    "}"
   ]
  },
  {
   "cell_type": "code",
   "execution_count": 8,
   "metadata": {},
   "outputs": [
    {
     "data": {
      "text/html": [
       "<table>\n",
       "<thead><tr><th scope=col>n_lancamentos</th><th scope=col>X1</th><th scope=col>X2</th><th scope=col>X3</th><th scope=col>X4</th><th scope=col>X5</th><th scope=col>X6</th></tr></thead>\n",
       "<tbody>\n",
       "\t<tr><td>   10     </td><td>0.20000000</td><td>0.2000000 </td><td>0.10000000</td><td>0.1000000 </td><td>0.1000000 </td><td>0.3000000 </td></tr>\n",
       "\t<tr><td>   30     </td><td>0.06666667</td><td>0.1333333 </td><td>0.06666667</td><td>0.2000000 </td><td>0.2333333 </td><td>0.3000000 </td></tr>\n",
       "\t<tr><td>   50     </td><td>0.20000000</td><td>0.1800000 </td><td>0.18000000</td><td>0.0600000 </td><td>0.2200000 </td><td>0.1600000 </td></tr>\n",
       "\t<tr><td>  100     </td><td>0.21000000</td><td>0.1700000 </td><td>0.20000000</td><td>0.1700000 </td><td>0.1700000 </td><td>0.0800000 </td></tr>\n",
       "\t<tr><td>  600     </td><td>0.18000000</td><td>0.1500000 </td><td>0.19666667</td><td>0.1600000 </td><td>0.1500000 </td><td>0.1633333 </td></tr>\n",
       "\t<tr><td> 1000     </td><td>0.17600000</td><td>0.1710000 </td><td>0.16100000</td><td>0.1510000 </td><td>0.1690000 </td><td>0.1720000 </td></tr>\n",
       "\t<tr><td> 6000     </td><td>0.16466667</td><td>0.1626667 </td><td>0.16950000</td><td>0.1723333 </td><td>0.1641667 </td><td>0.1666667 </td></tr>\n",
       "\t<tr><td>10000     </td><td>0.17390000</td><td>0.1683000 </td><td>0.17260000</td><td>0.1581000 </td><td>0.1585000 </td><td>0.1686000 </td></tr>\n",
       "</tbody>\n",
       "</table>\n"
      ],
      "text/latex": [
       "\\begin{tabular}{r|lllllll}\n",
       " n\\_lancamentos & X1 & X2 & X3 & X4 & X5 & X6\\\\\n",
       "\\hline\n",
       "\t    10      & 0.20000000 & 0.2000000  & 0.10000000 & 0.1000000  & 0.1000000  & 0.3000000 \\\\\n",
       "\t    30      & 0.06666667 & 0.1333333  & 0.06666667 & 0.2000000  & 0.2333333  & 0.3000000 \\\\\n",
       "\t    50      & 0.20000000 & 0.1800000  & 0.18000000 & 0.0600000  & 0.2200000  & 0.1600000 \\\\\n",
       "\t   100      & 0.21000000 & 0.1700000  & 0.20000000 & 0.1700000  & 0.1700000  & 0.0800000 \\\\\n",
       "\t   600      & 0.18000000 & 0.1500000  & 0.19666667 & 0.1600000  & 0.1500000  & 0.1633333 \\\\\n",
       "\t  1000      & 0.17600000 & 0.1710000  & 0.16100000 & 0.1510000  & 0.1690000  & 0.1720000 \\\\\n",
       "\t  6000      & 0.16466667 & 0.1626667  & 0.16950000 & 0.1723333  & 0.1641667  & 0.1666667 \\\\\n",
       "\t 10000      & 0.17390000 & 0.1683000  & 0.17260000 & 0.1581000  & 0.1585000  & 0.1686000 \\\\\n",
       "\\end{tabular}\n"
      ],
      "text/markdown": [
       "\n",
       "n_lancamentos | X1 | X2 | X3 | X4 | X5 | X6 | \n",
       "|---|---|---|---|---|---|---|---|\n",
       "|    10      | 0.20000000 | 0.2000000  | 0.10000000 | 0.1000000  | 0.1000000  | 0.3000000  | \n",
       "|    30      | 0.06666667 | 0.1333333  | 0.06666667 | 0.2000000  | 0.2333333  | 0.3000000  | \n",
       "|    50      | 0.20000000 | 0.1800000  | 0.18000000 | 0.0600000  | 0.2200000  | 0.1600000  | \n",
       "|   100      | 0.21000000 | 0.1700000  | 0.20000000 | 0.1700000  | 0.1700000  | 0.0800000  | \n",
       "|   600      | 0.18000000 | 0.1500000  | 0.19666667 | 0.1600000  | 0.1500000  | 0.1633333  | \n",
       "|  1000      | 0.17600000 | 0.1710000  | 0.16100000 | 0.1510000  | 0.1690000  | 0.1720000  | \n",
       "|  6000      | 0.16466667 | 0.1626667  | 0.16950000 | 0.1723333  | 0.1641667  | 0.1666667  | \n",
       "| 10000      | 0.17390000 | 0.1683000  | 0.17260000 | 0.1581000  | 0.1585000  | 0.1686000  | \n",
       "\n",
       "\n"
      ],
      "text/plain": [
       "  n_lancamentos X1         X2        X3         X4        X5        X6       \n",
       "1    10         0.20000000 0.2000000 0.10000000 0.1000000 0.1000000 0.3000000\n",
       "2    30         0.06666667 0.1333333 0.06666667 0.2000000 0.2333333 0.3000000\n",
       "3    50         0.20000000 0.1800000 0.18000000 0.0600000 0.2200000 0.1600000\n",
       "4   100         0.21000000 0.1700000 0.20000000 0.1700000 0.1700000 0.0800000\n",
       "5   600         0.18000000 0.1500000 0.19666667 0.1600000 0.1500000 0.1633333\n",
       "6  1000         0.17600000 0.1710000 0.16100000 0.1510000 0.1690000 0.1720000\n",
       "7  6000         0.16466667 0.1626667 0.16950000 0.1723333 0.1641667 0.1666667\n",
       "8 10000         0.17390000 0.1683000 0.17260000 0.1581000 0.1585000 0.1686000"
      ]
     },
     "metadata": {},
     "output_type": "display_data"
    }
   ],
   "source": [
    "df = data.frame(n_lancamentos=n_list, dice_freqs)\n",
    "df"
   ]
  },
  {
   "cell_type": "markdown",
   "metadata": {},
   "source": [
    "##### 2. \n",
    "Reproduza o gráfico de barras da Figura 2 para 10000 lançamentos do dado. Você pode fazer o gráfico em outro software (Excel ou onde achar mais fácil)."
   ]
  },
  {
   "cell_type": "code",
   "execution_count": 9,
   "metadata": {},
   "outputs": [
    {
     "data": {
      "image/png": "[encoded data removed]",
      "text/plain": [
       "plot without title"
      ]
     },
     "metadata": {},
     "output_type": "display_data"
    }
   ],
   "source": [
    "barplot(\n",
    "    df[df['n_lancamentos'] == '10000'][2:length(df)],\n",
    "    xlab=\"Resultado\",\n",
    "    names.arg=seq(1:6)\n",
    ")"
   ]
  },
  {
   "cell_type": "markdown",
   "metadata": {},
   "source": [
    "##### 3. \n",
    "O que você observa sobre a proporção das faces (frequência relativa) à medida que aumentam"
   ]
  },
  {
   "cell_type": "code",
   "execution_count": 10,
   "metadata": {},
   "outputs": [
    {
     "data": {
      "text/html": [
       "<table>\n",
       "<thead><tr><th scope=col>X1</th><th scope=col>X2</th><th scope=col>X3</th><th scope=col>X4</th><th scope=col>X5</th><th scope=col>X6</th></tr></thead>\n",
       "<tbody>\n",
       "\t<tr><td>0.20000000</td><td>0.2000000 </td><td>0.10000000</td><td>0.1000000 </td><td>0.1000000 </td><td>0.3000000 </td></tr>\n",
       "\t<tr><td>0.06666667</td><td>0.1333333 </td><td>0.06666667</td><td>0.2000000 </td><td>0.2333333 </td><td>0.3000000 </td></tr>\n",
       "\t<tr><td>0.20000000</td><td>0.1800000 </td><td>0.18000000</td><td>0.0600000 </td><td>0.2200000 </td><td>0.1600000 </td></tr>\n",
       "\t<tr><td>0.21000000</td><td>0.1700000 </td><td>0.20000000</td><td>0.1700000 </td><td>0.1700000 </td><td>0.0800000 </td></tr>\n",
       "\t<tr><td>0.18000000</td><td>0.1500000 </td><td>0.19666667</td><td>0.1600000 </td><td>0.1500000 </td><td>0.1633333 </td></tr>\n",
       "\t<tr><td>0.17600000</td><td>0.1710000 </td><td>0.16100000</td><td>0.1510000 </td><td>0.1690000 </td><td>0.1720000 </td></tr>\n",
       "\t<tr><td>0.16466667</td><td>0.1626667 </td><td>0.16950000</td><td>0.1723333 </td><td>0.1641667 </td><td>0.1666667 </td></tr>\n",
       "\t<tr><td>0.17390000</td><td>0.1683000 </td><td>0.17260000</td><td>0.1581000 </td><td>0.1585000 </td><td>0.1686000 </td></tr>\n",
       "</tbody>\n",
       "</table>\n"
      ],
      "text/latex": [
       "\\begin{tabular}{r|llllll}\n",
       " X1 & X2 & X3 & X4 & X5 & X6\\\\\n",
       "\\hline\n",
       "\t 0.20000000 & 0.2000000  & 0.10000000 & 0.1000000  & 0.1000000  & 0.3000000 \\\\\n",
       "\t 0.06666667 & 0.1333333  & 0.06666667 & 0.2000000  & 0.2333333  & 0.3000000 \\\\\n",
       "\t 0.20000000 & 0.1800000  & 0.18000000 & 0.0600000  & 0.2200000  & 0.1600000 \\\\\n",
       "\t 0.21000000 & 0.1700000  & 0.20000000 & 0.1700000  & 0.1700000  & 0.0800000 \\\\\n",
       "\t 0.18000000 & 0.1500000  & 0.19666667 & 0.1600000  & 0.1500000  & 0.1633333 \\\\\n",
       "\t 0.17600000 & 0.1710000  & 0.16100000 & 0.1510000  & 0.1690000  & 0.1720000 \\\\\n",
       "\t 0.16466667 & 0.1626667  & 0.16950000 & 0.1723333  & 0.1641667  & 0.1666667 \\\\\n",
       "\t 0.17390000 & 0.1683000  & 0.17260000 & 0.1581000  & 0.1585000  & 0.1686000 \\\\\n",
       "\\end{tabular}\n"
      ],
      "text/markdown": [
       "\n",
       "X1 | X2 | X3 | X4 | X5 | X6 | \n",
       "|---|---|---|---|---|---|---|---|\n",
       "| 0.20000000 | 0.2000000  | 0.10000000 | 0.1000000  | 0.1000000  | 0.3000000  | \n",
       "| 0.06666667 | 0.1333333  | 0.06666667 | 0.2000000  | 0.2333333  | 0.3000000  | \n",
       "| 0.20000000 | 0.1800000  | 0.18000000 | 0.0600000  | 0.2200000  | 0.1600000  | \n",
       "| 0.21000000 | 0.1700000  | 0.20000000 | 0.1700000  | 0.1700000  | 0.0800000  | \n",
       "| 0.18000000 | 0.1500000  | 0.19666667 | 0.1600000  | 0.1500000  | 0.1633333  | \n",
       "| 0.17600000 | 0.1710000  | 0.16100000 | 0.1510000  | 0.1690000  | 0.1720000  | \n",
       "| 0.16466667 | 0.1626667  | 0.16950000 | 0.1723333  | 0.1641667  | 0.1666667  | \n",
       "| 0.17390000 | 0.1683000  | 0.17260000 | 0.1581000  | 0.1585000  | 0.1686000  | \n",
       "\n",
       "\n"
      ],
      "text/plain": [
       "  X1         X2        X3         X4        X5        X6       \n",
       "1 0.20000000 0.2000000 0.10000000 0.1000000 0.1000000 0.3000000\n",
       "2 0.06666667 0.1333333 0.06666667 0.2000000 0.2333333 0.3000000\n",
       "3 0.20000000 0.1800000 0.18000000 0.0600000 0.2200000 0.1600000\n",
       "4 0.21000000 0.1700000 0.20000000 0.1700000 0.1700000 0.0800000\n",
       "5 0.18000000 0.1500000 0.19666667 0.1600000 0.1500000 0.1633333\n",
       "6 0.17600000 0.1710000 0.16100000 0.1510000 0.1690000 0.1720000\n",
       "7 0.16466667 0.1626667 0.16950000 0.1723333 0.1641667 0.1666667\n",
       "8 0.17390000 0.1683000 0.17260000 0.1581000 0.1585000 0.1686000"
      ]
     },
     "metadata": {},
     "output_type": "display_data"
    }
   ],
   "source": [
    "df[2:length(df)]"
   ]
  },
  {
   "cell_type": "code",
   "execution_count": 11,
   "metadata": {},
   "outputs": [
    {
     "data": {
      "text/html": [
       "<table>\n",
       "<thead><tr><th scope=col>n_lancamentos</th><th scope=col>X1</th><th scope=col>X2</th><th scope=col>X3</th><th scope=col>X4</th><th scope=col>X5</th><th scope=col>X6</th></tr></thead>\n",
       "<tbody>\n",
       "\t<tr><td>10        </td><td>0.20000000</td><td>0.2000000 </td><td>0.10000000</td><td>0.1000000 </td><td>0.1000000 </td><td>0.3000000 </td></tr>\n",
       "\t<tr><td>30        </td><td>0.06666667</td><td>0.1333333 </td><td>0.06666667</td><td>0.2000000 </td><td>0.2333333 </td><td>0.3000000 </td></tr>\n",
       "\t<tr><td>50        </td><td>0.20000000</td><td>0.1800000 </td><td>0.18000000</td><td>0.0600000 </td><td>0.2200000 </td><td>0.1600000 </td></tr>\n",
       "\t<tr><td>100       </td><td>0.21000000</td><td>0.1700000 </td><td>0.20000000</td><td>0.1700000 </td><td>0.1700000 </td><td>0.0800000 </td></tr>\n",
       "\t<tr><td>600       </td><td>0.18000000</td><td>0.1500000 </td><td>0.19666667</td><td>0.1600000 </td><td>0.1500000 </td><td>0.1633333 </td></tr>\n",
       "\t<tr><td>1000      </td><td>0.17600000</td><td>0.1710000 </td><td>0.16100000</td><td>0.1510000 </td><td>0.1690000 </td><td>0.1720000 </td></tr>\n",
       "\t<tr><td>6000      </td><td>0.16466667</td><td>0.1626667 </td><td>0.16950000</td><td>0.1723333 </td><td>0.1641667 </td><td>0.1666667 </td></tr>\n",
       "\t<tr><td>10000     </td><td>0.17390000</td><td>0.1683000 </td><td>0.17260000</td><td>0.1581000 </td><td>0.1585000 </td><td>0.1686000 </td></tr>\n",
       "</tbody>\n",
       "</table>\n"
      ],
      "text/latex": [
       "\\begin{tabular}{r|lllllll}\n",
       " n\\_lancamentos & X1 & X2 & X3 & X4 & X5 & X6\\\\\n",
       "\\hline\n",
       "\t 10         & 0.20000000 & 0.2000000  & 0.10000000 & 0.1000000  & 0.1000000  & 0.3000000 \\\\\n",
       "\t 30         & 0.06666667 & 0.1333333  & 0.06666667 & 0.2000000  & 0.2333333  & 0.3000000 \\\\\n",
       "\t 50         & 0.20000000 & 0.1800000  & 0.18000000 & 0.0600000  & 0.2200000  & 0.1600000 \\\\\n",
       "\t 100        & 0.21000000 & 0.1700000  & 0.20000000 & 0.1700000  & 0.1700000  & 0.0800000 \\\\\n",
       "\t 600        & 0.18000000 & 0.1500000  & 0.19666667 & 0.1600000  & 0.1500000  & 0.1633333 \\\\\n",
       "\t 1000       & 0.17600000 & 0.1710000  & 0.16100000 & 0.1510000  & 0.1690000  & 0.1720000 \\\\\n",
       "\t 6000       & 0.16466667 & 0.1626667  & 0.16950000 & 0.1723333  & 0.1641667  & 0.1666667 \\\\\n",
       "\t 10000      & 0.17390000 & 0.1683000  & 0.17260000 & 0.1581000  & 0.1585000  & 0.1686000 \\\\\n",
       "\\end{tabular}\n"
      ],
      "text/markdown": [
       "\n",
       "n_lancamentos | X1 | X2 | X3 | X4 | X5 | X6 | \n",
       "|---|---|---|---|---|---|---|---|\n",
       "| 10         | 0.20000000 | 0.2000000  | 0.10000000 | 0.1000000  | 0.1000000  | 0.3000000  | \n",
       "| 30         | 0.06666667 | 0.1333333  | 0.06666667 | 0.2000000  | 0.2333333  | 0.3000000  | \n",
       "| 50         | 0.20000000 | 0.1800000  | 0.18000000 | 0.0600000  | 0.2200000  | 0.1600000  | \n",
       "| 100        | 0.21000000 | 0.1700000  | 0.20000000 | 0.1700000  | 0.1700000  | 0.0800000  | \n",
       "| 600        | 0.18000000 | 0.1500000  | 0.19666667 | 0.1600000  | 0.1500000  | 0.1633333  | \n",
       "| 1000       | 0.17600000 | 0.1710000  | 0.16100000 | 0.1510000  | 0.1690000  | 0.1720000  | \n",
       "| 6000       | 0.16466667 | 0.1626667  | 0.16950000 | 0.1723333  | 0.1641667  | 0.1666667  | \n",
       "| 10000      | 0.17390000 | 0.1683000  | 0.17260000 | 0.1581000  | 0.1585000  | 0.1686000  | \n",
       "\n",
       "\n"
      ],
      "text/plain": [
       "  n_lancamentos X1         X2        X3         X4        X5        X6       \n",
       "1 10            0.20000000 0.2000000 0.10000000 0.1000000 0.1000000 0.3000000\n",
       "2 30            0.06666667 0.1333333 0.06666667 0.2000000 0.2333333 0.3000000\n",
       "3 50            0.20000000 0.1800000 0.18000000 0.0600000 0.2200000 0.1600000\n",
       "4 100           0.21000000 0.1700000 0.20000000 0.1700000 0.1700000 0.0800000\n",
       "5 600           0.18000000 0.1500000 0.19666667 0.1600000 0.1500000 0.1633333\n",
       "6 1000          0.17600000 0.1710000 0.16100000 0.1510000 0.1690000 0.1720000\n",
       "7 6000          0.16466667 0.1626667 0.16950000 0.1723333 0.1641667 0.1666667\n",
       "8 10000         0.17390000 0.1683000 0.17260000 0.1581000 0.1585000 0.1686000"
      ]
     },
     "metadata": {},
     "output_type": "display_data"
    }
   ],
   "source": [
    "df['n_lancamentos'] = as.character(n_list)\n",
    "df"
   ]
  },
  {
   "cell_type": "code",
   "execution_count": 12,
   "metadata": {},
   "outputs": [
    {
     "data": {},
     "metadata": {},
     "output_type": "display_data"
    },
    {
     "data": {
      "image/png": "[encoded data removed]",
      "text/plain": [
       "plot without title"
      ]
     },
     "metadata": {},
     "output_type": "display_data"
    }
   ],
   "source": [
    "dfm <- melt(df[,c('n_lancamentos','X1','X2', 'X3', 'X4', 'X5', 'X6')],id.vars = 1)\n",
    "\n",
    "ggplot(dfm, aes(x=n_lancamentos, y=value)) +\n",
    "geom_bar(aes(fill = variable), stat = \"identity\")"
   ]
  },
  {
   "cell_type": "markdown",
   "metadata": {},
   "source": [
    "<b>Resposta:</b> Observo que as frequências relativas referentes à quantidade de vezes que um dado cai com a face para cima fica mais próxima de 16,666...%."
   ]
  }
 ],
 "metadata": {
  "kernelspec": {
   "display_name": "R",
   "language": "R",
   "name": "ir"
  },
  "language_info": {
   "codemirror_mode": "r",
   "file_extension": ".r",
   "mimetype": "text/x-r-source",
   "name": "R",
   "pygments_lexer": "r",
   "version": "3.4.3"
  }
 },
 "nbformat": 4,
 "nbformat_minor": 2
}
