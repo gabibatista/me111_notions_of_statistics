{
 "cells": [
  {
   "cell_type": "markdown",
   "metadata": {},
   "source": [
    "# Tarefa\n",
    "Proposta da tarefa 1: https://github.com/gabibatista/me111_notions_of_statistics/blob/master/ME111_Atividade01.pdf\n",
    "\n",
    "## Parte 1\n",
    "##### 1.\n",
    "\n",
    "Repita o experimento descrito acima, mas alterando o número de lançamentos (n) da moeda para n = 10, 20, 30, 50, 100, 500, 1000, 10000. Anote na tabela abaixo o número de caras e as frequências relativas de cara e coroa para cada caso."
   ]
  },
  {
   "cell_type": "code",
   "execution_count": 1,
   "metadata": {},
   "outputs": [],
   "source": [
    "import pandas as pd\n",
    "import numpy as np\n",
    "import matplotlib.pyplot as plt"
   ]
  },
  {
   "cell_type": "code",
   "execution_count": 2,
   "metadata": {},
   "outputs": [],
   "source": [
    "n_list = [10, 20, 50, 100, 500, 1000, 10000] # números de lançamentos\n",
    "results = []\n",
    "\n",
    "for n in n_list:\n",
    "    coins = np.random.randint(2, size=n) # sorteio aletório entre dois inteiros (0 e 1)\n",
    "    k_cnt = len(list(filter(lambda r: r == 1, coins))) # número de coroas\n",
    "    results.append([n, k_cnt, *(np.bincount(coins) / n)])"
   ]
  },
  {
   "cell_type": "code",
   "execution_count": 3,
   "metadata": {},
   "outputs": [
    {
     "data": {
      "text/html": [
       "<div>\n",
       "<style scoped>\n",
       "    .dataframe tbody tr th:only-of-type {\n",
       "        vertical-align: middle;\n",
       "    }\n",
       "\n",
       "    .dataframe tbody tr th {\n",
       "        vertical-align: top;\n",
       "    }\n",
       "\n",
       "    .dataframe thead th {\n",
       "        text-align: right;\n",
       "    }\n",
       "</style>\n",
       "<table border=\"1\" class=\"dataframe\">\n",
       "  <thead>\n",
       "    <tr style=\"text-align: right;\">\n",
       "      <th></th>\n",
       "      <th>Número de Lançamentos</th>\n",
       "      <th>Número de Caras</th>\n",
       "      <th>Proporção de Cara</th>\n",
       "      <th>Proporção de Coroa</th>\n",
       "    </tr>\n",
       "  </thead>\n",
       "  <tbody>\n",
       "    <tr>\n",
       "      <td>0</td>\n",
       "      <td>10</td>\n",
       "      <td>4</td>\n",
       "      <td>0.6000</td>\n",
       "      <td>0.4000</td>\n",
       "    </tr>\n",
       "    <tr>\n",
       "      <td>1</td>\n",
       "      <td>20</td>\n",
       "      <td>9</td>\n",
       "      <td>0.5500</td>\n",
       "      <td>0.4500</td>\n",
       "    </tr>\n",
       "    <tr>\n",
       "      <td>2</td>\n",
       "      <td>50</td>\n",
       "      <td>26</td>\n",
       "      <td>0.4800</td>\n",
       "      <td>0.5200</td>\n",
       "    </tr>\n",
       "    <tr>\n",
       "      <td>3</td>\n",
       "      <td>100</td>\n",
       "      <td>56</td>\n",
       "      <td>0.4400</td>\n",
       "      <td>0.5600</td>\n",
       "    </tr>\n",
       "    <tr>\n",
       "      <td>4</td>\n",
       "      <td>500</td>\n",
       "      <td>244</td>\n",
       "      <td>0.5120</td>\n",
       "      <td>0.4880</td>\n",
       "    </tr>\n",
       "    <tr>\n",
       "      <td>5</td>\n",
       "      <td>1000</td>\n",
       "      <td>516</td>\n",
       "      <td>0.4840</td>\n",
       "      <td>0.5160</td>\n",
       "    </tr>\n",
       "    <tr>\n",
       "      <td>6</td>\n",
       "      <td>10000</td>\n",
       "      <td>5042</td>\n",
       "      <td>0.4958</td>\n",
       "      <td>0.5042</td>\n",
       "    </tr>\n",
       "  </tbody>\n",
       "</table>\n",
       "</div>"
      ],
      "text/plain": [
       "   Número de Lançamentos  Número de Caras  Proporção de Cara  \\\n",
       "0                     10                4             0.6000   \n",
       "1                     20                9             0.5500   \n",
       "2                     50               26             0.4800   \n",
       "3                    100               56             0.4400   \n",
       "4                    500              244             0.5120   \n",
       "5                   1000              516             0.4840   \n",
       "6                  10000             5042             0.4958   \n",
       "\n",
       "   Proporção de Coroa  \n",
       "0              0.4000  \n",
       "1              0.4500  \n",
       "2              0.5200  \n",
       "3              0.5600  \n",
       "4              0.4880  \n",
       "5              0.5160  \n",
       "6              0.5042  "
      ]
     },
     "execution_count": 3,
     "metadata": {},
     "output_type": "execute_result"
    }
   ],
   "source": [
    "cols = ['Número de Lançamentos', 'Número de Caras', 'Proporção de Cara', 'Proporção de Coroa']\n",
    "df = pd.DataFrame(data = results, columns = cols)\n",
    "df"
   ]
  },
  {
   "cell_type": "markdown",
   "metadata": {},
   "source": [
    "##### 2. \n",
    "Reproduza o gráfico de barras da Figura 1 para 100 e 1000 lançamentos da moeda. Você pode fazer o gráfico em outro software (Excel ou onde achar mais fácil)."
   ]
  },
  {
   "cell_type": "code",
   "execution_count": 4,
   "metadata": {},
   "outputs": [
    {
     "data": {
      "image/png": "[encoded data removed]",
      "text/plain": [
       "<Figure size 432x288 with 1 Axes>"
      ]
     },
     "metadata": {},
     "output_type": "display_data"
    }
   ],
   "source": [
    "df[['Número de Lançamentos', 'Proporção de Cara', 'Proporção de Coroa']].plot.bar(x='Número de Lançamentos', rot=360);"
   ]
  },
  {
   "cell_type": "markdown",
   "metadata": {},
   "source": [
    "##### 3. \n",
    "O que você observa sobre a proporção de caras obtida (frequência relativa) à medida que aumentamos n? Como você representaria isso num gráfico?"
   ]
  },
  {
   "cell_type": "markdown",
   "metadata": {},
   "source": [
    "<b>Resposta:</b> Observo que a frequência relativa de caras vai se aproximando mais da frequência relativa de coroas à medida que aumentamos n, fazendo com que as duas se aproximem de 50%. Representaria esse comportamente em um gráfico de linhas mostrando a diferença em pontos percentuais entre as duas proporções, que se aproxima de 0 conforme o espaço amostral (número de lançamentos) é aumentado, como mostrado abaixo."
   ]
  },
  {
   "cell_type": "code",
   "execution_count": 5,
   "metadata": {},
   "outputs": [
    {
     "data": {
      "image/png": "[encoded data removed]",
      "text/plain": [
       "<Figure size 432x288 with 1 Axes>"
      ]
     },
     "metadata": {},
     "output_type": "display_data"
    }
   ],
   "source": [
    "df['Diferença percentual'] = df['Proporção de Cara'] - df['Proporção de Coroa']\n",
    "df.plot.line(x='Número de Lançamentos', y='Diferença percentual', rot=360);"
   ]
  },
  {
   "cell_type": "markdown",
   "metadata": {},
   "source": [
    "## Parte 2\n",
    "##### 1. \n",
    "Repita o experimento do lançamento de um dado, agora alterando o número de lançamentos (n) para n = 10, 30, 50, 100, 600, 1000, 6000, 10000. Anote na tabela abaixo a frequência relativa de cada face para cada caso."
   ]
  },
  {
   "cell_type": "code",
   "execution_count": 6,
   "metadata": {},
   "outputs": [],
   "source": [
    "n_list = [10, 30, 50, 100, 600, 1000, 6000, 10000] # números de lançamentos\n",
    "dice_freq = []\n",
    "\n",
    "for n in n_list:\n",
    "    results = np.random.randint(6, size=n) # sorteio aletório entre seis inteiros (0 a 5)\n",
    "    dice_freq.append([n, *(np.bincount(results) / n)])"
   ]
  },
  {
   "cell_type": "code",
   "execution_count": 7,
   "metadata": {},
   "outputs": [
    {
     "data": {
      "text/html": [
       "<div>\n",
       "<style scoped>\n",
       "    .dataframe tbody tr th:only-of-type {\n",
       "        vertical-align: middle;\n",
       "    }\n",
       "\n",
       "    .dataframe tbody tr th {\n",
       "        vertical-align: top;\n",
       "    }\n",
       "\n",
       "    .dataframe thead th {\n",
       "        text-align: right;\n",
       "    }\n",
       "</style>\n",
       "<table border=\"1\" class=\"dataframe\">\n",
       "  <thead>\n",
       "    <tr style=\"text-align: right;\">\n",
       "      <th></th>\n",
       "      <th>Número de Lançamentos</th>\n",
       "      <th>Face 1</th>\n",
       "      <th>Face 2</th>\n",
       "      <th>Face 3</th>\n",
       "      <th>Face 4</th>\n",
       "      <th>Face 5</th>\n",
       "      <th>Face 6</th>\n",
       "    </tr>\n",
       "  </thead>\n",
       "  <tbody>\n",
       "    <tr>\n",
       "      <td>0</td>\n",
       "      <td>10</td>\n",
       "      <td>0.200000</td>\n",
       "      <td>0.200000</td>\n",
       "      <td>0.000000</td>\n",
       "      <td>0.300000</td>\n",
       "      <td>0.200000</td>\n",
       "      <td>0.100000</td>\n",
       "    </tr>\n",
       "    <tr>\n",
       "      <td>1</td>\n",
       "      <td>30</td>\n",
       "      <td>0.266667</td>\n",
       "      <td>0.066667</td>\n",
       "      <td>0.133333</td>\n",
       "      <td>0.166667</td>\n",
       "      <td>0.200000</td>\n",
       "      <td>0.166667</td>\n",
       "    </tr>\n",
       "    <tr>\n",
       "      <td>2</td>\n",
       "      <td>50</td>\n",
       "      <td>0.140000</td>\n",
       "      <td>0.120000</td>\n",
       "      <td>0.160000</td>\n",
       "      <td>0.220000</td>\n",
       "      <td>0.240000</td>\n",
       "      <td>0.120000</td>\n",
       "    </tr>\n",
       "    <tr>\n",
       "      <td>3</td>\n",
       "      <td>100</td>\n",
       "      <td>0.170000</td>\n",
       "      <td>0.140000</td>\n",
       "      <td>0.260000</td>\n",
       "      <td>0.140000</td>\n",
       "      <td>0.150000</td>\n",
       "      <td>0.140000</td>\n",
       "    </tr>\n",
       "    <tr>\n",
       "      <td>4</td>\n",
       "      <td>600</td>\n",
       "      <td>0.178333</td>\n",
       "      <td>0.155000</td>\n",
       "      <td>0.176667</td>\n",
       "      <td>0.150000</td>\n",
       "      <td>0.165000</td>\n",
       "      <td>0.175000</td>\n",
       "    </tr>\n",
       "    <tr>\n",
       "      <td>5</td>\n",
       "      <td>1000</td>\n",
       "      <td>0.176000</td>\n",
       "      <td>0.164000</td>\n",
       "      <td>0.167000</td>\n",
       "      <td>0.168000</td>\n",
       "      <td>0.163000</td>\n",
       "      <td>0.162000</td>\n",
       "    </tr>\n",
       "    <tr>\n",
       "      <td>6</td>\n",
       "      <td>6000</td>\n",
       "      <td>0.162333</td>\n",
       "      <td>0.159833</td>\n",
       "      <td>0.173000</td>\n",
       "      <td>0.161833</td>\n",
       "      <td>0.176167</td>\n",
       "      <td>0.166833</td>\n",
       "    </tr>\n",
       "    <tr>\n",
       "      <td>7</td>\n",
       "      <td>10000</td>\n",
       "      <td>0.169700</td>\n",
       "      <td>0.166600</td>\n",
       "      <td>0.166100</td>\n",
       "      <td>0.164400</td>\n",
       "      <td>0.170400</td>\n",
       "      <td>0.162800</td>\n",
       "    </tr>\n",
       "  </tbody>\n",
       "</table>\n",
       "</div>"
      ],
      "text/plain": [
       "   Número de Lançamentos    Face 1    Face 2    Face 3    Face 4    Face 5  \\\n",
       "0                     10  0.200000  0.200000  0.000000  0.300000  0.200000   \n",
       "1                     30  0.266667  0.066667  0.133333  0.166667  0.200000   \n",
       "2                     50  0.140000  0.120000  0.160000  0.220000  0.240000   \n",
       "3                    100  0.170000  0.140000  0.260000  0.140000  0.150000   \n",
       "4                    600  0.178333  0.155000  0.176667  0.150000  0.165000   \n",
       "5                   1000  0.176000  0.164000  0.167000  0.168000  0.163000   \n",
       "6                   6000  0.162333  0.159833  0.173000  0.161833  0.176167   \n",
       "7                  10000  0.169700  0.166600  0.166100  0.164400  0.170400   \n",
       "\n",
       "     Face 6  \n",
       "0  0.100000  \n",
       "1  0.166667  \n",
       "2  0.120000  \n",
       "3  0.140000  \n",
       "4  0.175000  \n",
       "5  0.162000  \n",
       "6  0.166833  \n",
       "7  0.162800  "
      ]
     },
     "execution_count": 7,
     "metadata": {},
     "output_type": "execute_result"
    }
   ],
   "source": [
    "cols = ['Número de Lançamentos', 'Face 1', 'Face 2', 'Face 3', 'Face 4', 'Face 5', 'Face 6']\n",
    "df = pd.DataFrame(data = dice_freq, columns = cols)\n",
    "df"
   ]
  },
  {
   "cell_type": "markdown",
   "metadata": {},
   "source": [
    "##### 2. \n",
    "Reproduza o gráfico de barras da Figura 2 para 10000 lançamentos do dado. Você pode fazer o gráfico em outro software (Excel ou onde achar mais fácil)."
   ]
  },
  {
   "cell_type": "code",
   "execution_count": 8,
   "metadata": {},
   "outputs": [
    {
     "data": {
      "text/html": [
       "<div>\n",
       "<style scoped>\n",
       "    .dataframe tbody tr th:only-of-type {\n",
       "        vertical-align: middle;\n",
       "    }\n",
       "\n",
       "    .dataframe tbody tr th {\n",
       "        vertical-align: top;\n",
       "    }\n",
       "\n",
       "    .dataframe thead th {\n",
       "        text-align: right;\n",
       "    }\n",
       "</style>\n",
       "<table border=\"1\" class=\"dataframe\">\n",
       "  <thead>\n",
       "    <tr style=\"text-align: right;\">\n",
       "      <th></th>\n",
       "      <th>Número de Lançamentos</th>\n",
       "      <th>Face 1</th>\n",
       "      <th>Face 2</th>\n",
       "      <th>Face 3</th>\n",
       "      <th>Face 4</th>\n",
       "      <th>Face 5</th>\n",
       "      <th>Face 6</th>\n",
       "    </tr>\n",
       "  </thead>\n",
       "  <tbody>\n",
       "    <tr>\n",
       "      <td>7</td>\n",
       "      <td>10000</td>\n",
       "      <td>0.1697</td>\n",
       "      <td>0.1666</td>\n",
       "      <td>0.1661</td>\n",
       "      <td>0.1644</td>\n",
       "      <td>0.1704</td>\n",
       "      <td>0.1628</td>\n",
       "    </tr>\n",
       "  </tbody>\n",
       "</table>\n",
       "</div>"
      ],
      "text/plain": [
       "   Número de Lançamentos  Face 1  Face 2  Face 3  Face 4  Face 5  Face 6\n",
       "7                  10000  0.1697  0.1666  0.1661  0.1644  0.1704  0.1628"
      ]
     },
     "execution_count": 8,
     "metadata": {},
     "output_type": "execute_result"
    }
   ],
   "source": [
    "df[df['Número de Lançamentos'] == 10000]"
   ]
  },
  {
   "cell_type": "code",
   "execution_count": 9,
   "metadata": {},
   "outputs": [
    {
     "data": {
      "image/png": "[encoded data removed]",
      "text/plain": [
       "<Figure size 432x288 with 1 Axes>"
      ]
     },
     "metadata": {},
     "output_type": "display_data"
    }
   ],
   "source": [
    "df[df['Número de Lançamentos'] == 10000].plot.bar(x='Número de Lançamentos', rot=360);"
   ]
  },
  {
   "cell_type": "markdown",
   "metadata": {},
   "source": [
    "##### 3. \n",
    "O que você observa sobre a proporção das faces (frequência relativa) à medida que aumentam"
   ]
  },
  {
   "cell_type": "code",
   "execution_count": 10,
   "metadata": {},
   "outputs": [
    {
     "data": {
      "image/png": "[encoded data removed]",
      "text/plain": [
       "<Figure size 432x288 with 1 Axes>"
      ]
     },
     "metadata": {},
     "output_type": "display_data"
    }
   ],
   "source": [
    "df.plot.bar(x='Número de Lançamentos', rot=360);"
   ]
  },
  {
   "cell_type": "markdown",
   "metadata": {},
   "source": [
    "<b>Resposta:</b> Observo que as frequências relativas referentes à quantidade de vezes que um dado cai com a face para cima fica mais próxima de 16,666...%."
   ]
  }
 ],
 "metadata": {
  "kernelspec": {
   "display_name": "Python 3",
   "language": "python",
   "name": "python3"
  },
  "language_info": {
   "codemirror_mode": {
    "name": "ipython",
    "version": 3
   },
   "file_extension": ".py",
   "mimetype": "text/x-python",
   "name": "python",
   "nbconvert_exporter": "python",
   "pygments_lexer": "ipython3",
   "version": "3.6.7"
  }
 },
 "nbformat": 4,
 "nbformat_minor": 2
}
