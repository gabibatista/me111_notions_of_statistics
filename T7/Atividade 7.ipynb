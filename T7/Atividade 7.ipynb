{
 "cells": [
  {
   "cell_type": "markdown",
   "metadata": {},
   "source": [
    "Gabriela Nery Batista - 197689"
   ]
  },
  {
   "cell_type": "markdown",
   "metadata": {},
   "source": [
    "# Testes de Hipótese para Dados Categóricos\n",
    "Nessa atividade vocês irão trabalhar os conceitos de testes de hipóteses para variáveis categóricas, nos casos de uma variável ou duas variáveis. Ao final dessa atividade, o aluno deverá:\n",
    "- entender o que é um teste de hipótese;\n",
    "- saber identificar as hipóteses a serem testadas e o teste apropriado;\n",
    "- aplicar os diversos testes em situações reais e tirar conclusões;\n",
    "- realizar esses testes em algum software como R ou Excel.\n",
    "\n",
    "## Problema 1 - Teste Exato de Fisher\n",
    "Nós vimos em aula o experimento “Uma senhora que toma chá” realizado por Fisher. Nesse experimento, 8 xícaras de chá foram utilizadas para testar se a senhora sabia diferenciar o que havia sido colocado primeiro na xícara: chá ou leite.\n",
    "\n",
    "Você, como Estatístico(a), questiona o número de xícaras utilizado e acredita que 8 xícaras é muito pouco para tirar conclusões. Sendo assim, você decide refazer o experimento utilizando 20 xícaras (10 com chá sendo colocado primeiro e 10 com leite sendo colocado primeiro). Nesse caso, a senhora escolheu corretamente 8 das 10 xícaras feitas chá primeiro.\n",
    "\n",
    "a) Resuma o resultado desse experimento em uma tabela de contingência 2x2."
   ]
  },
  {
   "cell_type": "code",
   "execution_count": 1,
   "metadata": {},
   "outputs": [],
   "source": [
    "TeaTasting = matrix(c(8, 2, 2, 8), nrow = 2, dimnames = list(Guess = c(\"Milk\", \"Tea\"), Truth = c(\"Milk\", \"Tea\")))"
   ]
  },
  {
   "cell_type": "code",
   "execution_count": 2,
   "metadata": {},
   "outputs": [
    {
     "data": {
      "text/plain": [
       "TeaTasting\n",
       "2 8 \n",
       "2 2 "
      ]
     },
     "metadata": {},
     "output_type": "display_data"
    }
   ],
   "source": [
    "table(TeaTasting)"
   ]
  },
  {
   "cell_type": "markdown",
   "metadata": {},
   "source": [
    "b) Apresente as hipóteses sendo testadas.\n",
    "\n",
    "\n",
    "<b>Resposta</b>:\n",
    "- H0: A senhora não consegue distinguir entre chá ou leite primeiro e escolhe ao acaso durante o experimento. \n",
    "- H1: A senhora consegue distinguir."
   ]
  },
  {
   "cell_type": "markdown",
   "metadata": {},
   "source": [
    "c) A estatística do teste utilizada é a quantidade de acertos (X) dentre as 10 xícaras feitas com chá primeiro. Sob a hipótese nula, X segue uma distribuição hipergeométrica com que parâmetros? Veja que cada valor possível de X resulta em uma tabela 2x2 diferente e temos associado a essa valor uma probabilidade. Apresente um gráfico com a distribuição de X. Dica: a função dhyper() calcula as probabilidades de uma distribuição hipergeométrica no R."
   ]
  },
  {
   "cell_type": "code",
   "execution_count": 3,
   "metadata": {},
   "outputs": [
    {
     "data": {
      "text/html": [
       "<table>\n",
       "<thead><tr><th></th><th scope=col>Milk</th><th scope=col>Tea</th></tr></thead>\n",
       "<tbody>\n",
       "\t<tr><th scope=row>Milk</th><td>0</td><td>0</td></tr>\n",
       "\t<tr><th scope=row>Tea</th><td>0</td><td>0</td></tr>\n",
       "</tbody>\n",
       "</table>\n"
      ],
      "text/latex": [
       "\\begin{tabular}{r|ll}\n",
       "  & Milk & Tea\\\\\n",
       "\\hline\n",
       "\tMilk & 0 & 0\\\\\n",
       "\tTea & 0 & 0\\\\\n",
       "\\end{tabular}\n"
      ],
      "text/markdown": [
       "\n",
       "| <!--/--> | Milk | Tea | \n",
       "|---|---|\n",
       "| Milk | 0 | 0 | \n",
       "| Tea | 0 | 0 | \n",
       "\n",
       "\n"
      ],
      "text/plain": [
       "      Truth\n",
       "Guess  Milk Tea\n",
       "  Milk 0    0  \n",
       "  Tea  0    0  "
      ]
     },
     "metadata": {},
     "output_type": "display_data"
    }
   ],
   "source": [
    "dhyper(TeaTasting, 10, 10, 20)"
   ]
  },
  {
   "cell_type": "markdown",
   "metadata": {},
   "source": [
    "d) Calcule o p-valor para esse teste. Dica: função fisher.test() no R."
   ]
  },
  {
   "cell_type": "code",
   "execution_count": 4,
   "metadata": {},
   "outputs": [
    {
     "data": {
      "text/plain": [
       "\n",
       "\tFisher's Exact Test for Count Data\n",
       "\n",
       "data:  TeaTasting\n",
       "p-value = 0.01151\n",
       "alternative hypothesis: true odds ratio is greater than 1\n",
       "95 percent confidence interval:\n",
       " 1.720583      Inf\n",
       "sample estimates:\n",
       "odds ratio \n",
       "  13.25038 \n"
      ]
     },
     "metadata": {},
     "output_type": "display_data"
    }
   ],
   "source": [
    "fisher.test(TeaTasting, alternative = \"greater\")"
   ]
  },
  {
   "cell_type": "markdown",
   "metadata": {},
   "source": [
    "e) Assumindo um nível de significância α = 0.05, qual a sua conclusão?\n",
    "\n",
    "<b>Resposta</b>: Com p-value ≃ 0.011, ou seja, p-value < α, podemos considerar que é possível refutar a hipótese nula, tendo, assim, a hipótese alternativa H1 como válida."
   ]
  },
  {
   "cell_type": "markdown",
   "metadata": {},
   "source": [
    "f) Simule a distribuição de X, ou seja, gere números de acertos segundo a configuração do experimento. Repita essa simulação 1000 vezes e apresente um gráfico com a distribuição de X."
   ]
  },
  {
   "cell_type": "code",
   "execution_count": 5,
   "metadata": {},
   "outputs": [],
   "source": [
    "s_counts = c()\n",
    "s_frequencies = c()\n",
    "\n",
    "for (n in seq(0, 1000)) {\n",
    "    trials = sample(0:1, size = 10, replace = TRUE) # sorteio aletório entre dois inteiros (0 e 1)\n",
    "    success_cnt = length(trials[trials==1]) # número de sucessos\n",
    "    s_counts = append(s_counts, success_cnt)\n",
    "}"
   ]
  },
  {
   "cell_type": "code",
   "execution_count": 6,
   "metadata": {},
   "outputs": [
    {
     "data": {
      "image/png": "[encoded data removed]",
      "text/plain": [
       "plot without title"
      ]
     },
     "metadata": {},
     "output_type": "display_data"
    }
   ],
   "source": [
    "barplot(table(s_counts))"
   ]
  },
  {
   "cell_type": "markdown",
   "metadata": {},
   "source": [
    "g) Calcule o p-valor obtido através da simulação e compare-o com o p-valor exato."
   ]
  },
  {
   "cell_type": "code",
   "execution_count": 7,
   "metadata": {},
   "outputs": [],
   "source": [
    "p_values = c()\n",
    "\n",
    "for (trial in s_counts) {\n",
    "    m = matrix(c(trial, 10-trial, 10-trial, trial), nrow = 2)\n",
    "    p_values = append(p_values, unlist(fisher.test(m, alternative = \"greater\")['p.value']))\n",
    "}"
   ]
  },
  {
   "cell_type": "code",
   "execution_count": 8,
   "metadata": {
    "scrolled": true
   },
   "outputs": [
    {
     "data": {
      "text/html": [
       "0.593204101534007"
      ],
      "text/latex": [
       "0.593204101534007"
      ],
      "text/markdown": [
       "0.593204101534007"
      ],
      "text/plain": [
       "[1] 0.5932041"
      ]
     },
     "metadata": {},
     "output_type": "display_data"
    }
   ],
   "source": [
    "mean(p_values)"
   ]
  },
  {
   "cell_type": "markdown",
   "metadata": {},
   "source": [
    "<b>Resposta</b>: O p-valor médio obtido através da simulação é bem maior que o p-valor exato (cerca de 10x maior)."
   ]
  },
  {
   "cell_type": "markdown",
   "metadata": {},
   "source": [
    "## Problema 2 - Lançamento de um Dado\n",
    "a) Para esse problema, vocês devem jogar um dado 60 vezes (manualmente mesmo!) e anotar quantas vezes que cada face ocorreu. Apresente isso em uma tabela."
   ]
  },
  {
   "cell_type": "code",
   "execution_count": 9,
   "metadata": {},
   "outputs": [],
   "source": [
    "dados = c(6, 3, 4, 3, 1, 6, 3, 3, 4, 4, 2, 4, 6, 6, 1, 4, 4, 1, 3, 2, 1, 6, 5, 1, 5, 5, 3, 5, 4, 1, 5, 4, 4, 1, 2, \n",
    "          1, 4, 4, 6, 1, 2, 2, 2, 1, 2, 5, 3, 5, 4, 2, 3, 4, 5, 5, 5, 5, 6, 3, 6, 5)"
   ]
  },
  {
   "cell_type": "code",
   "execution_count": 10,
   "metadata": {},
   "outputs": [
    {
     "data": {
      "text/plain": [
       "dados\n",
       " 1  2  3  4  5  6 \n",
       "10  8  9 13 12  8 "
      ]
     },
     "metadata": {},
     "output_type": "display_data"
    }
   ],
   "source": [
    "table(dados)"
   ]
  },
  {
   "cell_type": "markdown",
   "metadata": {},
   "source": [
    "b) Você está desconfiado que o seu dado apresenta uma tendência de sair mais alguma(s) face(s) que outras. Sendo assim, aplique um teste de aderência nos dados observados para verificar se eles trazem evidência contra a hipótese de que o dado é não viesado, ou seja, todas as faces ocorrem com a mesma frequência. Apresente as hipóteses sendo testadas, a estatística do teste e o p-valor.\n",
    "\n",
    "<b>Hipóteses</b>:\n",
    "\n",
    "- H0: O modelo proposto (não tendenciosidade do dados) é adequado.\n",
    "- H1: O modelo proposto (não tendenciosidade do dados) não é adequado, ou seja, o dado é tendencioso.\n",
    "\n",
    "<b>Estatística do teste e p-valor</b>:"
   ]
  },
  {
   "cell_type": "code",
   "execution_count": 11,
   "metadata": {},
   "outputs": [
    {
     "data": {
      "text/plain": [
       "\n",
       "\tChi-squared test for given probabilities\n",
       "\n",
       "data:  table(dados)\n",
       "X-squared = 2.2, df = 5, p-value = 0.8208\n"
      ]
     },
     "metadata": {},
     "output_type": "display_data"
    }
   ],
   "source": [
    "chisq.test(table(dados))"
   ]
  },
  {
   "cell_type": "markdown",
   "metadata": {},
   "source": [
    "c) Qual a sua conclusão a um nível de significância α = 0.05? O que você observou traz evidência de que o seu dado é não viesado?\n",
    "<b>Resposta</b>: O p-valor foi alto demais ( > α), então podemos dizer que não encontramos evidência suficiente para refutar a Hipótese nula (H0). Dessa forma, podemos considerar que o dado não é enviesado."
   ]
  },
  {
   "cell_type": "markdown",
   "metadata": {},
   "source": [
    "## Problema 3 - Sabor de Skittles\n",
    "Uma amostra de 70 pessoas foi selecionada e essas pessoas responderam qual era o seu Skittle favorito por cor (verde, laranja, roxo, vermelho ou amarelo). Uma outra pesquisa independente amostrou 90 pessoas, perguntando-lhes o seu Skittle favorito, mas ao invés de cor, eles pediram que a escolha foi feita pelo sabor (limão, laranja, uva, morango e limão siciliano, respectivamente). A tabela abaixo mostra os resultados das duas pesquisas. A maneira como as pessoas escolhem seus tipo de Skittle favorito, por cor ou sabor, parece estar relacionado a qual tipo é escolhido? "
   ]
  },
  {
   "cell_type": "code",
   "execution_count": 12,
   "metadata": {},
   "outputs": [
    {
     "data": {
      "text/html": [
       "<table>\n",
       "<thead><tr><th></th><th scope=col>Verde</th><th scope=col>Laranja</th><th scope=col>Roxo</th><th scope=col>Vermelho</th><th scope=col>Amarelo</th><th scope=col>Sum</th></tr></thead>\n",
       "<tbody>\n",
       "\t<tr><th scope=row>Cor</th><td>18 </td><td> 9 </td><td>17 </td><td>15 </td><td>11 </td><td> 70</td></tr>\n",
       "\t<tr><th scope=row>Sabor</th><td>13 </td><td>16 </td><td>19 </td><td>34 </td><td> 8 </td><td> 90</td></tr>\n",
       "\t<tr><th scope=row>Sum</th><td>31 </td><td>25 </td><td>36 </td><td>49 </td><td>19 </td><td>160</td></tr>\n",
       "</tbody>\n",
       "</table>\n"
      ],
      "text/latex": [
       "\\begin{tabular}{r|llllll}\n",
       "  & Verde & Laranja & Roxo & Vermelho & Amarelo & Sum\\\\\n",
       "\\hline\n",
       "\tCor & 18  &  9  & 17  & 15  & 11  &  70\\\\\n",
       "\tSabor & 13  & 16  & 19  & 34  &  8  &  90\\\\\n",
       "\tSum & 31  & 25  & 36  & 49  & 19  & 160\\\\\n",
       "\\end{tabular}\n"
      ],
      "text/markdown": [
       "\n",
       "| <!--/--> | Verde | Laranja | Roxo | Vermelho | Amarelo | Sum | \n",
       "|---|---|---|\n",
       "| Cor | 18  |  9  | 17  | 15  | 11  |  70 | \n",
       "| Sabor | 13  | 16  | 19  | 34  |  8  |  90 | \n",
       "| Sum | 31  | 25  | 36  | 49  | 19  | 160 | \n",
       "\n",
       "\n"
      ],
      "text/plain": [
       "       Truth\n",
       "Guess   Verde Laranja Roxo Vermelho Amarelo Sum\n",
       "  Cor   18     9      17   15       11       70\n",
       "  Sabor 13    16      19   34        8       90\n",
       "  Sum   31    25      36   49       19      160"
      ]
     },
     "metadata": {},
     "output_type": "display_data"
    }
   ],
   "source": [
    "cols = c(\"Verde\", \"Laranja\", \"Roxo\", \"Vermelho\", \"Amarelo\")\n",
    "rows = c(\"Cor\", \"Sabor\")\n",
    "Skittles = matrix(c(18, 13, 9, 16, 17, 19, 15, 34, 11, 8), nrow = 2, dimnames = list(Guess = rows, Truth = cols))\n",
    "addmargins(Skittles)"
   ]
  },
  {
   "cell_type": "markdown",
   "metadata": {},
   "source": [
    "a) Pelo tipo de amostragem realizado, aqui deve ser aplicaddo um teste de independência ou homogeneidade Justifique.\n",
    "\n",
    "<b>Resposta</b>: Teste de independência, pois estamos observando duas classificações simultâneas possíveis e analisando uma quantidade fixa de pessoas."
   ]
  },
  {
   "cell_type": "markdown",
   "metadata": {},
   "source": [
    "b) Quais são as hipóteses sendo testadas?\n",
    "\n",
    "<b>Resposta</b>:\n",
    "- H0: Não há relação entre a cor e o sabor na escolha do tipo favorito de Skittle das pessoas.\n",
    "- H1: A cor ou o sabor influencia as pessoas na escolha do seu tipo favorito de Skittle."
   ]
  },
  {
   "cell_type": "markdown",
   "metadata": {},
   "source": [
    "c) Faça um gráfico que mostre as proporções das preferências de acordo com o critério (cor ou sabor)."
   ]
  },
  {
   "cell_type": "code",
   "execution_count": 13,
   "metadata": {},
   "outputs": [
    {
     "data": {
      "image/png": "[encoded data removed]",
      "text/plain": [
       "plot without title"
      ]
     },
     "metadata": {},
     "output_type": "display_data"
    }
   ],
   "source": [
    "barplot(prop.table(Skittles), legend=c(\"Cor\", \"Sabor\"))"
   ]
  },
  {
   "cell_type": "markdown",
   "metadata": {},
   "source": [
    "d) Apresente uma tabela com os frequências esperadas para cada uma das 10 células da tabela."
   ]
  },
  {
   "cell_type": "code",
   "execution_count": 14,
   "metadata": {},
   "outputs": [
    {
     "data": {
      "text/html": [
       "<table>\n",
       "<thead><tr><th></th><th scope=col>Verde</th><th scope=col>Laranja</th><th scope=col>Roxo</th><th scope=col>Vermelho</th><th scope=col>Amarelo</th></tr></thead>\n",
       "<tbody>\n",
       "\t<tr><th scope=row>Cor</th><td>0.11250</td><td>0.05625</td><td>0.10625</td><td>0.09375</td><td>0.06875</td></tr>\n",
       "\t<tr><th scope=row>Sabor</th><td>0.08125</td><td>0.10000</td><td>0.11875</td><td>0.21250</td><td>0.05000</td></tr>\n",
       "</tbody>\n",
       "</table>\n"
      ],
      "text/latex": [
       "\\begin{tabular}{r|lllll}\n",
       "  & Verde & Laranja & Roxo & Vermelho & Amarelo\\\\\n",
       "\\hline\n",
       "\tCor & 0.11250 & 0.05625 & 0.10625 & 0.09375 & 0.06875\\\\\n",
       "\tSabor & 0.08125 & 0.10000 & 0.11875 & 0.21250 & 0.05000\\\\\n",
       "\\end{tabular}\n"
      ],
      "text/markdown": [
       "\n",
       "| <!--/--> | Verde | Laranja | Roxo | Vermelho | Amarelo | \n",
       "|---|---|\n",
       "| Cor | 0.11250 | 0.05625 | 0.10625 | 0.09375 | 0.06875 | \n",
       "| Sabor | 0.08125 | 0.10000 | 0.11875 | 0.21250 | 0.05000 | \n",
       "\n",
       "\n"
      ],
      "text/plain": [
       "       Truth\n",
       "Guess   Verde   Laranja Roxo    Vermelho Amarelo\n",
       "  Cor   0.11250 0.05625 0.10625 0.09375  0.06875\n",
       "  Sabor 0.08125 0.10000 0.11875 0.21250  0.05000"
      ]
     },
     "metadata": {},
     "output_type": "display_data"
    }
   ],
   "source": [
    "prop.table(Skittles)"
   ]
  },
  {
   "cell_type": "markdown",
   "metadata": {},
   "source": [
    "e) As suposições para o teste qui-quadrado são satisfeitas, ou seja, as frequências esperadas são grandes o suficiente?"
   ]
  },
  {
   "cell_type": "markdown",
   "metadata": {},
   "source": [
    "<b>Resposta</b>: Não, as frequências não são grandes o suficiente pois o p-value > 0.05, e o X²observado é menor que o X²crítico."
   ]
  },
  {
   "cell_type": "markdown",
   "metadata": {},
   "source": [
    "f) Calcule a estatística do teste e o p-valor. Dica: use a função chisq.test() no R."
   ]
  },
  {
   "cell_type": "code",
   "execution_count": 15,
   "metadata": {},
   "outputs": [
    {
     "name": "stderr",
     "output_type": "stream",
     "text": [
      "Warning message in chisq.test(prop.table(Skittles)):\n",
      "“Chi-squared approximation may be incorrect”"
     ]
    },
    {
     "data": {
      "text/plain": [
       "\n",
       "\tPearson's Chi-squared test\n",
       "\n",
       "data:  prop.table(Skittles)\n",
       "X-squared = 0.052182, df = 4, p-value = 0.9997\n"
      ]
     },
     "metadata": {},
     "output_type": "display_data"
    }
   ],
   "source": [
    "chisq.test(prop.table(Skittles))"
   ]
  },
  {
   "cell_type": "markdown",
   "metadata": {},
   "source": [
    "g) O que você conclui desse teste? Existe evidência nos dados que o método de escolha (cor ou sabor) afeta nas respostas?\n",
    "\n",
    "<b>Resposta</b>: O teste prova que não há evidências suficientes para refutar H0, ou seja, não podemos afirmar que o método de escolha (cor ou sabor) afeta as respostas das pessoas sobre seu tipo favorito de Skittles."
   ]
  },
  {
   "cell_type": "markdown",
   "metadata": {},
   "source": [
    "## Problema 4 - Discriminação de Gênero\n",
    "Você acredita que existe discriminação de gênero e que em um banco, por exemplo, homens são promovidos com mais frequência que mulheres, mesmo tendo as mesmas qualificações? Um experimento foi realizado para verificar esse fato. Um total de 48 gerentes de banco participaram do estudo. Os gerentes foram questionados se eles recomendariam um candidato em particular para promoção ou não. Cada gerente recebeu um currículo e determinou se o candidato deveria ser promovido. Os currículos que eles receberam eram idênticos, exceto pelo fato que 24 deles foram identificados como sendo de homens e 24 deles sendo de mulheres. Desses 48 candidatos, 34 foram recomendados para promoção e 14 não foram. Dentre os 24 homens, 21 foram recomendados para promoção. Enquanto que dentre as 24 mulheres, 13 foram\n",
    "recomendadas para promoção. Os resultados estão resumidos na tabela abaixo."
   ]
  },
  {
   "cell_type": "code",
   "execution_count": 16,
   "metadata": {},
   "outputs": [
    {
     "data": {
      "text/html": [
       "<table>\n",
       "<thead><tr><th></th><th scope=col>Promoção</th><th scope=col>Não Promoção</th><th scope=col>Sum</th></tr></thead>\n",
       "<tbody>\n",
       "\t<tr><th scope=row>Homem</th><td>21</td><td> 3</td><td>24</td></tr>\n",
       "\t<tr><th scope=row>Mulher</th><td>13</td><td>11</td><td>24</td></tr>\n",
       "\t<tr><th scope=row>Sum</th><td>34</td><td>14</td><td>48</td></tr>\n",
       "</tbody>\n",
       "</table>\n"
      ],
      "text/latex": [
       "\\begin{tabular}{r|lll}\n",
       "  & Promoção & Não Promoção & Sum\\\\\n",
       "\\hline\n",
       "\tHomem & 21 &  3 & 24\\\\\n",
       "\tMulher & 13 & 11 & 24\\\\\n",
       "\tSum & 34 & 14 & 48\\\\\n",
       "\\end{tabular}\n"
      ],
      "text/markdown": [
       "\n",
       "| <!--/--> | Promoção | Não Promoção | Sum | \n",
       "|---|---|---|\n",
       "| Homem | 21 |  3 | 24 | \n",
       "| Mulher | 13 | 11 | 24 | \n",
       "| Sum | 34 | 14 | 48 | \n",
       "\n",
       "\n"
      ],
      "text/plain": [
       "        Truth\n",
       "Guess    Promoção Não Promoção Sum\n",
       "  Homem  21        3           24 \n",
       "  Mulher 13       11           24 \n",
       "  Sum    34       14           48 "
      ]
     },
     "metadata": {},
     "output_type": "display_data"
    }
   ],
   "source": [
    "cols = c(\"Promoção\", \"Não Promoção\")\n",
    "rows = c(\"Homem\", \"Mulher\")\n",
    "prom = matrix(c(21, 13, 3, 11), nrow = 2, dimnames = list(Guess = rows, Truth = cols))\n",
    "addmargins(prom)"
   ]
  },
  {
   "cell_type": "markdown",
   "metadata": {},
   "source": [
    "a) Apresente as hipóteses a serem testadas nesse caso para verificar se existe discriminação de gênero.\n",
    "\n",
    "<b>Resposta</b>:\n",
    "- H0: Não há discriminação de gênero entre as pessoas que receberam ou não promoção.\n",
    "- H1: Há discriminação, ou seja, conseguimos encontrar evidências suficientes para considerar que mulheres são menos promovidas que homens simplesmente por serem mulheres."
   ]
  },
  {
   "cell_type": "markdown",
   "metadata": {},
   "source": [
    "b) Calcule as proporções de promoção dentro de cada gênero e verifique a diferença entre essas duas proporções. Parece haver indício de que homens são promovidos com mais frequência que mulheres?"
   ]
  },
  {
   "cell_type": "code",
   "execution_count": 17,
   "metadata": {},
   "outputs": [
    {
     "name": "stdout",
     "output_type": "stream",
     "text": [
      "[1] \"Homens\"\n"
     ]
    },
    {
     "data": {
      "text/html": [
       "<dl class=dl-horizontal>\n",
       "\t<dt>Promoção</dt>\n",
       "\t\t<dd>0.875</dd>\n",
       "\t<dt>Não Promoção</dt>\n",
       "\t\t<dd>0.125</dd>\n",
       "</dl>\n"
      ],
      "text/latex": [
       "\\begin{description*}\n",
       "\\item[Promoção] 0.875\n",
       "\\item[Não Promoção] 0.125\n",
       "\\end{description*}\n"
      ],
      "text/markdown": [
       "Promoção\n",
       ":   0.875Não Promoção\n",
       ":   0.125\n",
       "\n"
      ],
      "text/plain": [
       "    Promoção Não Promoção \n",
       "       0.875        0.125 "
      ]
     },
     "metadata": {},
     "output_type": "display_data"
    },
    {
     "name": "stdout",
     "output_type": "stream",
     "text": [
      "[1] \"Mulheres\"\n"
     ]
    },
    {
     "data": {
      "text/html": [
       "<dl class=dl-horizontal>\n",
       "\t<dt>Promoção</dt>\n",
       "\t\t<dd>0.541666666666667</dd>\n",
       "\t<dt>Não Promoção</dt>\n",
       "\t\t<dd>0.458333333333333</dd>\n",
       "</dl>\n"
      ],
      "text/latex": [
       "\\begin{description*}\n",
       "\\item[Promoção] 0.541666666666667\n",
       "\\item[Não Promoção] 0.458333333333333\n",
       "\\end{description*}\n"
      ],
      "text/markdown": [
       "Promoção\n",
       ":   0.541666666666667Não Promoção\n",
       ":   0.458333333333333\n",
       "\n"
      ],
      "text/plain": [
       "    Promoção Não Promoção \n",
       "   0.5416667    0.4583333 "
      ]
     },
     "metadata": {},
     "output_type": "display_data"
    }
   ],
   "source": [
    "print(\"Homens\")\n",
    "prop.table(prom[1,])\n",
    "\n",
    "print(\"Mulheres\")\n",
    "prop.table(prom[2,])"
   ]
  },
  {
   "cell_type": "markdown",
   "metadata": {},
   "source": [
    "<b>Resposta</b>: Sim, parecer haver um forte indício de que homens são promovidos com mais frequência que mulheres por ter uma diferença bem maior de homens que receberam promoção para homens que não receberam promoção (com a maior fatia estando em homens que receberam promoção) do que de mulheres que receberam ou não promoção (mesmo que a maior fatia ainda seja mulheres que receberam promoção)."
   ]
  },
  {
   "cell_type": "markdown",
   "metadata": {},
   "source": [
    "c) Faça um gráfico de barras que mostre a proporção de promoção para cada gênero. Visualmente, existe uma diferença entre gêneros?"
   ]
  },
  {
   "cell_type": "code",
   "execution_count": 18,
   "metadata": {},
   "outputs": [
    {
     "data": {
      "image/png": "[encoded data removed]",
      "text/plain": [
       "plot without title"
      ]
     },
     "metadata": {},
     "output_type": "display_data"
    }
   ],
   "source": [
    "barplot(prop.table(prom), legend=c(\"Homem\", \"Mulher\"))"
   ]
  },
  {
   "cell_type": "markdown",
   "metadata": {},
   "source": [
    "<b>Resposta</b>: Sim! Visualmente vemos uma diferença bem grande entre os gêneros, com predominantemente mais homens na coluna de pessoas que receberam promoção e predominantemente mais mulheres na coluna de pessoas que não receberam promoção."
   ]
  },
  {
   "cell_type": "markdown",
   "metadata": {},
   "source": [
    "d) Faça um teste de homogeneidade. Apresente a estatística do teste qui-quadrado e o p-valor. Dica: use a função chisq.test() no R."
   ]
  },
  {
   "cell_type": "code",
   "execution_count": 19,
   "metadata": {},
   "outputs": [
    {
     "data": {
      "text/plain": [
       "\n",
       "\tPearson's Chi-squared test with Yates' continuity correction\n",
       "\n",
       "data:  prom\n",
       "X-squared = 4.9412, df = 1, p-value = 0.02622\n"
      ]
     },
     "metadata": {},
     "output_type": "display_data"
    }
   ],
   "source": [
    "chisq.test(prom)"
   ]
  },
  {
   "cell_type": "markdown",
   "metadata": {},
   "source": [
    "e) Assumindo um nível de significância de α = 0.05, existe evidência nos dados de que existe discriminação de gênero?\n",
    "\n",
    "<b>Resposta</b>: Não temos evidência nos dados de que existe discriminação de gênero, pois, apesar do p-valor ser menor que 0.05 (um nível de significância razoável), o X²observado não é maior que o X²crítico, que é 5, apesar de muito próximo."
   ]
  },
  {
   "cell_type": "markdown",
   "metadata": {},
   "source": [
    "## Problema 5 - Medidas dos Pés e Mãos\n",
    "Para esse problema, iremos trabalhar com os comprimentos dos pés e das mãos de cada um de vocês. Você deve utilizar uma fita métrica ou qualquer outra ferramenta para medir o comprimento do seu pé e sua mão e o mesmo critério deve ser aplicado a ambos os lados (direito e esquerdo). A precisão não é importante, pois o interesse é apenas na medida relativa, ou seja, dizer que mão ou pé é maior.\n",
    "\n",
    "Por favor, enviem seus dados preenchendo o formulário disponível no link: https://forms.gle/Tmoa5AkoA2DjZFVN9\n",
    "\n",
    "Nesse formulário temos informações sobre gênero, mão dominante (destro/canhoto), e qual pé e mão tem maior comprimento. A planilha com os dados será disponibilizada pelo Moodle na Atividade 07. \n",
    "\n",
    "Com base nesses dados, façam o teste de associação apropriado entre os pares de variáveis em cada um dos itens abaixo, explicitando as hipóteses sendo testadas, estatística do teste, p-valor e conclusão."
   ]
  },
  {
   "cell_type": "code",
   "execution_count": 20,
   "metadata": {},
   "outputs": [
    {
     "name": "stderr",
     "output_type": "stream",
     "text": [
      "gdata: read.xls support for 'XLS' (Excel 97-2004) files ENABLED.\n",
      "\n",
      "gdata: read.xls support for 'XLSX' (Excel 2007+) files ENABLED.\n",
      "\n",
      "Attaching package: ‘gdata’\n",
      "\n",
      "The following object is masked from ‘package:stats’:\n",
      "\n",
      "    nobs\n",
      "\n",
      "The following object is masked from ‘package:utils’:\n",
      "\n",
      "    object.size\n",
      "\n",
      "The following object is masked from ‘package:base’:\n",
      "\n",
      "    startsWith\n",
      "\n"
     ]
    },
    {
     "data": {
      "text/html": [
       "'LC_CTYPE=C;LC_NUMERIC=C;LC_TIME=C;LC_COLLATE=C;LC_MONETARY=C;LC_MESSAGES=pt_BR.UTF-8;LC_PAPER=pt_BR.UTF-8;LC_NAME=C;LC_ADDRESS=C;LC_TELEPHONE=C;LC_MEASUREMENT=pt_BR.UTF-8;LC_IDENTIFICATION=C'"
      ],
      "text/latex": [
       "'LC\\_CTYPE=C;LC\\_NUMERIC=C;LC\\_TIME=C;LC\\_COLLATE=C;LC\\_MONETARY=C;LC\\_MESSAGES=pt\\_BR.UTF-8;LC\\_PAPER=pt\\_BR.UTF-8;LC\\_NAME=C;LC\\_ADDRESS=C;LC\\_TELEPHONE=C;LC\\_MEASUREMENT=pt\\_BR.UTF-8;LC\\_IDENTIFICATION=C'"
      ],
      "text/markdown": [
       "'LC_CTYPE=C;LC_NUMERIC=C;LC_TIME=C;LC_COLLATE=C;LC_MONETARY=C;LC_MESSAGES=pt_BR.UTF-8;LC_PAPER=pt_BR.UTF-8;LC_NAME=C;LC_ADDRESS=C;LC_TELEPHONE=C;LC_MEASUREMENT=pt_BR.UTF-8;LC_IDENTIFICATION=C'"
      ],
      "text/plain": [
       "[1] \"LC_CTYPE=C;LC_NUMERIC=C;LC_TIME=C;LC_COLLATE=C;LC_MONETARY=C;LC_MESSAGES=pt_BR.UTF-8;LC_PAPER=pt_BR.UTF-8;LC_NAME=C;LC_ADDRESS=C;LC_TELEPHONE=C;LC_MEASUREMENT=pt_BR.UTF-8;LC_IDENTIFICATION=C\""
      ]
     },
     "metadata": {},
     "output_type": "display_data"
    }
   ],
   "source": [
    "library(gdata)\n",
    "Sys.setlocale('LC_ALL','C')"
   ]
  },
  {
   "cell_type": "code",
   "execution_count": 21,
   "metadata": {},
   "outputs": [],
   "source": [
    "data = read.xls(\"ME111Prob5Respostas.xlsx\", sheet = 1, header = TRUE)"
   ]
  },
  {
   "cell_type": "code",
   "execution_count": 22,
   "metadata": {},
   "outputs": [
    {
     "data": {
      "text/html": [
       "<table>\n",
       "<thead><tr><th scope=col>Aluno</th><th scope=col>Genero</th><th scope=col>MaoEscreve</th><th scope=col>PeMaior</th><th scope=col>MaoMaior</th></tr></thead>\n",
       "<tbody>\n",
       "\t<tr><td>1                    </td><td>Masculino            </td><td>Destro               </td><td>Os dois s<e3>o iguais</td><td>As duas s<e3>o iguais</td></tr>\n",
       "\t<tr><td>2                    </td><td>Feminino             </td><td>Destro               </td><td>P<e9> direito        </td><td>As duas s<e3>o iguais</td></tr>\n",
       "\t<tr><td>3                    </td><td>Masculino            </td><td>Destro               </td><td>Os dois s<e3>o iguais</td><td>As duas s<e3>o iguais</td></tr>\n",
       "\t<tr><td>4                    </td><td>Feminino             </td><td>Destro               </td><td>P<e9> esquerdo       </td><td>As duas s<e3>o iguais</td></tr>\n",
       "\t<tr><td>5                    </td><td>Masculino            </td><td>Destro               </td><td>P<e9> direito        </td><td>As duas s<e3>o iguais</td></tr>\n",
       "\t<tr><td>6                    </td><td>Masculino            </td><td>Destro               </td><td>P<e9> direito        </td><td>As duas s<e3>o iguais</td></tr>\n",
       "</tbody>\n",
       "</table>\n"
      ],
      "text/latex": [
       "\\begin{tabular}{r|lllll}\n",
       " Aluno & Genero & MaoEscreve & PeMaior & MaoMaior\\\\\n",
       "\\hline\n",
       "\t 1                     & Masculino             & Destro                & Os dois s<e3>o iguais & As duas s<e3>o iguais\\\\\n",
       "\t 2                     & Feminino              & Destro                & P<e9> direito         & As duas s<e3>o iguais\\\\\n",
       "\t 3                     & Masculino             & Destro                & Os dois s<e3>o iguais & As duas s<e3>o iguais\\\\\n",
       "\t 4                     & Feminino              & Destro                & P<e9> esquerdo        & As duas s<e3>o iguais\\\\\n",
       "\t 5                     & Masculino             & Destro                & P<e9> direito         & As duas s<e3>o iguais\\\\\n",
       "\t 6                     & Masculino             & Destro                & P<e9> direito         & As duas s<e3>o iguais\\\\\n",
       "\\end{tabular}\n"
      ],
      "text/markdown": [
       "\n",
       "Aluno | Genero | MaoEscreve | PeMaior | MaoMaior | \n",
       "|---|---|---|---|---|---|\n",
       "| 1                     | Masculino             | Destro                | Os dois s<e3>o iguais | As duas s<e3>o iguais | \n",
       "| 2                     | Feminino              | Destro                | P<e9> direito         | As duas s<e3>o iguais | \n",
       "| 3                     | Masculino             | Destro                | Os dois s<e3>o iguais | As duas s<e3>o iguais | \n",
       "| 4                     | Feminino              | Destro                | P<e9> esquerdo        | As duas s<e3>o iguais | \n",
       "| 5                     | Masculino             | Destro                | P<e9> direito         | As duas s<e3>o iguais | \n",
       "| 6                     | Masculino             | Destro                | P<e9> direito         | As duas s<e3>o iguais | \n",
       "\n",
       "\n"
      ],
      "text/plain": [
       "  Aluno Genero    MaoEscreve PeMaior               MaoMaior             \n",
       "1 1     Masculino Destro     Os dois s\\343o iguais As duas s\\343o iguais\n",
       "2 2     Feminino  Destro     P\\351 direito         As duas s\\343o iguais\n",
       "3 3     Masculino Destro     Os dois s\\343o iguais As duas s\\343o iguais\n",
       "4 4     Feminino  Destro     P\\351 esquerdo        As duas s\\343o iguais\n",
       "5 5     Masculino Destro     P\\351 direito         As duas s\\343o iguais\n",
       "6 6     Masculino Destro     P\\351 direito         As duas s\\343o iguais"
      ]
     },
     "metadata": {},
     "output_type": "display_data"
    }
   ],
   "source": [
    "head(data)"
   ]
  },
  {
   "cell_type": "markdown",
   "metadata": {},
   "source": [
    "a) Tamanhos do pé e mão."
   ]
  },
  {
   "cell_type": "code",
   "execution_count": 34,
   "metadata": {},
   "outputs": [
    {
     "data": {
      "text/plain": [
       "                       \n",
       "                        As duas s\\343o iguais M\\343o direita M\\343o esquerda\n",
       "  Os dois s\\343o iguais                    24              5               3\n",
       "  P\\351 direito                             8              0               4\n",
       "  P\\351 esquerdo                           11              3               7"
      ]
     },
     "metadata": {},
     "output_type": "display_data"
    }
   ],
   "source": [
    "tam = table(data$PeMaior, data$MaoMaior)\n",
    "tam"
   ]
  },
  {
   "cell_type": "code",
   "execution_count": 51,
   "metadata": {},
   "outputs": [
    {
     "data": {
      "text/plain": [
       "           \n",
       "            Os dois s\\343o iguais P\\351 direito P\\351 esquerdo\n",
       "  Feminino             0.15384615    0.07692308     0.15384615\n",
       "  Masculino            0.33846154    0.10769231     0.16923077"
      ]
     },
     "metadata": {},
     "output_type": "display_data"
    }
   ],
   "source": [
    "prop.table(tam)"
   ]
  },
  {
   "cell_type": "markdown",
   "metadata": {},
   "source": [
    "- H0: Não há influência do tamanho do pé sobre o tamanho da mão e vice versa.\n",
    "- H1: O tamanho das mãos influenciam no tamanho dos pés e vice versa.\n",
    "\n",
    "\n",
    "> teste simples de hipótese (teste de fisher)"
   ]
  },
  {
   "cell_type": "code",
   "execution_count": 35,
   "metadata": {},
   "outputs": [
    {
     "name": "stderr",
     "output_type": "stream",
     "text": [
      "Warning message in chisq.test(tam):\n",
      "\"Chi-squared approximation may be incorrect\""
     ]
    },
    {
     "data": {
      "text/plain": [
       "\n",
       "\tPearson's Chi-squared test\n",
       "\n",
       "data:  tam\n",
       "X-squared = 7.1406, df = 4, p-value = 0.1286\n"
      ]
     },
     "metadata": {},
     "output_type": "display_data"
    }
   ],
   "source": [
    "# Estatística do teste e p-valor:\n",
    "chisq.test(tam)"
   ]
  },
  {
   "cell_type": "markdown",
   "metadata": {},
   "source": [
    "<b>Conclusão</b>: Hipótese nula refutada, ou seja hipótese alternativa foi validada: o tamanho do pé influencia no tamanho da mão e vice versa."
   ]
  },
  {
   "cell_type": "markdown",
   "metadata": {},
   "source": [
    "b) Destro/canhoto e tamanho do pé."
   ]
  },
  {
   "cell_type": "code",
   "execution_count": 37,
   "metadata": {},
   "outputs": [
    {
     "data": {
      "text/plain": [
       "                       \n",
       "                        Canhoto Destro\n",
       "  Os dois s\\343o iguais       1     31\n",
       "  P\\351 direito               0     12\n",
       "  P\\351 esquerdo              2     19"
      ]
     },
     "metadata": {},
     "output_type": "display_data"
    }
   ],
   "source": [
    "tam = table(data$PeMaior, data$MaoEscreve)\n",
    "tam"
   ]
  },
  {
   "cell_type": "code",
   "execution_count": 50,
   "metadata": {},
   "outputs": [
    {
     "data": {
      "text/plain": [
       "           \n",
       "            Os dois s\\343o iguais P\\351 direito P\\351 esquerdo\n",
       "  Feminino             0.15384615    0.07692308     0.15384615\n",
       "  Masculino            0.33846154    0.10769231     0.16923077"
      ]
     },
     "metadata": {},
     "output_type": "display_data"
    }
   ],
   "source": [
    "prop.table(tam)"
   ]
  },
  {
   "cell_type": "markdown",
   "metadata": {},
   "source": [
    "- H0: Não há influência do tamanho do pé sobre a mão dominante e vice versa.\n",
    "- H1: O tamanho dos pés influenciam na mão que será dominante e vice versa.\n",
    "\n",
    "> teste simples de hipótese (teste de fisher)"
   ]
  },
  {
   "cell_type": "code",
   "execution_count": 40,
   "metadata": {},
   "outputs": [
    {
     "name": "stderr",
     "output_type": "stream",
     "text": [
      "Warning message in chisq.test(tam):\n",
      "\"Chi-squared approximation may be incorrect\""
     ]
    },
    {
     "data": {
      "text/plain": [
       "\n",
       "\tPearson's Chi-squared test\n",
       "\n",
       "data:  tam\n",
       "X-squared = 1.8914, df = 2, p-value = 0.3884\n"
      ]
     },
     "metadata": {},
     "output_type": "display_data"
    }
   ],
   "source": [
    "# Estatística do teste e p-valor:\n",
    "chisq.test(tam)"
   ]
  },
  {
   "cell_type": "markdown",
   "metadata": {},
   "source": [
    "<b>Conclusão</b>: Hipótese nula não refutada, ou seja hipótese alternativa não pode ser validada por conta de falta de evidências (p-value alto demais e X-squared não é alto suficiente)."
   ]
  },
  {
   "cell_type": "markdown",
   "metadata": {},
   "source": [
    "c) Gênero e tamanho do pé."
   ]
  },
  {
   "cell_type": "code",
   "execution_count": 48,
   "metadata": {},
   "outputs": [
    {
     "data": {
      "text/plain": [
       "           \n",
       "            Os dois s\\343o iguais P\\351 direito P\\351 esquerdo\n",
       "  Feminino                     10             5             10\n",
       "  Masculino                    22             7             11"
      ]
     },
     "metadata": {},
     "output_type": "display_data"
    }
   ],
   "source": [
    "tam = table(data$Genero, data$PeMaior)\n",
    "tam"
   ]
  },
  {
   "cell_type": "code",
   "execution_count": 49,
   "metadata": {},
   "outputs": [
    {
     "name": "stdout",
     "output_type": "stream",
     "text": [
      "[1] \"Masculino\"\n"
     ]
    },
    {
     "data": {
      "text/html": [
       "<dl class=dl-horizontal>\n",
       "\t<dt>Os dois s<e3>o iguais</dt>\n",
       "\t\t<dd>0.4</dd>\n",
       "\t<dt>P<e9> direito</dt>\n",
       "\t\t<dd>0.2</dd>\n",
       "\t<dt>P<e9> esquerdo</dt>\n",
       "\t\t<dd>0.4</dd>\n",
       "</dl>\n"
      ],
      "text/latex": [
       "\\begin{description*}\n",
       "\\item[Os dois s<e3>o iguais] 0.4\n",
       "\\item[P<e9> direito] 0.2\n",
       "\\item[P<e9> esquerdo] 0.4\n",
       "\\end{description*}\n"
      ],
      "text/markdown": [
       "Os dois s<e3>o iguais\n",
       ":   0.4P<e9> direito\n",
       ":   0.2P<e9> esquerdo\n",
       ":   0.4\n",
       "\n"
      ],
      "text/plain": [
       "Os dois s\\343o iguais         P\\351 direito        P\\351 esquerdo \n",
       "                  0.4                   0.2                   0.4 "
      ]
     },
     "metadata": {},
     "output_type": "display_data"
    },
    {
     "name": "stdout",
     "output_type": "stream",
     "text": [
      "[1] \"Feminino\"\n"
     ]
    },
    {
     "data": {
      "text/html": [
       "<dl class=dl-horizontal>\n",
       "\t<dt>Os dois s<e3>o iguais</dt>\n",
       "\t\t<dd>0.55</dd>\n",
       "\t<dt>P<e9> direito</dt>\n",
       "\t\t<dd>0.175</dd>\n",
       "\t<dt>P<e9> esquerdo</dt>\n",
       "\t\t<dd>0.275</dd>\n",
       "</dl>\n"
      ],
      "text/latex": [
       "\\begin{description*}\n",
       "\\item[Os dois s<e3>o iguais] 0.55\n",
       "\\item[P<e9> direito] 0.175\n",
       "\\item[P<e9> esquerdo] 0.275\n",
       "\\end{description*}\n"
      ],
      "text/markdown": [
       "Os dois s<e3>o iguais\n",
       ":   0.55P<e9> direito\n",
       ":   0.175P<e9> esquerdo\n",
       ":   0.275\n",
       "\n"
      ],
      "text/plain": [
       "Os dois s\\343o iguais         P\\351 direito        P\\351 esquerdo \n",
       "                0.550                 0.175                 0.275 "
      ]
     },
     "metadata": {},
     "output_type": "display_data"
    }
   ],
   "source": [
    "print(\"Masculino\")\n",
    "prop.table(tam[1,])\n",
    "print(\"Feminino\")\n",
    "prop.table(tam[2,])"
   ]
  },
  {
   "cell_type": "markdown",
   "metadata": {},
   "source": [
    "- H0: Não há influência do gênero sobre o tamanho do pé da pessoa.\n",
    "- H1: O tamanho dos pés são influenciados pelo gênero.\n",
    "\n",
    "> Teste de Independência"
   ]
  },
  {
   "cell_type": "code",
   "execution_count": 43,
   "metadata": {},
   "outputs": [
    {
     "name": "stderr",
     "output_type": "stream",
     "text": [
      "Warning message in chisq.test(tam):\n",
      "\"Chi-squared approximation may be incorrect\""
     ]
    },
    {
     "data": {
      "text/plain": [
       "\n",
       "\tPearson's Chi-squared test\n",
       "\n",
       "data:  tam\n",
       "X-squared = 1.4993, df = 2, p-value = 0.4725\n"
      ]
     },
     "metadata": {},
     "output_type": "display_data"
    }
   ],
   "source": [
    "# Estatística do teste e p-valor:\n",
    "chisq.test(tam)"
   ]
  },
  {
   "cell_type": "markdown",
   "metadata": {},
   "source": [
    "<b>Conclusão</b>: Hipótese nula refutada, ou seja hipótese alternativa foi validada: o tamanho do pé é influenciado pelo gênero."
   ]
  },
  {
   "cell_type": "markdown",
   "metadata": {},
   "source": [
    "d) Gênero e ser destro/canhoto."
   ]
  },
  {
   "cell_type": "code",
   "execution_count": 44,
   "metadata": {},
   "outputs": [
    {
     "data": {
      "text/plain": [
       "         \n",
       "          Feminino Masculino\n",
       "  Canhoto        0         3\n",
       "  Destro        25        37"
      ]
     },
     "metadata": {},
     "output_type": "display_data"
    }
   ],
   "source": [
    "tam = table(data$MaoEscreve, data$Genero)\n",
    "tam"
   ]
  },
  {
   "cell_type": "code",
   "execution_count": 45,
   "metadata": {},
   "outputs": [
    {
     "data": {
      "text/plain": [
       "         \n",
       "            Feminino  Masculino\n",
       "  Canhoto 0.00000000 0.04615385\n",
       "  Destro  0.38461538 0.56923077"
      ]
     },
     "metadata": {},
     "output_type": "display_data"
    }
   ],
   "source": [
    "prop.table(table(data$MaoEscreve, data$Genero))"
   ]
  },
  {
   "cell_type": "markdown",
   "metadata": {},
   "source": [
    "- H0: Não há influência do gênero sobre o tamanho do pé da pessoa.\n",
    "- H1: O tamanho dos pés são influenciados pelo gênero.\n",
    "\n",
    "> Teste de hegemoneidade"
   ]
  },
  {
   "cell_type": "code",
   "execution_count": 43,
   "metadata": {},
   "outputs": [
    {
     "name": "stderr",
     "output_type": "stream",
     "text": [
      "Warning message in chisq.test(tam):\n",
      "\"Chi-squared approximation may be incorrect\""
     ]
    },
    {
     "data": {
      "text/plain": [
       "\n",
       "\tPearson's Chi-squared test\n",
       "\n",
       "data:  tam\n",
       "X-squared = 1.4993, df = 2, p-value = 0.4725\n"
      ]
     },
     "metadata": {},
     "output_type": "display_data"
    }
   ],
   "source": [
    "# Estatística do teste e p-valor:\n",
    "chisq.test(tam)"
   ]
  },
  {
   "cell_type": "markdown",
   "metadata": {},
   "source": [
    "<b>Conclusão</b>: Hipótese nula refutada, ou seja hipótese alternativa foi validada: o tamanho do pé é influenciado pelo gênero."
   ]
  },
  {
   "cell_type": "code",
   "execution_count": null,
   "metadata": {},
   "outputs": [],
   "source": []
  }
 ],
 "metadata": {
  "kernelspec": {
   "display_name": "R",
   "language": "R",
   "name": "ir"
  },
  "language_info": {
   "codemirror_mode": "r",
   "file_extension": ".r",
   "mimetype": "text/x-r-source",
   "name": "R",
   "pygments_lexer": "r",
   "version": "3.4.3"
  }
 },
 "nbformat": 4,
 "nbformat_minor": 2
}
