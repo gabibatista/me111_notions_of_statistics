{
 "cells": [
  {
   "cell_type": "markdown",
   "metadata": {},
   "source": [
    "# Tarefa 4"
   ]
  },
  {
   "cell_type": "markdown",
   "metadata": {},
   "source": [
    "#### Carregando dados"
   ]
  },
  {
   "cell_type": "code",
   "execution_count": 1,
   "metadata": {},
   "outputs": [],
   "source": [
    "source(\"http://www.openintro.org/stat/data/cdc.R\")"
   ]
  },
  {
   "cell_type": "markdown",
   "metadata": {},
   "source": [
    "#### Analisando dados"
   ]
  },
  {
   "cell_type": "code",
   "execution_count": 2,
   "metadata": {},
   "outputs": [
    {
     "data": {
      "text/html": [
       "<table>\n",
       "<thead><tr><th scope=col>genhlth</th><th scope=col>exerany</th><th scope=col>hlthplan</th><th scope=col>smoke100</th><th scope=col>height</th><th scope=col>weight</th><th scope=col>wtdesire</th><th scope=col>age</th><th scope=col>gender</th></tr></thead>\n",
       "<tbody>\n",
       "\t<tr><td>good     </td><td>0        </td><td>1        </td><td>0        </td><td>70       </td><td>175      </td><td>175      </td><td>77       </td><td>m        </td></tr>\n",
       "\t<tr><td>good     </td><td>0        </td><td>1        </td><td>1        </td><td>64       </td><td>125      </td><td>115      </td><td>33       </td><td>f        </td></tr>\n",
       "\t<tr><td>good     </td><td>1        </td><td>1        </td><td>1        </td><td>60       </td><td>105      </td><td>105      </td><td>49       </td><td>f        </td></tr>\n",
       "\t<tr><td>good     </td><td>1        </td><td>1        </td><td>0        </td><td>66       </td><td>132      </td><td>124      </td><td>42       </td><td>f        </td></tr>\n",
       "\t<tr><td>very good</td><td>0        </td><td>1        </td><td>0        </td><td>61       </td><td>150      </td><td>130      </td><td>55       </td><td>f        </td></tr>\n",
       "\t<tr><td>very good</td><td>1        </td><td>1        </td><td>0        </td><td>64       </td><td>114      </td><td>114      </td><td>55       </td><td>f        </td></tr>\n",
       "</tbody>\n",
       "</table>\n"
      ],
      "text/latex": [
       "\\begin{tabular}{r|lllllllll}\n",
       " genhlth & exerany & hlthplan & smoke100 & height & weight & wtdesire & age & gender\\\\\n",
       "\\hline\n",
       "\t good      & 0         & 1         & 0         & 70        & 175       & 175       & 77        & m        \\\\\n",
       "\t good      & 0         & 1         & 1         & 64        & 125       & 115       & 33        & f        \\\\\n",
       "\t good      & 1         & 1         & 1         & 60        & 105       & 105       & 49        & f        \\\\\n",
       "\t good      & 1         & 1         & 0         & 66        & 132       & 124       & 42        & f        \\\\\n",
       "\t very good & 0         & 1         & 0         & 61        & 150       & 130       & 55        & f        \\\\\n",
       "\t very good & 1         & 1         & 0         & 64        & 114       & 114       & 55        & f        \\\\\n",
       "\\end{tabular}\n"
      ],
      "text/markdown": [
       "\n",
       "genhlth | exerany | hlthplan | smoke100 | height | weight | wtdesire | age | gender | \n",
       "|---|---|---|---|---|---|\n",
       "| good      | 0         | 1         | 0         | 70        | 175       | 175       | 77        | m         | \n",
       "| good      | 0         | 1         | 1         | 64        | 125       | 115       | 33        | f         | \n",
       "| good      | 1         | 1         | 1         | 60        | 105       | 105       | 49        | f         | \n",
       "| good      | 1         | 1         | 0         | 66        | 132       | 124       | 42        | f         | \n",
       "| very good | 0         | 1         | 0         | 61        | 150       | 130       | 55        | f         | \n",
       "| very good | 1         | 1         | 0         | 64        | 114       | 114       | 55        | f         | \n",
       "\n",
       "\n"
      ],
      "text/plain": [
       "  genhlth   exerany hlthplan smoke100 height weight wtdesire age gender\n",
       "1 good      0       1        0        70     175    175      77  m     \n",
       "2 good      0       1        1        64     125    115      33  f     \n",
       "3 good      1       1        1        60     105    105      49  f     \n",
       "4 good      1       1        0        66     132    124      42  f     \n",
       "5 very good 0       1        0        61     150    130      55  f     \n",
       "6 very good 1       1        0        64     114    114      55  f     "
      ]
     },
     "metadata": {},
     "output_type": "display_data"
    }
   ],
   "source": [
    "head(cdc)"
   ]
  },
  {
   "cell_type": "code",
   "execution_count": 3,
   "metadata": {},
   "outputs": [
    {
     "data": {
      "text/html": [
       "'Colunas:'"
      ],
      "text/latex": [
       "'Colunas:'"
      ],
      "text/markdown": [
       "'Colunas:'"
      ],
      "text/plain": [
       "[1] \"Colunas:\""
      ]
     },
     "metadata": {},
     "output_type": "display_data"
    },
    {
     "data": {
      "text/html": [
       "<ol class=list-inline>\n",
       "\t<li>'genhlth'</li>\n",
       "\t<li>'exerany'</li>\n",
       "\t<li>'hlthplan'</li>\n",
       "\t<li>'smoke100'</li>\n",
       "\t<li>'height'</li>\n",
       "\t<li>'weight'</li>\n",
       "\t<li>'wtdesire'</li>\n",
       "\t<li>'age'</li>\n",
       "\t<li>'gender'</li>\n",
       "</ol>\n"
      ],
      "text/latex": [
       "\\begin{enumerate*}\n",
       "\\item 'genhlth'\n",
       "\\item 'exerany'\n",
       "\\item 'hlthplan'\n",
       "\\item 'smoke100'\n",
       "\\item 'height'\n",
       "\\item 'weight'\n",
       "\\item 'wtdesire'\n",
       "\\item 'age'\n",
       "\\item 'gender'\n",
       "\\end{enumerate*}\n"
      ],
      "text/markdown": [
       "1. 'genhlth'\n",
       "2. 'exerany'\n",
       "3. 'hlthplan'\n",
       "4. 'smoke100'\n",
       "5. 'height'\n",
       "6. 'weight'\n",
       "7. 'wtdesire'\n",
       "8. 'age'\n",
       "9. 'gender'\n",
       "\n",
       "\n"
      ],
      "text/plain": [
       "[1] \"genhlth\"  \"exerany\"  \"hlthplan\" \"smoke100\" \"height\"   \"weight\"   \"wtdesire\"\n",
       "[8] \"age\"      \"gender\"  "
      ]
     },
     "metadata": {},
     "output_type": "display_data"
    }
   ],
   "source": [
    "'Colunas:'\n",
    "names(cdc)"
   ]
  },
  {
   "cell_type": "code",
   "execution_count": 4,
   "metadata": {},
   "outputs": [
    {
     "data": {
      "text/html": [
       "'Quantidade de dados:'"
      ],
      "text/latex": [
       "'Quantidade de dados:'"
      ],
      "text/markdown": [
       "'Quantidade de dados:'"
      ],
      "text/plain": [
       "[1] \"Quantidade de dados:\""
      ]
     },
     "metadata": {},
     "output_type": "display_data"
    },
    {
     "data": {
      "text/html": [
       "20000"
      ],
      "text/latex": [
       "20000"
      ],
      "text/markdown": [
       "20000"
      ],
      "text/plain": [
       "[1] 20000"
      ]
     },
     "metadata": {},
     "output_type": "display_data"
    },
    {
     "data": {
      "text/html": [
       "'Quantidade de variáveis:'"
      ],
      "text/latex": [
       "'Quantidade de variáveis:'"
      ],
      "text/markdown": [
       "'Quantidade de variáveis:'"
      ],
      "text/plain": [
       "[1] \"Quantidade de variáveis:\""
      ]
     },
     "metadata": {},
     "output_type": "display_data"
    },
    {
     "data": {
      "text/html": [
       "9"
      ],
      "text/latex": [
       "9"
      ],
      "text/markdown": [
       "9"
      ],
      "text/plain": [
       "[1] 9"
      ]
     },
     "metadata": {},
     "output_type": "display_data"
    }
   ],
   "source": [
    "'Quantidade de dados:'\n",
    "cnt <- nrow(cdc)\n",
    "cnt\n",
    "\n",
    "'Quantidade de variáveis:'\n",
    "length(cdc)"
   ]
  },
  {
   "cell_type": "markdown",
   "metadata": {},
   "source": [
    "<b>Exercício 1</b> Há quantos casos neste conjunto de dados? Quantas variáveis? Para cada variável, identifique seu tipo de dado (por exemplo: categórica, contínua)\n",
    "\n",
    "\n",
    "<b>Resposta:</b> Há 20000 casos neste conjunto de dados, com 9 variáveis, sendo estas: 'genhlth', 'exerany', 'hlthplan', 'smoke100' e 'gender' variáveis categóricas e 'height', 'weight', 'wtdesire' e 'age' variáveis contínuas.\n"
   ]
  },
  {
   "cell_type": "markdown",
   "metadata": {},
   "source": [
    "<b>Exercício 2</b> O que acontece quando você utiliza a função `summary` no conjunto de dados todo, isto é, sem especificar alguma variável? Experimente.\n",
    "\n",
    "<b>Resposta:</b> Como observado abaixo, sem especificar alguma variável, o `summary` é aplicado a todas as colunas do nosso dataset."
   ]
  },
  {
   "cell_type": "code",
   "execution_count": 5,
   "metadata": {},
   "outputs": [
    {
     "data": {
      "text/plain": [
       "   Min. 1st Qu.  Median    Mean 3rd Qu.    Max. \n",
       "   68.0   140.0   165.0   169.7   190.0   500.0 "
      ]
     },
     "metadata": {},
     "output_type": "display_data"
    }
   ],
   "source": [
    "summary(cdc$weight)"
   ]
  },
  {
   "cell_type": "code",
   "execution_count": 6,
   "metadata": {},
   "outputs": [
    {
     "data": {
      "text/plain": [
       "      genhlth        exerany          hlthplan         smoke100     \n",
       " excellent:4657   Min.   :0.0000   Min.   :0.0000   Min.   :0.0000  \n",
       " very good:6972   1st Qu.:0.0000   1st Qu.:1.0000   1st Qu.:0.0000  \n",
       " good     :5675   Median :1.0000   Median :1.0000   Median :0.0000  \n",
       " fair     :2019   Mean   :0.7457   Mean   :0.8738   Mean   :0.4721  \n",
       " poor     : 677   3rd Qu.:1.0000   3rd Qu.:1.0000   3rd Qu.:1.0000  \n",
       "                  Max.   :1.0000   Max.   :1.0000   Max.   :1.0000  \n",
       "     height          weight         wtdesire          age        gender   \n",
       " Min.   :48.00   Min.   : 68.0   Min.   : 68.0   Min.   :18.00   m: 9569  \n",
       " 1st Qu.:64.00   1st Qu.:140.0   1st Qu.:130.0   1st Qu.:31.00   f:10431  \n",
       " Median :67.00   Median :165.0   Median :150.0   Median :43.00            \n",
       " Mean   :67.18   Mean   :169.7   Mean   :155.1   Mean   :45.07            \n",
       " 3rd Qu.:70.00   3rd Qu.:190.0   3rd Qu.:175.0   3rd Qu.:57.00            \n",
       " Max.   :93.00   Max.   :500.0   Max.   :680.0   Max.   :99.00            "
      ]
     },
     "metadata": {},
     "output_type": "display_data"
    }
   ],
   "source": [
    "summary(cdc)"
   ]
  },
  {
   "cell_type": "markdown",
   "metadata": {},
   "source": [
    "<b>Exercício 3</b> Crie um sumário numérico para height (altura) e age (idade), e calcule o intervalo interquartílico para cada um. Calcule a distribuição de frequência relativa para gender e exerany. Quantos homens compõem a amostra? Qual proporção da amostra diz estar com saúde excelente?"
   ]
  },
  {
   "cell_type": "markdown",
   "metadata": {},
   "source": [
    "###### Sumário numérico"
   ]
  },
  {
   "cell_type": "code",
   "execution_count": 7,
   "metadata": {},
   "outputs": [
    {
     "data": {
      "text/plain": [
       "     height           age       \n",
       " Min.   :48.00   Min.   :18.00  \n",
       " 1st Qu.:64.00   1st Qu.:31.00  \n",
       " Median :67.00   Median :43.00  \n",
       " Mean   :67.18   Mean   :45.07  \n",
       " 3rd Qu.:70.00   3rd Qu.:57.00  \n",
       " Max.   :93.00   Max.   :99.00  "
      ]
     },
     "metadata": {},
     "output_type": "display_data"
    }
   ],
   "source": [
    "s <- summary(cdc[c('height', 'age')])\n",
    "s"
   ]
  },
  {
   "cell_type": "markdown",
   "metadata": {},
   "source": [
    "###### Intervalos interquartílicos"
   ]
  },
  {
   "cell_type": "code",
   "execution_count": 8,
   "metadata": {},
   "outputs": [
    {
     "data": {
      "text/html": [
       "'Height: '"
      ],
      "text/latex": [
       "'Height: '"
      ],
      "text/markdown": [
       "'Height: '"
      ],
      "text/plain": [
       "[1] \"Height: \""
      ]
     },
     "metadata": {},
     "output_type": "display_data"
    },
    {
     "data": {
      "text/html": [
       "6"
      ],
      "text/latex": [
       "6"
      ],
      "text/markdown": [
       "6"
      ],
      "text/plain": [
       "[1] 6"
      ]
     },
     "metadata": {},
     "output_type": "display_data"
    },
    {
     "data": {
      "text/html": [
       "'Age: '"
      ],
      "text/latex": [
       "'Age: '"
      ],
      "text/markdown": [
       "'Age: '"
      ],
      "text/plain": [
       "[1] \"Age: \""
      ]
     },
     "metadata": {},
     "output_type": "display_data"
    },
    {
     "data": {
      "text/html": [
       "26"
      ],
      "text/latex": [
       "26"
      ],
      "text/markdown": [
       "26"
      ],
      "text/plain": [
       "[1] 26"
      ]
     },
     "metadata": {},
     "output_type": "display_data"
    }
   ],
   "source": [
    "## height\n",
    "'Height: '\n",
    "70 - 64\n",
    "\n",
    "## age\n",
    "'Age: '\n",
    "57 - 31"
   ]
  },
  {
   "cell_type": "markdown",
   "metadata": {},
   "source": [
    "###### Frequência relativa"
   ]
  },
  {
   "cell_type": "code",
   "execution_count": 9,
   "metadata": {},
   "outputs": [
    {
     "data": {
      "text/plain": [
       "      exerany\n",
       "gender       0       1\n",
       "     m 0.10745 0.37100\n",
       "     f 0.14685 0.37470"
      ]
     },
     "metadata": {},
     "output_type": "display_data"
    }
   ],
   "source": [
    "table(cdc[c('gender', 'exerany')])/cnt"
   ]
  },
  {
   "cell_type": "markdown",
   "metadata": {},
   "source": [
    "##### Frequência absoluta"
   ]
  },
  {
   "cell_type": "code",
   "execution_count": 10,
   "metadata": {},
   "outputs": [
    {
     "data": {
      "text/plain": [
       "      exerany\n",
       "gender    0    1\n",
       "     m 2149 7420\n",
       "     f 2937 7494"
      ]
     },
     "metadata": {},
     "output_type": "display_data"
    }
   ],
   "source": [
    "table(cdc[c('gender', 'exerany')])"
   ]
  },
  {
   "cell_type": "markdown",
   "metadata": {},
   "source": [
    "Há 9569 homens na amostra."
   ]
  },
  {
   "cell_type": "code",
   "execution_count": 11,
   "metadata": {},
   "outputs": [
    {
     "data": {
      "text/plain": [
       "\n",
       "excellent very good      good      fair      poor \n",
       "  0.23285   0.34860   0.28375   0.10095   0.03385 "
      ]
     },
     "metadata": {},
     "output_type": "display_data"
    }
   ],
   "source": [
    "table(cdc['genhlth'])/cnt"
   ]
  },
  {
   "cell_type": "markdown",
   "metadata": {},
   "source": [
    "0.23285 dizem estar com a saúde excelente."
   ]
  },
  {
   "cell_type": "markdown",
   "metadata": {},
   "source": [
    "<b>Exercício 4</b> O que o gráfico de mosaico revela sobre os hábitos de fumar e gênero?\n",
    "\n",
    "\n",
    "<b>Resposta: </b> Revela que, além de ter mais mulheres que homens, há mais homens que fumam e mais mulheres que não fumam."
   ]
  },
  {
   "cell_type": "code",
   "execution_count": 12,
   "metadata": {},
   "outputs": [
    {
     "data": {
      "image/png": "[encoded data removed]",
      "text/plain": [
       "Plot with title “table(cdc$gender, cdc$smoke100)”"
      ]
     },
     "metadata": {},
     "output_type": "display_data"
    }
   ],
   "source": [
    "mosaicplot(table(cdc$gender, cdc$smoke100))"
   ]
  },
  {
   "cell_type": "markdown",
   "metadata": {},
   "source": [
    "<b>Exercício 5</b> Crie um novo objeto denominado `under23_and_smoke` (ou, se preferir, `abaixo23_e_fuma`) que contém todas as observações dos respondentes com menos de 23 anos que fumaram pelo menos 100 cigarros ao longo de sua vida. Escreva o comando que você utilizou para criar o novo objeto como resposta para esse exercício."
   ]
  },
  {
   "cell_type": "code",
   "execution_count": 13,
   "metadata": {},
   "outputs": [
    {
     "data": {
      "text/html": [
       "<table>\n",
       "<thead><tr><th></th><th scope=col>genhlth</th><th scope=col>exerany</th><th scope=col>hlthplan</th><th scope=col>smoke100</th><th scope=col>height</th><th scope=col>weight</th><th scope=col>wtdesire</th><th scope=col>age</th><th scope=col>gender</th></tr></thead>\n",
       "<tbody>\n",
       "\t<tr><th scope=row>13</th><td>excellent</td><td>1        </td><td>0        </td><td>1        </td><td>66       </td><td>185      </td><td>220      </td><td>21       </td><td>m        </td></tr>\n",
       "\t<tr><th scope=row>37</th><td>very good</td><td>1        </td><td>0        </td><td>1        </td><td>70       </td><td>160      </td><td>140      </td><td>18       </td><td>f        </td></tr>\n",
       "\t<tr><th scope=row>96</th><td>excellent</td><td>1        </td><td>1        </td><td>1        </td><td>74       </td><td>175      </td><td>200      </td><td>22       </td><td>m        </td></tr>\n",
       "\t<tr><th scope=row>180</th><td>good     </td><td>1        </td><td>1        </td><td>1        </td><td>64       </td><td>190      </td><td>140      </td><td>20       </td><td>f        </td></tr>\n",
       "\t<tr><th scope=row>182</th><td>very good</td><td>1        </td><td>1        </td><td>1        </td><td>62       </td><td> 92      </td><td> 92      </td><td>21       </td><td>f        </td></tr>\n",
       "\t<tr><th scope=row>240</th><td>very good</td><td>1        </td><td>0        </td><td>1        </td><td>64       </td><td>125      </td><td>115      </td><td>22       </td><td>f        </td></tr>\n",
       "</tbody>\n",
       "</table>\n"
      ],
      "text/latex": [
       "\\begin{tabular}{r|lllllllll}\n",
       "  & genhlth & exerany & hlthplan & smoke100 & height & weight & wtdesire & age & gender\\\\\n",
       "\\hline\n",
       "\t13 & excellent & 1         & 0         & 1         & 66        & 185       & 220       & 21        & m        \\\\\n",
       "\t37 & very good & 1         & 0         & 1         & 70        & 160       & 140       & 18        & f        \\\\\n",
       "\t96 & excellent & 1         & 1         & 1         & 74        & 175       & 200       & 22        & m        \\\\\n",
       "\t180 & good      & 1         & 1         & 1         & 64        & 190       & 140       & 20        & f        \\\\\n",
       "\t182 & very good & 1         & 1         & 1         & 62        &  92       &  92       & 21        & f        \\\\\n",
       "\t240 & very good & 1         & 0         & 1         & 64        & 125       & 115       & 22        & f        \\\\\n",
       "\\end{tabular}\n"
      ],
      "text/markdown": [
       "\n",
       "| <!--/--> | genhlth | exerany | hlthplan | smoke100 | height | weight | wtdesire | age | gender | \n",
       "|---|---|---|---|---|---|\n",
       "| 13 | excellent | 1         | 0         | 1         | 66        | 185       | 220       | 21        | m         | \n",
       "| 37 | very good | 1         | 0         | 1         | 70        | 160       | 140       | 18        | f         | \n",
       "| 96 | excellent | 1         | 1         | 1         | 74        | 175       | 200       | 22        | m         | \n",
       "| 180 | good      | 1         | 1         | 1         | 64        | 190       | 140       | 20        | f         | \n",
       "| 182 | very good | 1         | 1         | 1         | 62        |  92       |  92       | 21        | f         | \n",
       "| 240 | very good | 1         | 0         | 1         | 64        | 125       | 115       | 22        | f         | \n",
       "\n",
       "\n"
      ],
      "text/plain": [
       "    genhlth   exerany hlthplan smoke100 height weight wtdesire age gender\n",
       "13  excellent 1       0        1        66     185    220      21  m     \n",
       "37  very good 1       0        1        70     160    140      18  f     \n",
       "96  excellent 1       1        1        74     175    200      22  m     \n",
       "180 good      1       1        1        64     190    140      20  f     \n",
       "182 very good 1       1        1        62      92     92      21  f     \n",
       "240 very good 1       0        1        64     125    115      22  f     "
      ]
     },
     "metadata": {},
     "output_type": "display_data"
    }
   ],
   "source": [
    "under23_and_smoke <- subset(cdc, cdc$age < 23 & cdc$smoke100 == 1)\n",
    "head(under23_and_smoke)"
   ]
  },
  {
   "cell_type": "code",
   "execution_count": 14,
   "metadata": {},
   "outputs": [
    {
     "data": {
      "image/png": "[encoded data removed]",
      "text/plain": [
       "plot without title"
      ]
     },
     "metadata": {},
     "output_type": "display_data"
    }
   ],
   "source": [
    "bmi <- (cdc$weight / cdc$height^2) * 703\n",
    "boxplot(bmi ~ cdc$genhlth)"
   ]
  },
  {
   "cell_type": "markdown",
   "metadata": {},
   "source": [
    "<b>Exercício 6</b> O que este gráfico de caixas mostra? Escolha outra variável categorial do conjunto de dados e verifique como ela se relaciona ao IMC. Liste a variável que você escolheu, por que você pensou que ela poderia ter relação com o IMC e indique o que o gráfico parece sugerir.\n",
    "\n",
    "<b>Resposta:</b> O gráfico de caixas mostra que quanto melhor a saúde das pessoas, menor seu IMC e mais concentrado próximo à mediana. Acredito que a variável `exerany` se relaciona com o IMC, pois pessoas que se exercitam com frequência tendem a ter uma saúde melhor (como observado no gráfico acima, o valor do IMC deve diminuir nesses casos). Como mostrado no gráfico abaixo, pessoas que se exercitaram no último mês realmente possuem um valor de IMC menor."
   ]
  },
  {
   "cell_type": "code",
   "execution_count": 15,
   "metadata": {},
   "outputs": [
    {
     "data": {
      "image/png": "[encoded data removed]",
      "text/plain": [
       "plot without title"
      ]
     },
     "metadata": {},
     "output_type": "display_data"
    }
   ],
   "source": [
    "boxplot(bmi ~ cdc$exerany)"
   ]
  }
 ],
 "metadata": {
  "kernelspec": {
   "display_name": "R",
   "language": "R",
   "name": "ir"
  },
  "language_info": {
   "codemirror_mode": "r",
   "file_extension": ".r",
   "mimetype": "text/x-r-source",
   "name": "R",
   "pygments_lexer": "r",
   "version": "3.4.3"
  }
 },
 "nbformat": 4,
 "nbformat_minor": 2
}
