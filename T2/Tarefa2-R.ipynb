{
 "cells": [
  {
   "cell_type": "markdown",
   "metadata": {},
   "source": [
    "# Tarefa\n",
    "https://github.com/gabibatista/me111_notions_of_statistics/blob/master/T2/ME111_Atividade02.pdf\n",
    "\n",
    "##### 1. Jogando dois dados\n",
    "\n",
    "Dois dado são lançados simultaneamente, um vermelho e um verde. Considere os seguintes eventos: \n",
    "\n",
    "\n",
    "> A = {dado verde maior que dado vermelho}\n",
    "\n",
    "> B = {soma igual a 7}\n",
    "\n",
    "> C = {soma igual a 3}\n",
    "\n",
    "\n",
    "Calcule as probabilidades teóricas abaixo (algumas já foram calculadas na lista 2 de ME110) e escreva-as em\n",
    "termos do eventos A, B e C.\n",
    "\n",
    "\n",
    "<b>a)</b> Qual é a probabilidade de que o dado verde apresente um valor maior do que o vermelho?\n",
    "\n",
    "<b>Resposta: </b> P(A) ≃ 0,42.\n",
    "\n",
    "\n",
    "<b>b)</b> Qual é a probabilidade de que soma dos resultados seja igual a 7?\n",
    "\n",
    "<b>Resposta: </b> P(B) ≃ 0,17.\n",
    "\n",
    "\n",
    "<b>c)</b> Qual é a probabilidade de que soma dos resultados seja igual a 3 ou 7?\n",
    "\n",
    "<b>Resposta: </b> P(B ou C) = P(B) + P(C) ≃ 0,17 + 0,06 ≃ 0,23.\n",
    "\n",
    "\n",
    "---\n",
    "##### Simulação do lançamento de dois dados"
   ]
  },
  {
   "cell_type": "code",
   "execution_count": 1,
   "metadata": {},
   "outputs": [
    {
     "data": {
      "text/html": [
       "'Red sample: '"
      ],
      "text/latex": [
       "'Red sample: '"
      ],
      "text/markdown": [
       "'Red sample: '"
      ],
      "text/plain": [
       "[1] \"Red sample: \""
      ]
     },
     "metadata": {},
     "output_type": "display_data"
    },
    {
     "data": {
      "text/html": [
       "<ol class=list-inline>\n",
       "\t<li>1</li>\n",
       "\t<li>2</li>\n",
       "\t<li>6</li>\n",
       "\t<li>6</li>\n",
       "\t<li>1</li>\n",
       "\t<li>5</li>\n",
       "\t<li>5</li>\n",
       "\t<li>2</li>\n",
       "\t<li>5</li>\n",
       "\t<li>6</li>\n",
       "</ol>\n"
      ],
      "text/latex": [
       "\\begin{enumerate*}\n",
       "\\item 1\n",
       "\\item 2\n",
       "\\item 6\n",
       "\\item 6\n",
       "\\item 1\n",
       "\\item 5\n",
       "\\item 5\n",
       "\\item 2\n",
       "\\item 5\n",
       "\\item 6\n",
       "\\end{enumerate*}\n"
      ],
      "text/markdown": [
       "1. 1\n",
       "2. 2\n",
       "3. 6\n",
       "4. 6\n",
       "5. 1\n",
       "6. 5\n",
       "7. 5\n",
       "8. 2\n",
       "9. 5\n",
       "10. 6\n",
       "\n",
       "\n"
      ],
      "text/plain": [
       " [1] 1 2 6 6 1 5 5 2 5 6"
      ]
     },
     "metadata": {},
     "output_type": "display_data"
    },
    {
     "data": {
      "text/html": [
       "'Green sample:'"
      ],
      "text/latex": [
       "'Green sample:'"
      ],
      "text/markdown": [
       "'Green sample:'"
      ],
      "text/plain": [
       "[1] \"Green sample:\""
      ]
     },
     "metadata": {},
     "output_type": "display_data"
    },
    {
     "data": {
      "text/html": [
       "<ol class=list-inline>\n",
       "\t<li>1</li>\n",
       "\t<li>5</li>\n",
       "\t<li>4</li>\n",
       "\t<li>3</li>\n",
       "\t<li>2</li>\n",
       "\t<li>5</li>\n",
       "\t<li>3</li>\n",
       "\t<li>4</li>\n",
       "\t<li>3</li>\n",
       "\t<li>3</li>\n",
       "</ol>\n"
      ],
      "text/latex": [
       "\\begin{enumerate*}\n",
       "\\item 1\n",
       "\\item 5\n",
       "\\item 4\n",
       "\\item 3\n",
       "\\item 2\n",
       "\\item 5\n",
       "\\item 3\n",
       "\\item 4\n",
       "\\item 3\n",
       "\\item 3\n",
       "\\end{enumerate*}\n"
      ],
      "text/markdown": [
       "1. 1\n",
       "2. 5\n",
       "3. 4\n",
       "4. 3\n",
       "5. 2\n",
       "6. 5\n",
       "7. 3\n",
       "8. 4\n",
       "9. 3\n",
       "10. 3\n",
       "\n",
       "\n"
      ],
      "text/plain": [
       " [1] 1 5 4 3 2 5 3 4 3 3"
      ]
     },
     "metadata": {},
     "output_type": "display_data"
    }
   ],
   "source": [
    "n <- 1000 # número de lançamentos\n",
    "\n",
    "red_dice_results <- sample(1:6, size=n, replace=TRUE) # sorteio aletório entre seis inteiros (1 a 6)\n",
    "green_dice_results <- sample(1:6, size=n, replace=TRUE) # sorteio aletório entre seis inteiros (1 a 6)\n",
    "\n",
    "'Red sample: '\n",
    "red_dice_results[1:10]\n",
    "'Green sample:' \n",
    "green_dice_results[1:10]"
   ]
  },
  {
   "cell_type": "markdown",
   "metadata": {},
   "source": [
    "<b>a)</b> Qual é a probabilidade de que o dado verde apresente um valor maior do que o vermelho?"
   ]
  },
  {
   "cell_type": "code",
   "execution_count": 2,
   "metadata": {},
   "outputs": [
    {
     "data": {
      "text/html": [
       "<strong>TRUE:</strong> 466"
      ],
      "text/latex": [
       "\\textbf{TRUE:} 466"
      ],
      "text/markdown": [
       "**TRUE:** 466"
      ],
      "text/plain": [
       "TRUE \n",
       " 466 "
      ]
     },
     "metadata": {},
     "output_type": "display_data"
    }
   ],
   "source": [
    "event_A <- green_dice_results > red_dice_results\n",
    "eA <- table(event_A)[2]\n",
    "eA"
   ]
  },
  {
   "cell_type": "markdown",
   "metadata": {},
   "source": [
    "<b>b)</b> Qual é a probabilidade de que soma dos resultados seja igual a 7?\n"
   ]
  },
  {
   "cell_type": "code",
   "execution_count": 3,
   "metadata": {},
   "outputs": [
    {
     "data": {
      "text/html": [
       "<strong>TRUE:</strong> 164"
      ],
      "text/latex": [
       "\\textbf{TRUE:} 164"
      ],
      "text/markdown": [
       "**TRUE:** 164"
      ],
      "text/plain": [
       "TRUE \n",
       " 164 "
      ]
     },
     "metadata": {},
     "output_type": "display_data"
    }
   ],
   "source": [
    "event_B <- green_dice_results + red_dice_results == 7\n",
    "eB <- table(event_B)[2]\n",
    "eB"
   ]
  },
  {
   "cell_type": "markdown",
   "metadata": {},
   "source": [
    "<b>c)</b> Qual é a probabilidade de que soma dos resultados seja igual a 3 ou 7?\n"
   ]
  },
  {
   "cell_type": "code",
   "execution_count": 4,
   "metadata": {},
   "outputs": [
    {
     "data": {
      "text/html": [
       "<strong>TRUE:</strong> 231"
      ],
      "text/latex": [
       "\\textbf{TRUE:} 231"
      ],
      "text/markdown": [
       "**TRUE:** 231"
      ],
      "text/plain": [
       "TRUE \n",
       " 231 "
      ]
     },
     "metadata": {},
     "output_type": "display_data"
    }
   ],
   "source": [
    "event_C <- (green_dice_results + red_dice_results == 7) | (green_dice_results + red_dice_results == 3)\n",
    "eC <- table(event_C)[2]\n",
    "eC"
   ]
  },
  {
   "cell_type": "code",
   "execution_count": 5,
   "metadata": {},
   "outputs": [
    {
     "data": {
      "text/html": [
       "<table>\n",
       "<thead><tr><th scope=col>evento</th><th scope=col>prob_teorica</th><th scope=col>freq_relativa</th></tr></thead>\n",
       "<tbody>\n",
       "\t<tr><td>P(A) </td><td>0.42 </td><td>0.466</td></tr>\n",
       "\t<tr><td>P(B) </td><td>0.17 </td><td>0.164</td></tr>\n",
       "\t<tr><td>P(C) </td><td>0.23 </td><td>0.231</td></tr>\n",
       "</tbody>\n",
       "</table>\n"
      ],
      "text/latex": [
       "\\begin{tabular}{r|lll}\n",
       " evento & prob\\_teorica & freq\\_relativa\\\\\n",
       "\\hline\n",
       "\t P(A)  & 0.42  & 0.466\\\\\n",
       "\t P(B)  & 0.17  & 0.164\\\\\n",
       "\t P(C)  & 0.23  & 0.231\\\\\n",
       "\\end{tabular}\n"
      ],
      "text/markdown": [
       "\n",
       "evento | prob_teorica | freq_relativa | \n",
       "|---|---|---|\n",
       "| P(A)  | 0.42  | 0.466 | \n",
       "| P(B)  | 0.17  | 0.164 | \n",
       "| P(C)  | 0.23  | 0.231 | \n",
       "\n",
       "\n"
      ],
      "text/plain": [
       "  evento prob_teorica freq_relativa\n",
       "1 P(A)   0.42         0.466        \n",
       "2 P(B)   0.17         0.164        \n",
       "3 P(C)   0.23         0.231        "
      ]
     },
     "metadata": {},
     "output_type": "display_data"
    }
   ],
   "source": [
    "df = data.frame(evento=c('P(A)', 'P(B)', 'P(C)'), \n",
    "                prob_teorica=c('0.42', '0.17', '0.23'),\n",
    "                freq_relativa=c(eA/n, eB/n, eC/n))\n",
    "\n",
    "df"
   ]
  },
  {
   "cell_type": "markdown",
   "metadata": {},
   "source": [
    "Responda: Você acha que n = 1000 é um número grande o suficiente para que a frequência relativa possa\n",
    "ser usada como estimativa da probabilidade teórica?\n",
    "\n",
    "<b>Resposta</b>: Sim. Acho que n = 1000 é grande o suficiente, mas quanto maior, melhor."
   ]
  },
  {
   "cell_type": "markdown",
   "metadata": {},
   "source": [
    "##### 2. Jogo de dados - Qual é a melhor opção?\n",
    "Dois dados honestos serão lançados simultaneamente uma vez. Antes do lançamento, você como jogador deve escolher uma das duas opções abaixo:\n",
    "\n",
    "- Opção A: Soma das duas faces é igual a 7;\n",
    "- Opção B: Maior valor obtido nos dois dados seja no máximo 3.\n",
    "\n",
    "Caso a opção que você escolheu ocorra, você será o vencedor.\n",
    "Responda:\n",
    "\n",
    "\n",
    "<b>a)</b> Calcule as probabilidades teóricas de cada opção e faça sua escolha baseando-se nessa probabilidade. Qual das duas opções você escolhe?\n",
    "\n",
    "<b>Resposta:</b> P(A) ≃ 0,17 e P(B) ≃ 0,25. Escolho a Opção B pois a probabilidade dele acontecer antes do evento da Opção A é maior.\n",
    "\n",
    "<b>b)</b> Faça uma simulação onde sua escolha do item anterior é sempre mantida. Jogue o par de dados 100 vezes e aponte a proporção de vezes que você ganhou."
   ]
  },
  {
   "cell_type": "markdown",
   "metadata": {},
   "source": [
    "##### Jogando 100 vezes\n",
    "Nessa simulação, a minha escolha do item anterior também é sempre mantida."
   ]
  },
  {
   "cell_type": "code",
   "execution_count": 6,
   "metadata": {},
   "outputs": [],
   "source": [
    "n <- 100 # número de lançamentos\n",
    "\n",
    "red_dice_results <- sample(1:6, size=n, replace=TRUE) # sorteio aletório entre seis inteiros (1 a 6)\n",
    "green_dice_results <- sample(1:6, size=n, replace=TRUE) # sorteio aletório entre seis inteiros (1 a 6)"
   ]
  },
  {
   "cell_type": "code",
   "execution_count": 8,
   "metadata": {},
   "outputs": [
    {
     "data": {
      "text/html": [
       "'Porcentagem de vezes que ganhei:'"
      ],
      "text/latex": [
       "'Porcentagem de vezes que ganhei:'"
      ],
      "text/markdown": [
       "'Porcentagem de vezes que ganhei:'"
      ],
      "text/plain": [
       "[1] \"Porcentagem de vezes que ganhei:\""
      ]
     },
     "metadata": {},
     "output_type": "display_data"
    },
    {
     "data": {
      "text/html": [
       "<strong>TRUE:</strong> 0.22"
      ],
      "text/latex": [
       "\\textbf{TRUE:} 0.22"
      ],
      "text/markdown": [
       "**TRUE:** 0.22"
      ],
      "text/plain": [
       "TRUE \n",
       "0.22 "
      ]
     },
     "metadata": {},
     "output_type": "display_data"
    },
    {
     "data": {
      "text/html": [
       "'Porcentagem de vezes Opção A aconteceu:'"
      ],
      "text/latex": [
       "'Porcentagem de vezes Opção A aconteceu:'"
      ],
      "text/markdown": [
       "'Porcentagem de vezes Opção A aconteceu:'"
      ],
      "text/plain": [
       "[1] \"Porcentagem de vezes Opção A aconteceu:\""
      ]
     },
     "metadata": {},
     "output_type": "display_data"
    },
    {
     "data": {
      "text/html": [
       "<strong>TRUE:</strong> 0.16"
      ],
      "text/latex": [
       "\\textbf{TRUE:} 0.16"
      ],
      "text/markdown": [
       "**TRUE:** 0.16"
      ],
      "text/plain": [
       "TRUE \n",
       "0.16 "
      ]
     },
     "metadata": {},
     "output_type": "display_data"
    },
    {
     "data": {
      "text/html": [
       "'Proporção de vezes que ganhei:'"
      ],
      "text/latex": [
       "'Proporção de vezes que ganhei:'"
      ],
      "text/markdown": [
       "'Proporção de vezes que ganhei:'"
      ],
      "text/plain": [
       "[1] \"Proporção de vezes que ganhei:\""
      ]
     },
     "metadata": {},
     "output_type": "display_data"
    },
    {
     "data": {
      "text/html": [
       "<strong>TRUE:</strong> 1.375"
      ],
      "text/latex": [
       "\\textbf{TRUE:} 1.375"
      ],
      "text/markdown": [
       "**TRUE:** 1.375"
      ],
      "text/plain": [
       " TRUE \n",
       "1.375 "
      ]
     },
     "metadata": {},
     "output_type": "display_data"
    }
   ],
   "source": [
    "sucesso <- table((green_dice_results <= 3) & (red_dice_results <= 3))[2]\n",
    "\n",
    "opcao_A <- table(green_dice_results + red_dice_results == 7)[2]\n",
    "\n",
    "'Porcentagem de vezes que ganhei:'\n",
    "sucesso / 100\n",
    "\n",
    "'Porcentagem de vezes Opção A aconteceu:'\n",
    "opcao_A / 100\n",
    "\n",
    "'Proporção de vezes que ganhei:'\n",
    "sucesso / opcao_A"
   ]
  },
  {
   "cell_type": "markdown",
   "metadata": {},
   "source": [
    "<b>c)</b> Comente os resultados obtidos.\n",
    "\n",
    "<b>Resposta: </b> Como pode ser observado, o evento da opção B acontece muito mais vezes e com probabilidade muito mais alta que a opção A.\n",
    "\n",
    "---\n",
    "\n",
    "##### 3. Beat the Odds\n",
    "Exercício: Depois de responder 10 perguntas no modo de competição, quanto de dinheiro virtual você ganhou? Boa sorte e divirtam-se!\n",
    "\n",
    "Link para o jogo: https://www.pbslearningmedia.org/resource/mgbh.math.sp.beatodds/beat-the-odds/#.Xo0LaXVKhuQ\n",
    "\n",
    "<b>Resposta: </b> Ganhei $600!"
   ]
  }
 ],
 "metadata": {
  "kernelspec": {
   "display_name": "R",
   "language": "R",
   "name": "ir"
  },
  "language_info": {
   "codemirror_mode": "r",
   "file_extension": ".r",
   "mimetype": "text/x-r-source",
   "name": "R",
   "pygments_lexer": "r",
   "version": "3.4.3"
  }
 },
 "nbformat": 4,
 "nbformat_minor": 2
}
