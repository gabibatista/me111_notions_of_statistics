{
 "cells": [
  {
   "cell_type": "markdown",
   "metadata": {},
   "source": [
    "# Tarefa\n",
    "https://github.com/gabibatista/me111_notions_of_statistics/blob/master/T2/ME111_Atividade02.pdf\n",
    "\n",
    "##### 1. Jogando dois dados\n",
    "\n",
    "Dois dado são lançados simultaneamente, um vermelho e um verde. Considere os seguintes eventos: \n",
    "\n",
    "\n",
    "> A = {dado verde maior que dado vermelho}\n",
    "\n",
    "> B = {soma igual a 7}\n",
    "\n",
    "> C = {soma igual a 3}\n",
    "\n",
    "\n",
    "Calcule as probabilidades teóricas abaixo (algumas já foram calculadas na lista 2 de ME110) e escreva-as em\n",
    "termos do eventos A, B e C.\n",
    "\n",
    "\n",
    "<b>a)</b> Qual é a probabilidade de que o dado verde apresente um valor maior do que o vermelho?\n",
    "\n",
    "<b>Resposta: </b> P(A) ≃ 0,42.\n",
    "\n",
    "\n",
    "<b>b)</b> Qual é a probabilidade de que soma dos resultados seja igual a 7?\n",
    "\n",
    "<b>Resposta: </b> P(B) ≃ 0,17.\n",
    "\n",
    "\n",
    "<b>c)</b> Qual é a probabilidade de que soma dos resultados seja igual a 3 ou 7?\n",
    "\n",
    "<b>Resposta: </b> P(B ou C) = P(B) + P(C) ≃ 0,17 + 0,06 ≃ 0,23.\n",
    "\n",
    "\n",
    "---\n",
    "##### Simulação do lançamento de dois dados"
   ]
  },
  {
   "cell_type": "code",
   "execution_count": 1,
   "metadata": {},
   "outputs": [],
   "source": [
    "import numpy as np\n",
    "import pandas as pd"
   ]
  },
  {
   "cell_type": "code",
   "execution_count": 2,
   "metadata": {},
   "outputs": [
    {
     "name": "stdout",
     "output_type": "stream",
     "text": [
      "Red sample:  [1 5 3 3 2 5 0 5 0 3] \n",
      "Green sample: [3 5 0 5 3 4 4 1 0 3]\n"
     ]
    }
   ],
   "source": [
    "n = 1000 # número de lançamentos\n",
    "\n",
    "red_dice_results = np.random.randint(6, size=n) # sorteio aletório entre seis inteiros (0 a 5)\n",
    "green_dice_results = np.random.randint(6, size=n) # sorteio aletório entre seis inteiros (0 a 5)\n",
    "\n",
    "print('Red sample: ', red_dice_results[:10], '\\nGreen sample:', green_dice_results[:10])"
   ]
  },
  {
   "cell_type": "markdown",
   "metadata": {},
   "source": [
    "<b>a)</b> Qual é a probabilidade de que o dado verde apresente um valor maior do que o vermelho?"
   ]
  },
  {
   "cell_type": "code",
   "execution_count": 3,
   "metadata": {},
   "outputs": [],
   "source": [
    "event_A = len(list(filter((lambda r: green_dice_results[r[0]] > r[1]), list(enumerate(red_dice_results)))))"
   ]
  },
  {
   "cell_type": "markdown",
   "metadata": {},
   "source": [
    "<b>b)</b> Qual é a probabilidade de que soma dos resultados seja igual a 7?\n"
   ]
  },
  {
   "cell_type": "code",
   "execution_count": 4,
   "metadata": {},
   "outputs": [],
   "source": [
    "event_B = len(list(filter((lambda r: (green_dice_results[r[0]] + r[1]) == 7), list(enumerate(red_dice_results)))))"
   ]
  },
  {
   "cell_type": "markdown",
   "metadata": {},
   "source": [
    "<b>c)</b> Qual é a probabilidade de que soma dos resultados seja igual a 3 ou 7?\n"
   ]
  },
  {
   "cell_type": "code",
   "execution_count": 5,
   "metadata": {},
   "outputs": [],
   "source": [
    "C = len(list(filter((lambda r: (green_dice_results[r[0]] + r[1]) == 3), list(enumerate(red_dice_results)))))\n",
    "event_C = event_B + C"
   ]
  },
  {
   "cell_type": "code",
   "execution_count": 6,
   "metadata": {},
   "outputs": [
    {
     "data": {
      "text/html": [
       "<div>\n",
       "<style scoped>\n",
       "    .dataframe tbody tr th:only-of-type {\n",
       "        vertical-align: middle;\n",
       "    }\n",
       "\n",
       "    .dataframe tbody tr th {\n",
       "        vertical-align: top;\n",
       "    }\n",
       "\n",
       "    .dataframe thead th {\n",
       "        text-align: right;\n",
       "    }\n",
       "</style>\n",
       "<table border=\"1\" class=\"dataframe\">\n",
       "  <thead>\n",
       "    <tr style=\"text-align: right;\">\n",
       "      <th></th>\n",
       "      <th>Evento</th>\n",
       "      <th>Probabilidade Teórica</th>\n",
       "      <th>Frequência Relativa</th>\n",
       "    </tr>\n",
       "  </thead>\n",
       "  <tbody>\n",
       "    <tr>\n",
       "      <td>0</td>\n",
       "      <td>P(A)</td>\n",
       "      <td>0,42</td>\n",
       "      <td>0.404</td>\n",
       "    </tr>\n",
       "    <tr>\n",
       "      <td>1</td>\n",
       "      <td>P(B)</td>\n",
       "      <td>0,17</td>\n",
       "      <td>0.107</td>\n",
       "    </tr>\n",
       "    <tr>\n",
       "      <td>2</td>\n",
       "      <td>P(B + C)</td>\n",
       "      <td>0,23</td>\n",
       "      <td>0.221</td>\n",
       "    </tr>\n",
       "  </tbody>\n",
       "</table>\n",
       "</div>"
      ],
      "text/plain": [
       "     Evento Probabilidade Teórica  Frequência Relativa\n",
       "0      P(A)                  0,42                0.404\n",
       "1      P(B)                  0,17                0.107\n",
       "2  P(B + C)                  0,23                0.221"
      ]
     },
     "execution_count": 6,
     "metadata": {},
     "output_type": "execute_result"
    }
   ],
   "source": [
    "cols=['Evento', 'Probabilidade Teórica', 'Frequência Relativa']\n",
    "a = ['P(A)', '0,42', event_A / n]\n",
    "b = ['P(B)', '0,17', event_B / n]\n",
    "c = ['P(B + C)', '0,23', event_C / n]\n",
    "\n",
    "df = pd.DataFrame(data = [a, b, c], columns = cols)\n",
    "df"
   ]
  },
  {
   "cell_type": "markdown",
   "metadata": {},
   "source": [
    "Responda: Você acha que n = 1000 é um número grande o suficiente para que a frequência relativa possa\n",
    "ser usada como estimativa da probabilidade teórica?\n",
    "\n",
    "<b>Resposta</b>: Sim. Acho que n = 1000 é grande o suficiente, mas quanto maior, melhor."
   ]
  },
  {
   "cell_type": "markdown",
   "metadata": {},
   "source": [
    "##### 2. Jogo de dados - Qual é a melhor opção?\n",
    "Dois dados honestos serão lançados simultaneamente uma vez. Antes do lançamento, você como jogador deve escolher uma das duas opções abaixo:\n",
    "\n",
    "- Opção A: Soma das duas faces é igual a 7;\n",
    "- Opção B: Maior valor obtido nos dois dados seja no máximo 3.\n",
    "\n",
    "Caso a opção que você escolheu ocorra, você será o vencedor.\n",
    "Responda:\n",
    "\n",
    "\n",
    "<b>a)</b> Calcule as probabilidades teóricas de cada opção e faça sua escolha baseando-se nessa probabilidade. Qual das duas opções você escolhe?\n",
    "\n",
    "<b>Resposta:</b> P(A) ≃ 0,17 e P(B) ≃ 0,25. Escolho a Opção B pois a probabilidade dele acontecer antes do evento da Opção A é maior.\n",
    "\n",
    "<b>b)</b> Faça uma simulação onde sua escolha do item anterior é sempre mantida. Jogue o par de dados 100 vezes e aponte a proporção de vezes que você ganhou."
   ]
  },
  {
   "cell_type": "markdown",
   "metadata": {},
   "source": [
    "##### Jogando 100 vezes\n",
    "Nessa simulação, a minha escolha do item anterior também é sempre mantida."
   ]
  },
  {
   "cell_type": "code",
   "execution_count": 7,
   "metadata": {},
   "outputs": [],
   "source": [
    "n = 100 # número de lançamentos\n",
    "\n",
    "red_dice_results = np.random.randint(6, size=n) # sorteio aletório entre seis inteiros (0 a 5)\n",
    "green_dice_results = np.random.randint(6, size=n) # sorteio aletório entre seis inteiros (0 a 5)"
   ]
  },
  {
   "cell_type": "code",
   "execution_count": 8,
   "metadata": {},
   "outputs": [
    {
     "name": "stdout",
     "output_type": "stream",
     "text": [
      "Porcentagem de vezes que ganhei: 50.0 %\n",
      "Porcentagem de vezes Opção A aconteceu: 16.0 %\n",
      "\n",
      "Proporção de vezes que ganhei: 3.125\n"
     ]
    }
   ],
   "source": [
    "sucesso = len(list(filter((lambda r: (green_dice_results[r[0]] <= 3) and (r[1] <= 3)), \n",
    "                           list(enumerate(red_dice_results)))))\n",
    "\n",
    "opcao_A = len(list(filter((lambda r: (green_dice_results[r[0]] <= 3 + r[1] == 7)), \n",
    "                           list(enumerate(red_dice_results)))))\n",
    "\n",
    "print('Porcentagem de vezes que ganhei:', sucesso / n * 100, '%')\n",
    "print('Porcentagem de vezes Opção A aconteceu:', opcao_A / n * 100, '%')\n",
    "\n",
    "print('\\nProporção de vezes que ganhei:', sucesso / opcao_A)"
   ]
  },
  {
   "cell_type": "markdown",
   "metadata": {},
   "source": [
    "<b>c)</b> Comente os resultados obtidos.\n",
    "\n",
    "<b>Resposta: </b> Como pode ser observado, o evento da opção B acontece muito mais vezes e com probabilidade muito mais alta que a opção A.\n",
    "\n",
    "---\n",
    "\n",
    "##### 3. Beat the Odds\n",
    "Exercício: Depois de responder 10 perguntas no modo de competição, quanto de dinheiro virtual você ganhou? Boa sorte e divirtam-se!\n",
    "\n",
    "Link para o jogo: https://www.pbslearningmedia.org/resource/mgbh.math.sp.beatodds/beat-the-odds/#.Xo0LaXVKhuQ\n",
    "\n",
    "<b>Resposta: </b> Ganhei $600!"
   ]
  }
 ],
 "metadata": {
  "kernelspec": {
   "display_name": "Python 3",
   "language": "python",
   "name": "python3"
  },
  "language_info": {
   "codemirror_mode": {
    "name": "ipython",
    "version": 3
   },
   "file_extension": ".py",
   "mimetype": "text/x-python",
   "name": "python",
   "nbconvert_exporter": "python",
   "pygments_lexer": "ipython3",
   "version": "3.6.7"
  }
 },
 "nbformat": 4,
 "nbformat_minor": 2
}
