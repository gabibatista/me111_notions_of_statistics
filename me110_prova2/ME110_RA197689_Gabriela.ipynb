{
 "cells": [
  {
   "cell_type": "markdown",
   "metadata": {},
   "source": [
    "<img src=\"assinatura.jpeg\">"
   ]
  },
  {
   "cell_type": "markdown",
   "metadata": {},
   "source": [
    "# Prova 2 - ME110\n",
    "### Questão 1\n",
    "Faça um teste para verificar se há associação entre faixa etária e causa de morte."
   ]
  },
  {
   "cell_type": "code",
   "execution_count": 1,
   "metadata": {},
   "outputs": [],
   "source": [
    "data <- read.csv(\"RA197689obitos-estados.csv\")"
   ]
  },
  {
   "cell_type": "code",
   "execution_count": 2,
   "metadata": {},
   "outputs": [
    {
     "data": {
      "text/html": [
       "<table>\n",
       "<thead><tr><th></th><th scope=col>COVID-19</th><th scope=col>Outras doenças</th><th scope=col>Outras doenças respiratórias</th><th scope=col>Sum</th></tr></thead>\n",
       "<tbody>\n",
       "\t<tr><th scope=row>&lt;= 39</th><td> 50 </td><td>221 </td><td>251 </td><td> 522</td></tr>\n",
       "\t<tr><th scope=row>&gt;= 80</th><td> 69 </td><td>169 </td><td>302 </td><td> 540</td></tr>\n",
       "\t<tr><th scope=row>40 - 79</th><td>116 </td><td>284 </td><td>444 </td><td> 844</td></tr>\n",
       "\t<tr><th scope=row>Sum</th><td>235 </td><td>674 </td><td>997 </td><td>1906</td></tr>\n",
       "</tbody>\n",
       "</table>\n"
      ],
      "text/latex": [
       "\\begin{tabular}{r|llll}\n",
       "  & COVID-19 & Outras doenças & Outras doenças respiratórias & Sum\\\\\n",
       "\\hline\n",
       "\t<= 39 &  50  & 221  & 251  &  522\\\\\n",
       "\t>= 80 &  69  & 169  & 302  &  540\\\\\n",
       "\t40 - 79 & 116  & 284  & 444  &  844\\\\\n",
       "\tSum & 235  & 674  & 997  & 1906\\\\\n",
       "\\end{tabular}\n"
      ],
      "text/markdown": [
       "\n",
       "| <!--/--> | COVID-19 | Outras doenças | Outras doenças respiratórias | Sum | \n",
       "|---|---|---|---|\n",
       "| <= 39 |  50  | 221  | 251  |  522 | \n",
       "| >= 80 |  69  | 169  | 302  |  540 | \n",
       "| 40 - 79 | 116  | 284  | 444  |  844 | \n",
       "| Sum | 235  | 674  | 997  | 1906 | \n",
       "\n",
       "\n"
      ],
      "text/plain": [
       "         \n",
       "          COVID-19 Outras doenças Outras doenças respiratórias Sum \n",
       "  <= 39    50      221            251                           522\n",
       "  >= 80    69      169            302                           540\n",
       "  40 - 79 116      284            444                           844\n",
       "  Sum     235      674            997                          1906"
      ]
     },
     "metadata": {},
     "output_type": "display_data"
    }
   ],
   "source": [
    "cont_table = table(data$faixa_etaria, data$tipo_doenca)\n",
    "addmargins(cont_table)"
   ]
  },
  {
   "cell_type": "code",
   "execution_count": 3,
   "metadata": {},
   "outputs": [
    {
     "data": {
      "text/html": [
       "<table>\n",
       "<thead><tr><th></th><th scope=col>COVID-19</th><th scope=col>Outras doenças</th><th scope=col>Outras doenças respiratórias</th><th scope=col>Sum</th></tr></thead>\n",
       "<tbody>\n",
       "\t<tr><th scope=row>&lt;= 39</th><td>0.02623295</td><td>0.11594963</td><td>0.1316894 </td><td>0.2738720 </td></tr>\n",
       "\t<tr><th scope=row>&gt;= 80</th><td>0.03620147</td><td>0.08866737</td><td>0.1584470 </td><td>0.2833158 </td></tr>\n",
       "\t<tr><th scope=row>40 - 79</th><td>0.06086044</td><td>0.14900315</td><td>0.2329486 </td><td>0.4428122 </td></tr>\n",
       "\t<tr><th scope=row>Sum</th><td>0.12329486</td><td>0.35362015</td><td>0.5230850 </td><td>1.0000000 </td></tr>\n",
       "</tbody>\n",
       "</table>\n"
      ],
      "text/latex": [
       "\\begin{tabular}{r|llll}\n",
       "  & COVID-19 & Outras doenças & Outras doenças respiratórias & Sum\\\\\n",
       "\\hline\n",
       "\t<= 39 & 0.02623295 & 0.11594963 & 0.1316894  & 0.2738720 \\\\\n",
       "\t>= 80 & 0.03620147 & 0.08866737 & 0.1584470  & 0.2833158 \\\\\n",
       "\t40 - 79 & 0.06086044 & 0.14900315 & 0.2329486  & 0.4428122 \\\\\n",
       "\tSum & 0.12329486 & 0.35362015 & 0.5230850  & 1.0000000 \\\\\n",
       "\\end{tabular}\n"
      ],
      "text/markdown": [
       "\n",
       "| <!--/--> | COVID-19 | Outras doenças | Outras doenças respiratórias | Sum | \n",
       "|---|---|---|---|\n",
       "| <= 39 | 0.02623295 | 0.11594963 | 0.1316894  | 0.2738720  | \n",
       "| >= 80 | 0.03620147 | 0.08866737 | 0.1584470  | 0.2833158  | \n",
       "| 40 - 79 | 0.06086044 | 0.14900315 | 0.2329486  | 0.4428122  | \n",
       "| Sum | 0.12329486 | 0.35362015 | 0.5230850  | 1.0000000  | \n",
       "\n",
       "\n"
      ],
      "text/plain": [
       "         \n",
       "          COVID-19   Outras doenças Outras doenças respiratórias Sum      \n",
       "  <= 39   0.02623295 0.11594963     0.1316894                    0.2738720\n",
       "  >= 80   0.03620147 0.08866737     0.1584470                    0.2833158\n",
       "  40 - 79 0.06086044 0.14900315     0.2329486                    0.4428122\n",
       "  Sum     0.12329486 0.35362015     0.5230850                    1.0000000"
      ]
     },
     "metadata": {},
     "output_type": "display_data"
    }
   ],
   "source": [
    "addmargins(prop.table(cont_table))"
   ]
  },
  {
   "cell_type": "markdown",
   "metadata": {},
   "source": [
    "- O teste a ser performado deve ser um teste de independência, pois estamos verificando se as variáveis faixa etária e causa da morte são dependentes entre si em uma amostra de tamanho n selecionada aleatoriamente.\n",
    "- H0 (hipótese nula): faixa etária e causa da morte são independentes. H1 (alternativa): faixa etária e causa da morte são dependentes entre si, ou seja, o valor de uma varia conforme o valor da outra.\n",
    "- A estatística do teste (realizada abaixo) é calculada através do teste de independência qui-quadrado e, neste caso, o resultado observado é 18,214.\n",
    "- Considerando que temos 4 graus de liberdade e para um grau de significância de 5%, o qui-quadrado esperado (crítico) é 9,488. Já que o x²obs = 18,214 > x²crit = 9,488, podemos considerar que a nossa H0 (hipótese nula) foi rejeitada. Ou seja, encontramos evidências suficientes nos nossos dados para considerarmos que as variáveis faixa etária e causa da morte são dependentes e variam uma de acordo com o valor da outra."
   ]
  },
  {
   "cell_type": "code",
   "execution_count": 4,
   "metadata": {},
   "outputs": [
    {
     "data": {
      "text/plain": [
       "Number of cases in table: 1906 \n",
       "Number of factors: 2 \n",
       "Test for independence of all factors:\n",
       "\tChisq = 18.214, df = 4, p-value = 0.001121"
      ]
     },
     "metadata": {},
     "output_type": "display_data"
    }
   ],
   "source": [
    "summary(cont_table)"
   ]
  },
  {
   "cell_type": "markdown",
   "metadata": {},
   "source": [
    "### Questão 2\n",
    "Faça um teste para verificar se há associação entre estado e causa de morte."
   ]
  },
  {
   "cell_type": "code",
   "execution_count": 5,
   "metadata": {},
   "outputs": [
    {
     "data": {
      "text/html": [
       "<table>\n",
       "<thead><tr><th></th><th scope=col>COVID-19</th><th scope=col>Outras doenças</th><th scope=col>Outras doenças respiratórias</th><th scope=col>Sum</th></tr></thead>\n",
       "<tbody>\n",
       "\t<tr><th scope=row>DF</th><td> 55 </td><td>127 </td><td>180 </td><td> 362</td></tr>\n",
       "\t<tr><th scope=row>MG</th><td> 73 </td><td>224 </td><td>351 </td><td> 648</td></tr>\n",
       "\t<tr><th scope=row>MS</th><td> 25 </td><td>119 </td><td>151 </td><td> 295</td></tr>\n",
       "\t<tr><th scope=row>RJ</th><td> 82 </td><td>204 </td><td>315 </td><td> 601</td></tr>\n",
       "\t<tr><th scope=row>Sum</th><td>235 </td><td>674 </td><td>997 </td><td>1906</td></tr>\n",
       "</tbody>\n",
       "</table>\n"
      ],
      "text/latex": [
       "\\begin{tabular}{r|llll}\n",
       "  & COVID-19 & Outras doenças & Outras doenças respiratórias & Sum\\\\\n",
       "\\hline\n",
       "\tDF &  55  & 127  & 180  &  362\\\\\n",
       "\tMG &  73  & 224  & 351  &  648\\\\\n",
       "\tMS &  25  & 119  & 151  &  295\\\\\n",
       "\tRJ &  82  & 204  & 315  &  601\\\\\n",
       "\tSum & 235  & 674  & 997  & 1906\\\\\n",
       "\\end{tabular}\n"
      ],
      "text/markdown": [
       "\n",
       "| <!--/--> | COVID-19 | Outras doenças | Outras doenças respiratórias | Sum | \n",
       "|---|---|---|---|---|\n",
       "| DF |  55  | 127  | 180  |  362 | \n",
       "| MG |  73  | 224  | 351  |  648 | \n",
       "| MS |  25  | 119  | 151  |  295 | \n",
       "| RJ |  82  | 204  | 315  |  601 | \n",
       "| Sum | 235  | 674  | 997  | 1906 | \n",
       "\n",
       "\n"
      ],
      "text/plain": [
       "     \n",
       "      COVID-19 Outras doenças Outras doenças respiratórias Sum \n",
       "  DF   55      127            180                           362\n",
       "  MG   73      224            351                           648\n",
       "  MS   25      119            151                           295\n",
       "  RJ   82      204            315                           601\n",
       "  Sum 235      674            997                          1906"
      ]
     },
     "metadata": {},
     "output_type": "display_data"
    }
   ],
   "source": [
    "cont_table <- table(data$uf, data$tipo_doenca)\n",
    "addmargins(cont_table)"
   ]
  },
  {
   "cell_type": "markdown",
   "metadata": {},
   "source": [
    "- O teste a ser performado nesse caso é o teste de homogeneidade pois temos uma amostra estratificada por estado e o interesse é em testar se as proporções dessas subpopulações de estados são aproximadamente iguais entre si.\n",
    "- H0 (hipótese nula): O comportamento da variável causa da morte é homogêneo para todos os estados. H1 (alternativa): O comportamento da variável causa da morte não é homogêneo, ou seja, tem valores diferentes para cada estado.\n",
    "- A estatística do teste (calculada abaixo) é dada através do cálculo do qui-quadrado e, neste caso, o resultado é 10,895.\n",
    "- Considerando um nível de significância de 5% e que temos 6 graus de liberdade, o valor qui-quadrado esperado (crítico) é igual a 12,592. Portanto, com x²obs: 10,895 < x²crit: 12,592, podemos falar que não foram encontradas evidências suficientes para rejeitar a Hipótese nula, portanto não podemos assumir que não há homogeneidade entre as proporções de causa da morte por estado."
   ]
  },
  {
   "cell_type": "code",
   "execution_count": 6,
   "metadata": {},
   "outputs": [
    {
     "data": {
      "text/plain": [
       "Number of cases in table: 1906 \n",
       "Number of factors: 2 \n",
       "Test for independence of all factors:\n",
       "\tChisq = 10.895, df = 6, p-value = 0.09167"
      ]
     },
     "metadata": {},
     "output_type": "display_data"
    }
   ],
   "source": [
    "summary(cont_table)"
   ]
  },
  {
   "cell_type": "markdown",
   "metadata": {},
   "source": [
    "### Questão 3\n",
    "Faça um teste de aderência para verificar se as probabilidades de causa de morte podem ser consideradas uniformemente distribuídas."
   ]
  },
  {
   "cell_type": "code",
   "execution_count": 7,
   "metadata": {},
   "outputs": [],
   "source": [
    "data_RJ = data[data$uf == \"RJ\", ]\n",
    "\n",
    "cont_table = table(data_RJ$uf, data_RJ$tipo_doenca)\n",
    "cont_table = c(cont_table[4], cont_table[8], cont_table[12])"
   ]
  },
  {
   "cell_type": "markdown",
   "metadata": {},
   "source": [
    "- H0: as probabilidades observadas de ter uma causa da morte deve ser a mesma que as probabilidades esperadas dado um modelo probabilístico. H1: Há pelo menos uma das probabilidades observadas que não é igual à probabilidade esperada.\n",
    "- A valor de p do teste (calculada abaixo) é 2,2*10⁻¹⁶, enquanto o valor x²obs é 135,6.\n",
    "- Considerando um nível de significância de 1%, a conclusão do teste é que podemos rejeitar a H0, pois o valor-de-p: 2,2*10⁻¹⁶ < 0,01 e o x²obs: 135,6 > x²crit: 9,2"
   ]
  },
  {
   "cell_type": "code",
   "execution_count": 8,
   "metadata": {},
   "outputs": [
    {
     "data": {
      "text/plain": [
       "\n",
       "\tChi-squared test for given probabilities\n",
       "\n",
       "data:  cont_table\n",
       "X-squared = 135.6, df = 2, p-value < 2.2e-16\n"
      ]
     },
     "metadata": {},
     "output_type": "display_data"
    }
   ],
   "source": [
    "chisq.test(cont_table)"
   ]
  },
  {
   "cell_type": "markdown",
   "metadata": {},
   "source": [
    "### Questão 4"
   ]
  },
  {
   "cell_type": "code",
   "execution_count": 9,
   "metadata": {},
   "outputs": [
    {
     "data": {
      "text/html": [
       "<table>\n",
       "<thead><tr><th></th><th scope=col>COVID-19</th><th scope=col>Outras doenças</th><th scope=col>Outras doenças respiratórias</th><th scope=col>Sum</th></tr></thead>\n",
       "<tbody>\n",
       "\t<tr><th scope=row>F</th><td>109 </td><td>323 </td><td>484 </td><td> 916</td></tr>\n",
       "\t<tr><th scope=row>M</th><td>126 </td><td>351 </td><td>513 </td><td> 990</td></tr>\n",
       "\t<tr><th scope=row>Sum</th><td>235 </td><td>674 </td><td>997 </td><td>1906</td></tr>\n",
       "</tbody>\n",
       "</table>\n"
      ],
      "text/latex": [
       "\\begin{tabular}{r|llll}\n",
       "  & COVID-19 & Outras doenças & Outras doenças respiratórias & Sum\\\\\n",
       "\\hline\n",
       "\tF & 109  & 323  & 484  &  916\\\\\n",
       "\tM & 126  & 351  & 513  &  990\\\\\n",
       "\tSum & 235  & 674  & 997  & 1906\\\\\n",
       "\\end{tabular}\n"
      ],
      "text/markdown": [
       "\n",
       "| <!--/--> | COVID-19 | Outras doenças | Outras doenças respiratórias | Sum | \n",
       "|---|---|---|\n",
       "| F | 109  | 323  | 484  |  916 | \n",
       "| M | 126  | 351  | 513  |  990 | \n",
       "| Sum | 235  | 674  | 997  | 1906 | \n",
       "\n",
       "\n"
      ],
      "text/plain": [
       "     \n",
       "      COVID-19 Outras doenças Outras doenças respiratórias Sum \n",
       "  F   109      323            484                           916\n",
       "  M   126      351            513                           990\n",
       "  Sum 235      674            997                          1906"
      ]
     },
     "metadata": {},
     "output_type": "display_data"
    }
   ],
   "source": [
    "cont_table = table(data$sexo, data$tipo_doenca)\n",
    "addmargins(cont_table)"
   ]
  },
  {
   "cell_type": "markdown",
   "metadata": {},
   "source": [
    "**(a)**\n",
    "Proporção de óbitos por COVID-19:\n",
    "- Sexo feminino: 109/235 = 0,46\n",
    "- Sexo masculino: 0,53"
   ]
  },
  {
   "cell_type": "code",
   "execution_count": null,
   "metadata": {},
   "outputs": [],
   "source": []
  }
 ],
 "metadata": {
  "kernelspec": {
   "display_name": "R",
   "language": "R",
   "name": "ir"
  },
  "language_info": {
   "codemirror_mode": "r",
   "file_extension": ".r",
   "mimetype": "text/x-r-source",
   "name": "R",
   "pygments_lexer": "r",
   "version": "3.4.3"
  }
 },
 "nbformat": 4,
 "nbformat_minor": 2
}
