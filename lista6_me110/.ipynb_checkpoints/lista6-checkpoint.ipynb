{
 "cells": [
  {
   "cell_type": "markdown",
   "metadata": {},
   "source": [
    "# ME110 - LISTA 6"
   ]
  },
  {
   "cell_type": "markdown",
   "metadata": {},
   "source": [
    "#### Carregando biblioteca"
   ]
  },
  {
   "cell_type": "code",
   "execution_count": 1,
   "metadata": {},
   "outputs": [],
   "source": [
    "library(ggplot2)"
   ]
  },
  {
   "cell_type": "markdown",
   "metadata": {},
   "source": [
    "## 1. É esperado que a massa muscular de uma pessoa diminua com a idade. Para estudar essa relação, uma nutricionista selecionou 18 mulheres, com idade entre 40 e 79 anos, e observou em cada uma delas a idade (X), em anos, e a massa muscular (Y ), em quilos."
   ]
  },
  {
   "cell_type": "code",
   "execution_count": 2,
   "metadata": {},
   "outputs": [],
   "source": [
    "data <- data.frame(massa_muscular=c(82, 91, 100, 68, 87, 73, 78, 80, 65, 84, 116, 76, 97, 100, 105, 77, 73, 78),\n",
    "                   idade=c(71, 64, 43, 67, 56, 73, 68, 56, 76, 65, 45, 58, 45, 53, 49, 78, 73, 68))"
   ]
  },
  {
   "cell_type": "code",
   "execution_count": 3,
   "metadata": {
    "scrolled": true
   },
   "outputs": [
    {
     "data": {
      "text/html": [
       "<table>\n",
       "<thead><tr><th scope=col>massa_muscular</th><th scope=col>idade</th></tr></thead>\n",
       "<tbody>\n",
       "\t<tr><td> 82</td><td>71 </td></tr>\n",
       "\t<tr><td> 91</td><td>64 </td></tr>\n",
       "\t<tr><td>100</td><td>43 </td></tr>\n",
       "\t<tr><td> 68</td><td>67 </td></tr>\n",
       "\t<tr><td> 87</td><td>56 </td></tr>\n",
       "\t<tr><td> 73</td><td>73 </td></tr>\n",
       "</tbody>\n",
       "</table>\n"
      ],
      "text/latex": [
       "\\begin{tabular}{r|ll}\n",
       " massa\\_muscular & idade\\\\\n",
       "\\hline\n",
       "\t  82 & 71 \\\\\n",
       "\t  91 & 64 \\\\\n",
       "\t 100 & 43 \\\\\n",
       "\t  68 & 67 \\\\\n",
       "\t  87 & 56 \\\\\n",
       "\t  73 & 73 \\\\\n",
       "\\end{tabular}\n"
      ],
      "text/markdown": [
       "\n",
       "massa_muscular | idade | \n",
       "|---|---|---|---|---|---|\n",
       "|  82 | 71  | \n",
       "|  91 | 64  | \n",
       "| 100 | 43  | \n",
       "|  68 | 67  | \n",
       "|  87 | 56  | \n",
       "|  73 | 73  | \n",
       "\n",
       "\n"
      ],
      "text/plain": [
       "  massa_muscular idade\n",
       "1  82            71   \n",
       "2  91            64   \n",
       "3 100            43   \n",
       "4  68            67   \n",
       "5  87            56   \n",
       "6  73            73   "
      ]
     },
     "metadata": {},
     "output_type": "display_data"
    }
   ],
   "source": [
    "head(data)"
   ]
  },
  {
   "cell_type": "markdown",
   "metadata": {},
   "source": [
    "### <b>a)</b> Calcule para ambas as variáveis estatísticas descritivas : média, mediana, desvio-padrão, amplitude, primeiro quartil e terceiro quartil."
   ]
  },
  {
   "cell_type": "markdown",
   "metadata": {},
   "source": [
    "<b>Média, Mediana, Primeiro e Terceiro quartis:</b>"
   ]
  },
  {
   "cell_type": "code",
   "execution_count": 5,
   "metadata": {},
   "outputs": [
    {
     "data": {
      "text/plain": [
       " massa_muscular       idade      \n",
       " Min.   : 65.00   Min.   :43.00  \n",
       " 1st Qu.: 76.25   1st Qu.:53.75  \n",
       " Median : 81.00   Median :64.50  \n",
       " Mean   : 85.00   Mean   :61.56  \n",
       " 3rd Qu.: 95.50   3rd Qu.:70.25  \n",
       " Max.   :116.00   Max.   :78.00  "
      ]
     },
     "metadata": {},
     "output_type": "display_data"
    }
   ],
   "source": [
    "summary(data)"
   ]
  },
  {
   "cell_type": "markdown",
   "metadata": {},
   "source": [
    "<b>Desvios padrão:</b>"
   ]
  },
  {
   "cell_type": "code",
   "execution_count": 6,
   "metadata": {},
   "outputs": [
    {
     "data": {
      "text/html": [
       "11.2679776473615"
      ],
      "text/latex": [
       "11.2679776473615"
      ],
      "text/markdown": [
       "11.2679776473615"
      ],
      "text/plain": [
       "[1] 11.26798"
      ]
     },
     "metadata": {},
     "output_type": "display_data"
    }
   ],
   "source": [
    "sd(data$idade)"
   ]
  },
  {
   "cell_type": "code",
   "execution_count": 7,
   "metadata": {},
   "outputs": [
    {
     "data": {
      "text/html": [
       "13.8266579688743"
      ],
      "text/latex": [
       "13.8266579688743"
      ],
      "text/markdown": [
       "13.8266579688743"
      ],
      "text/plain": [
       "[1] 13.82666"
      ]
     },
     "metadata": {},
     "output_type": "display_data"
    }
   ],
   "source": [
    "sd(data$massa_muscular)"
   ]
  },
  {
   "cell_type": "markdown",
   "metadata": {},
   "source": [
    "<b>Amplitude:</b>"
   ]
  },
  {
   "cell_type": "code",
   "execution_count": 8,
   "metadata": {},
   "outputs": [
    {
     "data": {
      "text/html": [
       "35"
      ],
      "text/latex": [
       "35"
      ],
      "text/markdown": [
       "35"
      ],
      "text/plain": [
       "[1] 35"
      ]
     },
     "metadata": {},
     "output_type": "display_data"
    }
   ],
   "source": [
    "max(data$idade) - min(data$idade)"
   ]
  },
  {
   "cell_type": "code",
   "execution_count": 9,
   "metadata": {},
   "outputs": [
    {
     "data": {
      "text/html": [
       "51"
      ],
      "text/latex": [
       "51"
      ],
      "text/markdown": [
       "51"
      ],
      "text/plain": [
       "[1] 51"
      ]
     },
     "metadata": {},
     "output_type": "display_data"
    }
   ],
   "source": [
    "max(data$massa_muscular) - min(data$massa_muscular)"
   ]
  },
  {
   "cell_type": "markdown",
   "metadata": {},
   "source": [
    "### b) Faça para cada uma das variáveis um diagrama de caixa e comente sobre as respectivas distribuições amostrais."
   ]
  },
  {
   "cell_type": "code",
   "execution_count": 10,
   "metadata": {},
   "outputs": [
    {
     "data": {
      "image/png": "[encoded data removed]",
      "text/plain": [
       "plot without title"
      ]
     },
     "metadata": {},
     "output_type": "display_data"
    }
   ],
   "source": [
    "boxplot(data$massa_muscular)"
   ]
  },
  {
   "cell_type": "markdown",
   "metadata": {},
   "source": [
    "<b>Comentário: </b> Há mais valores próximos do primeiro quartl."
   ]
  },
  {
   "cell_type": "code",
   "execution_count": 11,
   "metadata": {},
   "outputs": [
    {
     "data": {
      "image/png": "[encoded data removed]",
      "text/plain": [
       "plot without title"
      ]
     },
     "metadata": {},
     "output_type": "display_data"
    }
   ],
   "source": [
    "boxplot(data$idade)"
   ]
  },
  {
   "cell_type": "markdown",
   "metadata": {},
   "source": [
    "<b>Comentário: </b> Ao contrário da outra variável, há mais valores próximos do terceiro quartl."
   ]
  },
  {
   "cell_type": "code",
   "execution_count": 12,
   "metadata": {},
   "outputs": [
    {
     "data": {
      "image/png": "[encoded data removed]",
      "text/plain": [
       "plot without title"
      ]
     },
     "metadata": {},
     "output_type": "display_data"
    }
   ],
   "source": [
    "boxplot(data$massa_muscular ~ data$idade)"
   ]
  },
  {
   "cell_type": "markdown",
   "metadata": {},
   "source": [
    "<b> Comentário: </b>\n",
    "Plotei as duas juntas para visualizar melhor uma em comparação com a outra.\n",
    "Temos poucos dados fora das medianas (risco central do diagrama de caixa - ou boxplot), acredito por temos poucas amostras para cada valor de idade. Apesar disso, é possível observar que pode haver uma correlação entre idade e massa muscular por pessoas com idade mais baixa ter mais alta massa muscular que pessoas com maior idade."
   ]
  },
  {
   "cell_type": "markdown",
   "metadata": {},
   "source": [
    "### c) Construa o diagrama de dispersão entre a variável idade e a variável massa muscular. Há alguma evidência de associação entre elas? Explique."
   ]
  },
  {
   "cell_type": "code",
   "execution_count": 13,
   "metadata": {},
   "outputs": [
    {
     "data": {
      "image/png": "[encoded data removed]",
      "text/plain": [
       "plot without title"
      ]
     },
     "metadata": {},
     "output_type": "display_data"
    }
   ],
   "source": [
    "plot(data)"
   ]
  },
  {
   "cell_type": "markdown",
   "metadata": {},
   "source": [
    "<b>Resposta:</b> Sim! Por conta dos pontos seguirem uma mesma \"direção\", sendo possível traçar uma reta que se aproximaria bem da maiora dos pontos, parece ter uma relação inversamente proporcional: quanto maior a idade, menor a massa muscular e vice versa."
   ]
  },
  {
   "cell_type": "markdown",
   "metadata": {},
   "source": [
    "### d) Calcule o coeficiente de correlação de Pearson e interprete."
   ]
  },
  {
   "cell_type": "code",
   "execution_count": 14,
   "metadata": {},
   "outputs": [],
   "source": [
    "?cor"
   ]
  },
  {
   "cell_type": "code",
   "execution_count": 15,
   "metadata": {},
   "outputs": [
    {
     "data": {
      "text/html": [
       "-0.836676629264596"
      ],
      "text/latex": [
       "-0.836676629264596"
      ],
      "text/markdown": [
       "-0.836676629264596"
      ],
      "text/plain": [
       "[1] -0.8366766"
      ]
     },
     "metadata": {},
     "output_type": "display_data"
    }
   ],
   "source": [
    "cor(x=data$idade, y=data$massa_muscular, method='pearson')"
   ]
  },
  {
   "cell_type": "markdown",
   "metadata": {},
   "source": [
    "<b>Resposta:</b> Essa correlação é bem alta! E, como havia sido discutida acima, é, de fato, negativa (um valor aumenta quando o outro diminui)."
   ]
  },
  {
   "cell_type": "markdown",
   "metadata": {},
   "source": [
    "### e) Ajuste uma reta de regressão de mínimos quadrados para a relação entre as variáveis Y , massa muscular (dependente), e X, idade (independente). Interprete as estimativas dos parâmetros da reta."
   ]
  },
  {
   "cell_type": "code",
   "execution_count": 16,
   "metadata": {},
   "outputs": [],
   "source": [
    "?lm"
   ]
  },
  {
   "cell_type": "code",
   "execution_count": 17,
   "metadata": {},
   "outputs": [
    {
     "data": {
      "text/plain": [
       "\n",
       "Call:\n",
       "lm(formula = massa_muscular ~ idade, data = data)\n",
       "\n",
       "Coefficients:\n",
       "(Intercept)        idade  \n",
       "    148.197       -1.027  \n"
      ]
     },
     "metadata": {},
     "output_type": "display_data"
    }
   ],
   "source": [
    "modelo <- lm(data=data, formula=massa_muscular~idade)\n",
    "modelo"
   ]
  },
  {
   "cell_type": "code",
   "execution_count": 18,
   "metadata": {},
   "outputs": [
    {
     "data": {
      "text/plain": [
       "\n",
       "Call:\n",
       "lm(formula = massa_muscular ~ idade, data = data)\n",
       "\n",
       "Residuals:\n",
       "    Min      1Q  Median      3Q     Max \n",
       "-12.650  -4.760  -0.317   6.576  14.003 \n",
       "\n",
       "Coefficients:\n",
       "            Estimate Std. Error t value Pr(>|t|)    \n",
       "(Intercept)  148.197     10.505  14.108 1.91e-10 ***\n",
       "idade         -1.027      0.168  -6.111 1.50e-05 ***\n",
       "---\n",
       "Signif. codes:  0 ‘***’ 0.001 ‘**’ 0.01 ‘*’ 0.05 ‘.’ 0.1 ‘ ’ 1\n",
       "\n",
       "Residual standard error: 7.806 on 16 degrees of freedom\n",
       "Multiple R-squared:    0.7,\tAdjusted R-squared:  0.6813 \n",
       "F-statistic: 37.34 on 1 and 16 DF,  p-value: 1.504e-05\n"
      ]
     },
     "metadata": {},
     "output_type": "display_data"
    }
   ],
   "source": [
    "summary(modelo)"
   ]
  },
  {
   "cell_type": "code",
   "execution_count": 19,
   "metadata": {},
   "outputs": [
    {
     "name": "stderr",
     "output_type": "stream",
     "text": [
      "`geom_smooth()` using formula 'y ~ x'\n"
     ]
    },
    {
     "data": {},
     "metadata": {},
     "output_type": "display_data"
    },
    {
     "data": {
      "image/png": "[encoded data removed]",
      "text/plain": [
       "plot without title"
      ]
     },
     "metadata": {},
     "output_type": "display_data"
    }
   ],
   "source": [
    "ggplot(data, aes(x=idade, y=massa_muscular))+geom_point()+geom_smooth(method=lm)"
   ]
  },
  {
   "cell_type": "markdown",
   "metadata": {},
   "source": [
    "<b>Observações: </b>\n",
    "Acima, utilizei o método lm que ajusta a reta de uma regressão linear para as varáveis y (massa_muscular) em função de x (idade). É uma função comum do tipo `f(x) = ax + b`, onde os melhores coeficientes a e b encontrados foram 148.197 e -1.027. Com a instrução `summary(model)`, conseguimos ver que o R² é relativamente alto (0.7), porém o p-value é bem baixo (1.5*10⁻⁵), dando uma maior confiança e credibilidade para a reta de regressão ajustada."
   ]
  },
  {
   "cell_type": "markdown",
   "metadata": {},
   "source": [
    "### f) Considerando a reta estimada dada no item anterior, estime a massa muscular média de mulheres com 50 anos."
   ]
  },
  {
   "cell_type": "code",
   "execution_count": 20,
   "metadata": {},
   "outputs": [
    {
     "data": {
      "text/html": [
       "<strong>1:</strong> 96.8636878410378"
      ],
      "text/latex": [
       "\\textbf{1:} 96.8636878410378"
      ],
      "text/markdown": [
       "**1:** 96.8636878410378"
      ],
      "text/plain": [
       "       1 \n",
       "96.86369 "
      ]
     },
     "metadata": {},
     "output_type": "display_data"
    }
   ],
   "source": [
    "predict(modelo, data.frame(idade=50))"
   ]
  },
  {
   "cell_type": "markdown",
   "metadata": {},
   "source": [
    "## 2. Os dados a seguir correspondem à variável renda familiar e gasto com alimentação (em unidades monetárias) para uma amostra de 25 famílias."
   ]
  },
  {
   "cell_type": "code",
   "execution_count": 21,
   "metadata": {},
   "outputs": [],
   "source": [
    "data <- data.frame(renda_familiar=c(3, 5, 10, 10, 20, 20, 20, 30, 40, 50, 60, 70, 70, 80, 100, 100, 100, 120, 120, \n",
    "                                    140, 150, 180, 180, 200, 200),\n",
    "                   gasto_alimentacao=c(1.5, 2, 6, 7, 10, 12, 15, 8, 10, 20, 20, 25, 30, 25, 40, 35, 40, 30, 40, 40, \n",
    "                                       50, 40, 50, 60, 50))"
   ]
  },
  {
   "cell_type": "code",
   "execution_count": 22,
   "metadata": {},
   "outputs": [
    {
     "data": {
      "text/html": [
       "<table>\n",
       "<thead><tr><th scope=col>renda_familiar</th><th scope=col>gasto_alimentacao</th></tr></thead>\n",
       "<tbody>\n",
       "\t<tr><td> 3  </td><td> 1.5</td></tr>\n",
       "\t<tr><td> 5  </td><td> 2.0</td></tr>\n",
       "\t<tr><td>10  </td><td> 6.0</td></tr>\n",
       "\t<tr><td>10  </td><td> 7.0</td></tr>\n",
       "\t<tr><td>20  </td><td>10.0</td></tr>\n",
       "\t<tr><td>20  </td><td>12.0</td></tr>\n",
       "</tbody>\n",
       "</table>\n"
      ],
      "text/latex": [
       "\\begin{tabular}{r|ll}\n",
       " renda\\_familiar & gasto\\_alimentacao\\\\\n",
       "\\hline\n",
       "\t  3   &  1.5\\\\\n",
       "\t  5   &  2.0\\\\\n",
       "\t 10   &  6.0\\\\\n",
       "\t 10   &  7.0\\\\\n",
       "\t 20   & 10.0\\\\\n",
       "\t 20   & 12.0\\\\\n",
       "\\end{tabular}\n"
      ],
      "text/markdown": [
       "\n",
       "renda_familiar | gasto_alimentacao | \n",
       "|---|---|---|---|---|---|\n",
       "|  3   |  1.5 | \n",
       "|  5   |  2.0 | \n",
       "| 10   |  6.0 | \n",
       "| 10   |  7.0 | \n",
       "| 20   | 10.0 | \n",
       "| 20   | 12.0 | \n",
       "\n",
       "\n"
      ],
      "text/plain": [
       "  renda_familiar gasto_alimentacao\n",
       "1  3              1.5             \n",
       "2  5              2.0             \n",
       "3 10              6.0             \n",
       "4 10              7.0             \n",
       "5 20             10.0             \n",
       "6 20             12.0             "
      ]
     },
     "metadata": {},
     "output_type": "display_data"
    }
   ],
   "source": [
    "head(data)"
   ]
  },
  {
   "cell_type": "markdown",
   "metadata": {},
   "source": [
    "### a) Calcule para ambas as variáveis estatísticas descritivas : média, mediana, desvio-padrão, amplitude, primeiro quartil e terceiro quartil."
   ]
  },
  {
   "cell_type": "markdown",
   "metadata": {},
   "source": [
    "<b>Média, Mediana, Primeiro e Terceiro quartis:</b>"
   ]
  },
  {
   "cell_type": "code",
   "execution_count": 23,
   "metadata": {},
   "outputs": [
    {
     "data": {
      "text/plain": [
       " renda_familiar   gasto_alimentacao\n",
       " Min.   :  3.00   Min.   : 1.50    \n",
       " 1st Qu.: 20.00   1st Qu.:10.00    \n",
       " Median : 70.00   Median :25.00    \n",
       " Mean   : 83.12   Mean   :26.66    \n",
       " 3rd Qu.:120.00   3rd Qu.:40.00    \n",
       " Max.   :200.00   Max.   :60.00    "
      ]
     },
     "metadata": {},
     "output_type": "display_data"
    }
   ],
   "source": [
    "summary(data)"
   ]
  },
  {
   "cell_type": "markdown",
   "metadata": {},
   "source": [
    "<b>Desvios padrão:</b>"
   ]
  },
  {
   "cell_type": "code",
   "execution_count": 24,
   "metadata": {},
   "outputs": [
    {
     "data": {
      "text/html": [
       "64.2944528452235"
      ],
      "text/latex": [
       "64.2944528452235"
      ],
      "text/markdown": [
       "64.2944528452235"
      ],
      "text/plain": [
       "[1] 64.29445"
      ]
     },
     "metadata": {},
     "output_type": "display_data"
    }
   ],
   "source": [
    "sd(data$renda_familiar)"
   ]
  },
  {
   "cell_type": "code",
   "execution_count": 25,
   "metadata": {},
   "outputs": [
    {
     "data": {
      "text/html": [
       "17.2365406428707"
      ],
      "text/latex": [
       "17.2365406428707"
      ],
      "text/markdown": [
       "17.2365406428707"
      ],
      "text/plain": [
       "[1] 17.23654"
      ]
     },
     "metadata": {},
     "output_type": "display_data"
    }
   ],
   "source": [
    "sd(data$gasto_alimentacao)"
   ]
  },
  {
   "cell_type": "markdown",
   "metadata": {},
   "source": [
    "<b>Amplitude:</b>"
   ]
  },
  {
   "cell_type": "code",
   "execution_count": 26,
   "metadata": {},
   "outputs": [
    {
     "data": {
      "text/html": [
       "197"
      ],
      "text/latex": [
       "197"
      ],
      "text/markdown": [
       "197"
      ],
      "text/plain": [
       "[1] 197"
      ]
     },
     "metadata": {},
     "output_type": "display_data"
    }
   ],
   "source": [
    "max(data$renda_familiar) - min(data$renda_familiar)"
   ]
  },
  {
   "cell_type": "code",
   "execution_count": 27,
   "metadata": {},
   "outputs": [
    {
     "data": {
      "text/html": [
       "58.5"
      ],
      "text/latex": [
       "58.5"
      ],
      "text/markdown": [
       "58.5"
      ],
      "text/plain": [
       "[1] 58.5"
      ]
     },
     "metadata": {},
     "output_type": "display_data"
    }
   ],
   "source": [
    "max(data$gasto_alimentacao) - min(data$gasto_alimentacao)"
   ]
  },
  {
   "cell_type": "markdown",
   "metadata": {},
   "source": [
    "### b) Faça para cada uma das variáveis um diagrama de caixa e comente sobre as respectivas distribuições amostrais."
   ]
  },
  {
   "cell_type": "code",
   "execution_count": 28,
   "metadata": {},
   "outputs": [
    {
     "data": {
      "image/png": "[encoded data removed]",
      "text/plain": [
       "plot without title"
      ]
     },
     "metadata": {},
     "output_type": "display_data"
    }
   ],
   "source": [
    "boxplot(data$renda_familiar)"
   ]
  },
  {
   "cell_type": "code",
   "execution_count": 30,
   "metadata": {},
   "outputs": [
    {
     "data": {
      "image/png": "[encoded data removed]",
      "text/plain": [
       "plot without title"
      ]
     },
     "metadata": {},
     "output_type": "display_data"
    }
   ],
   "source": [
    "boxplot(data$gasto_alimentacao)"
   ]
  },
  {
   "cell_type": "markdown",
   "metadata": {},
   "source": [
    "<b>Comentário: </b> Temos alguns valores máximos discrepantes tanto para renda familiar quanto para gasto com alimentação, porém os outros pontos parecem estar bem distribuidos em ambas as variáveis. Na renda familiar, por conta do desvio padrão alto e grande amplitude, temos uma caixa com uma maior distância entre o terceiro e o primeiro quartis."
   ]
  },
  {
   "cell_type": "code",
   "execution_count": 31,
   "metadata": {},
   "outputs": [
    {
     "data": {
      "image/png": "[encoded data removed]",
      "text/plain": [
       "plot without title"
      ]
     },
     "metadata": {},
     "output_type": "display_data"
    }
   ],
   "source": [
    "boxplot(data$renda_familiar ~ data$gasto_alimentacao)"
   ]
  },
  {
   "cell_type": "markdown",
   "metadata": {},
   "source": [
    "<b>Comentário: </b> Parece haver uma correlação também entre ambas variáveis."
   ]
  },
  {
   "cell_type": "markdown",
   "metadata": {},
   "source": [
    "### c) Construa o diagrama de dispersão entre a variável renda familiar e a variável gasto com alimentação. Há alguma evidência de associação entre elas? Explique."
   ]
  },
  {
   "cell_type": "code",
   "execution_count": 33,
   "metadata": {},
   "outputs": [
    {
     "data": {
      "image/png": "[encoded data removed]",
      "text/plain": [
       "plot without title"
      ]
     },
     "metadata": {},
     "output_type": "display_data"
    }
   ],
   "source": [
    "plot(data)"
   ]
  },
  {
   "cell_type": "markdown",
   "metadata": {},
   "source": [
    "<b>Resposta:</b> Sim, há evidências de associação entre elas. Por conta dos pontos seguirem uma mesma \"direção\", sendo possível traçar uma reta que se aproximaria bem da maiora dos pontos, parece ter uma relação diretamente proporcional: quanto maior a renda familiar, maior o gasto das famílais com alimentação."
   ]
  },
  {
   "cell_type": "markdown",
   "metadata": {},
   "source": [
    "### d) Calcule o coeficiente de correlação de Pearson e interprete."
   ]
  },
  {
   "cell_type": "code",
   "execution_count": 34,
   "metadata": {},
   "outputs": [
    {
     "data": {
      "text/html": [
       "0.954050885573831"
      ],
      "text/latex": [
       "0.954050885573831"
      ],
      "text/markdown": [
       "0.954050885573831"
      ],
      "text/plain": [
       "[1] 0.9540509"
      ]
     },
     "metadata": {},
     "output_type": "display_data"
    }
   ],
   "source": [
    "cor(x=data$renda_familiar, y=data$gasto_alimentacao, method='pearson')"
   ]
  },
  {
   "cell_type": "markdown",
   "metadata": {},
   "source": [
    "<b>Resposta:</b> Essa correlação é muito alta! E, como havia sido discutido acima, é, de fato, positiva (um valor aumenta conforme o outro aumenta também)."
   ]
  },
  {
   "cell_type": "markdown",
   "metadata": {},
   "source": [
    "\n",
    "### e) Ajuste uma reta de regressão de mínimos quadrados para a relação entre as variáveis Y, gasto com alimentação (dependente), e X, renda familiar (independente)."
   ]
  },
  {
   "cell_type": "code",
   "execution_count": 38,
   "metadata": {},
   "outputs": [
    {
     "data": {
      "text/plain": [
       "\n",
       "Call:\n",
       "lm(formula = gasto_alimentacao ~ renda_familiar, data = data)\n",
       "\n",
       "Coefficients:\n",
       "   (Intercept)  renda_familiar  \n",
       "        5.4005          0.2558  \n"
      ]
     },
     "metadata": {},
     "output_type": "display_data"
    }
   ],
   "source": [
    "modelo <- lm(data=data, formula=gasto_alimentacao~renda_familiar)\n",
    "modelo"
   ]
  },
  {
   "cell_type": "code",
   "execution_count": 39,
   "metadata": {},
   "outputs": [
    {
     "data": {
      "text/plain": [
       "\n",
       "Call:\n",
       "lm(formula = gasto_alimentacao ~ renda_familiar, data = data)\n",
       "\n",
       "Residuals:\n",
       "     Min       1Q   Median       3Q      Max \n",
       "-11.4389  -4.6678  -0.7466   3.9072   9.0226 \n",
       "\n",
       "Coefficients:\n",
       "               Estimate Std. Error t value Pr(>|t|)    \n",
       "(Intercept)     5.40047    1.74695   3.091  0.00515 ** \n",
       "renda_familiar  0.25577    0.01675  15.270 1.57e-13 ***\n",
       "---\n",
       "Signif. codes:  0 ‘***’ 0.001 ‘**’ 0.01 ‘*’ 0.05 ‘.’ 0.1 ‘ ’ 1\n",
       "\n",
       "Residual standard error: 5.276 on 23 degrees of freedom\n",
       "Multiple R-squared:  0.9102,\tAdjusted R-squared:  0.9063 \n",
       "F-statistic: 233.2 on 1 and 23 DF,  p-value: 1.574e-13\n"
      ]
     },
     "metadata": {},
     "output_type": "display_data"
    }
   ],
   "source": [
    "summary(modelo)"
   ]
  },
  {
   "cell_type": "code",
   "execution_count": 41,
   "metadata": {},
   "outputs": [
    {
     "name": "stderr",
     "output_type": "stream",
     "text": [
      "`geom_smooth()` using formula 'y ~ x'\n"
     ]
    },
    {
     "data": {},
     "metadata": {},
     "output_type": "display_data"
    },
    {
     "data": {
      "image/png": "[encoded data removed]",
      "text/plain": [
       "plot without title"
      ]
     },
     "metadata": {},
     "output_type": "display_data"
    }
   ],
   "source": [
    "ggplot(data, aes(x=renda_familiar, y=gasto_alimentacao))+geom_point()+geom_smooth(method=lm)"
   ]
  },
  {
   "cell_type": "markdown",
   "metadata": {},
   "source": [
    "### f) Qual o significado prático do valor da inclinação da reta de regressão do item anterior?\n",
    "<b>Resposta:</b> O significado prático é que o gasto de alimentação varia positivamente com um grau de 0.2558 para cada valor de renda_familiar pertencente aos reais."
   ]
  },
  {
   "cell_type": "markdown",
   "metadata": {},
   "source": [
    "## 3. Um pesquisador deseja verifocar se um instrumento para medir a concentração de determinada substância no sangue está bem calibrado. Para isto, ele tomou 15 amostras de concentrações conhecidas (X) e determinou a respectiva concentração através do instrumento (Y ), obtendo:"
   ]
  },
  {
   "cell_type": "code",
   "execution_count": 43,
   "metadata": {},
   "outputs": [],
   "source": [
    "data <- data.frame(x=c(2, 2, 2, 4, 4, 4, 6, 6, 6, 8, 8, 8, 10, 10, 10),\n",
    "                   y=c(2.1, 1.8, 1.9, 4.5, 4.2, 4, 6.2, 6, 6.5, 8.2, 7.8, 7.7, 9.6, 10, 10.1))"
   ]
  },
  {
   "cell_type": "markdown",
   "metadata": {},
   "source": [
    "### a) Calcule para ambas as variáveis estatísticas descritivas : média, mediana, desvio-padrão, amplitude, primeiro quartil e terceiro quartil."
   ]
  },
  {
   "cell_type": "markdown",
   "metadata": {},
   "source": [
    "<b>Média, Mediana, Primeiro e Terceiro quartis:</b>"
   ]
  },
  {
   "cell_type": "code",
   "execution_count": 44,
   "metadata": {},
   "outputs": [
    {
     "data": {
      "text/plain": [
       "       x            y        \n",
       " Min.   : 2   Min.   : 1.80  \n",
       " 1st Qu.: 4   1st Qu.: 4.10  \n",
       " Median : 6   Median : 6.20  \n",
       " Mean   : 6   Mean   : 6.04  \n",
       " 3rd Qu.: 8   3rd Qu.: 8.00  \n",
       " Max.   :10   Max.   :10.10  "
      ]
     },
     "metadata": {},
     "output_type": "display_data"
    }
   ],
   "source": [
    "summary(data)"
   ]
  },
  {
   "cell_type": "markdown",
   "metadata": {},
   "source": [
    "<b>Desvios padrão:</b>"
   ]
  },
  {
   "cell_type": "code",
   "execution_count": 45,
   "metadata": {},
   "outputs": [
    {
     "data": {
      "text/html": [
       "2.9277002188456"
      ],
      "text/latex": [
       "2.9277002188456"
      ],
      "text/markdown": [
       "2.9277002188456"
      ],
      "text/plain": [
       "[1] 2.9277"
      ]
     },
     "metadata": {},
     "output_type": "display_data"
    }
   ],
   "source": [
    "sd(data$x)"
   ]
  },
  {
   "cell_type": "code",
   "execution_count": 46,
   "metadata": {},
   "outputs": [
    {
     "data": {
      "text/html": [
       "2.88042655571308"
      ],
      "text/latex": [
       "2.88042655571308"
      ],
      "text/markdown": [
       "2.88042655571308"
      ],
      "text/plain": [
       "[1] 2.880427"
      ]
     },
     "metadata": {},
     "output_type": "display_data"
    }
   ],
   "source": [
    "sd(data$y)"
   ]
  },
  {
   "cell_type": "markdown",
   "metadata": {},
   "source": [
    "<b>Amplitude:</b>"
   ]
  },
  {
   "cell_type": "code",
   "execution_count": 47,
   "metadata": {},
   "outputs": [
    {
     "data": {
      "text/html": [
       "8"
      ],
      "text/latex": [
       "8"
      ],
      "text/markdown": [
       "8"
      ],
      "text/plain": [
       "[1] 8"
      ]
     },
     "metadata": {},
     "output_type": "display_data"
    }
   ],
   "source": [
    "max(data$x) - min(data$x)"
   ]
  },
  {
   "cell_type": "code",
   "execution_count": 48,
   "metadata": {},
   "outputs": [
    {
     "data": {
      "text/html": [
       "8.3"
      ],
      "text/latex": [
       "8.3"
      ],
      "text/markdown": [
       "8.3"
      ],
      "text/plain": [
       "[1] 8.3"
      ]
     },
     "metadata": {},
     "output_type": "display_data"
    }
   ],
   "source": [
    "max(data$y) - min(data$y)"
   ]
  },
  {
   "cell_type": "markdown",
   "metadata": {},
   "source": [
    "### b) Faça, em um único gráfico, um diagrama de caixa para a concentração conhecida (X) e outro para a concentração medida pelo aparelho (Y ). Comente."
   ]
  },
  {
   "cell_type": "code",
   "execution_count": 49,
   "metadata": {},
   "outputs": [
    {
     "data": {
      "image/png": "[encoded data removed]",
      "text/plain": [
       "plot without title"
      ]
     },
     "metadata": {},
     "output_type": "display_data"
    }
   ],
   "source": [
    "boxplot(data$x)"
   ]
  },
  {
   "cell_type": "code",
   "execution_count": 51,
   "metadata": {},
   "outputs": [
    {
     "data": {
      "image/png": "[encoded data removed]",
      "text/plain": [
       "plot without title"
      ]
     },
     "metadata": {},
     "output_type": "display_data"
    }
   ],
   "source": [
    "boxplot(data$y)"
   ]
  },
  {
   "cell_type": "code",
   "execution_count": 50,
   "metadata": {},
   "outputs": [
    {
     "data": {
      "image/png": "[encoded data removed]",
      "text/plain": [
       "plot without title"
      ]
     },
     "metadata": {},
     "output_type": "display_data"
    }
   ],
   "source": [
    "boxplot(data$x ~ data$y)"
   ]
  },
  {
   "cell_type": "markdown",
   "metadata": {},
   "source": [
    "<b>Comentário: </b> Os valores são bem próximos, com diferença na magnitude de casas decimais."
   ]
  },
  {
   "cell_type": "markdown",
   "metadata": {},
   "source": [
    "### c) Construa o diagrama de dispersão entre as variáveis X e Y ? Comente."
   ]
  },
  {
   "cell_type": "code",
   "execution_count": 52,
   "metadata": {},
   "outputs": [
    {
     "data": {
      "image/png": "[encoded data removed]",
      "text/plain": [
       "plot without title"
      ]
     },
     "metadata": {},
     "output_type": "display_data"
    }
   ],
   "source": [
    "plot(data)"
   ]
  },
  {
   "cell_type": "markdown",
   "metadata": {},
   "source": [
    "<b>Comentário:</b> Os valores das medições de x e y, apesar de próximos, têm diferenças sutis."
   ]
  },
  {
   "cell_type": "markdown",
   "metadata": {},
   "source": [
    "### d) Calcule o coeficiente de correlação de Pearson e interprete."
   ]
  },
  {
   "cell_type": "code",
   "execution_count": 53,
   "metadata": {},
   "outputs": [
    {
     "data": {
      "text/html": [
       "0.996083794873359"
      ],
      "text/latex": [
       "0.996083794873359"
      ],
      "text/markdown": [
       "0.996083794873359"
      ],
      "text/plain": [
       "[1] 0.9960838"
      ]
     },
     "metadata": {},
     "output_type": "display_data"
    }
   ],
   "source": [
    "cor(x=data$x, y=data$y, method='pearson')"
   ]
  },
  {
   "cell_type": "markdown",
   "metadata": {},
   "source": [
    "<b>Resposta:</b> Essa correlação é altíssima! Como havia sido discutido acima, os valores são bem próximos, porém levemente diferentes."
   ]
  },
  {
   "cell_type": "markdown",
   "metadata": {},
   "source": [
    "### e) Ajuste uma reta de regressão de mínimos quadrados para a relação entre as variáveis Y , concentração mensurada no aparelho (dependente), e X, concentração conhecida (independente)."
   ]
  },
  {
   "cell_type": "code",
   "execution_count": 54,
   "metadata": {},
   "outputs": [
    {
     "data": {
      "text/plain": [
       "\n",
       "Call:\n",
       "lm(formula = y ~ x, data = data)\n",
       "\n",
       "Coefficients:\n",
       "(Intercept)            x  \n",
       "       0.16         0.98  \n"
      ]
     },
     "metadata": {},
     "output_type": "display_data"
    }
   ],
   "source": [
    "modelo <- lm(data=data, formula=y~x)\n",
    "modelo"
   ]
  },
  {
   "cell_type": "code",
   "execution_count": 55,
   "metadata": {},
   "outputs": [
    {
     "data": {
      "text/plain": [
       "\n",
       "Call:\n",
       "lm(formula = y ~ x, data = data)\n",
       "\n",
       "Residuals:\n",
       "   Min     1Q Median     3Q    Max \n",
       " -0.36  -0.21  -0.02   0.15   0.46 \n",
       "\n",
       "Coefficients:\n",
       "            Estimate Std. Error t value Pr(>|t|)    \n",
       "(Intercept)  0.16000    0.16003    1.00    0.336    \n",
       "x            0.98000    0.02413   40.62 4.39e-15 ***\n",
       "---\n",
       "Signif. codes:  0 ‘***’ 0.001 ‘**’ 0.01 ‘*’ 0.05 ‘.’ 0.1 ‘ ’ 1\n",
       "\n",
       "Residual standard error: 0.2643 on 13 degrees of freedom\n",
       "Multiple R-squared:  0.9922,\tAdjusted R-squared:  0.9916 \n",
       "F-statistic:  1650 on 1 and 13 DF,  p-value: 4.394e-15\n"
      ]
     },
     "metadata": {},
     "output_type": "display_data"
    }
   ],
   "source": [
    "summary(modelo)"
   ]
  },
  {
   "cell_type": "code",
   "execution_count": 57,
   "metadata": {},
   "outputs": [
    {
     "name": "stderr",
     "output_type": "stream",
     "text": [
      "`geom_smooth()` using formula 'y ~ x'\n"
     ]
    },
    {
     "data": {},
     "metadata": {},
     "output_type": "display_data"
    },
    {
     "data": {
      "image/png": "[encoded data removed]",
      "text/plain": [
       "plot without title"
      ]
     },
     "metadata": {},
     "output_type": "display_data"
    }
   ],
   "source": [
    "ggplot(data, aes(x=x, y=y))+geom_point()+geom_smooth(method=lm)"
   ]
  },
  {
   "cell_type": "markdown",
   "metadata": {},
   "source": [
    "### f) Com base nos itens anteriores tire conclusões sobre a eficiência do instrumento. Há evidências de que o instrumento esteja descalibrado?\n",
    "<b>Resposta: </b> O instrumento parece bem eficiente por apresentar medições com valores bem próximos dos esperados. Porém sim, ele apresenta evidências de que esteja descalibrado, que podem ser observadas com a correlação super alta, porém ainda menor que 1 e com os gráficos mostrando a proximidade dos valores das medições."
   ]
  }
 ],
 "metadata": {
  "kernelspec": {
   "display_name": "R",
   "language": "R",
   "name": "ir"
  },
  "language_info": {
   "codemirror_mode": "r",
   "file_extension": ".r",
   "mimetype": "text/x-r-source",
   "name": "R",
   "pygments_lexer": "r",
   "version": "3.4.3"
  }
 },
 "nbformat": 4,
 "nbformat_minor": 2
}
